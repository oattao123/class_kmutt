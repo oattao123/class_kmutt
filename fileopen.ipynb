{
  "nbformat": 4,
  "nbformat_minor": 0,
  "metadata": {
    "colab": {
      "provenance": [],
      "collapsed_sections": [],
      "authorship_tag": "ABX9TyNyNYvr64le1MIlXouOrQCz",
      "include_colab_link": true
    },
    "kernelspec": {
      "name": "python3",
      "display_name": "Python 3"
    },
    "language_info": {
      "name": "python"
    }
  },
  "cells": [
    {
      "cell_type": "markdown",
      "metadata": {
        "id": "view-in-github",
        "colab_type": "text"
      },
      "source": [
        "<a href=\"https://colab.research.google.com/github/oattao123/lab_kmutt/blob/main/fileopen.ipynb\" target=\"_parent\"><img src=\"https://colab.research.google.com/assets/colab-badge.svg\" alt=\"Open In Colab\"/></a>"
      ]
    },
    {
      "cell_type": "code",
      "source": [
        "# Download Example file\n",
        "\n",
        "!wget /resources/data/Example1.txt https://s3-api.us-geo.objectstorage.softlayer.net/cf-courses-data/CognitiveClass/PY0101EN/labs/example1.txt"
      ],
      "metadata": {
        "colab": {
          "base_uri": "https://localhost:8080/"
        },
        "id": "3VGybSd939Cd",
        "outputId": "1529da43-2143-43b4-fdcc-a40347f916d6"
      },
      "execution_count": null,
      "outputs": [
        {
          "output_type": "stream",
          "name": "stdout",
          "text": [
            "/resources/data/Example1.txt: Scheme missing.\n",
            "--2022-09-28 02:24:14--  https://s3-api.us-geo.objectstorage.softlayer.net/cf-courses-data/CognitiveClass/PY0101EN/labs/example1.txt\n",
            "Resolving s3-api.us-geo.objectstorage.softlayer.net (s3-api.us-geo.objectstorage.softlayer.net)... 67.228.254.196\n",
            "Connecting to s3-api.us-geo.objectstorage.softlayer.net (s3-api.us-geo.objectstorage.softlayer.net)|67.228.254.196|:443... connected.\n",
            "HTTP request sent, awaiting response... 200 OK\n",
            "Length: 45 [text/plain]\n",
            "Saving to: ‘example1.txt’\n",
            "\n",
            "example1.txt        100%[===================>]      45  --.-KB/s    in 0s      \n",
            "\n",
            "2022-09-28 02:24:14 (8.10 MB/s) - ‘example1.txt’ saved [45/45]\n",
            "\n",
            "FINISHED --2022-09-28 02:24:14--\n",
            "Total wall clock time: 0.4s\n",
            "Downloaded: 1 files, 45 in 0s (8.10 MB/s)\n"
          ]
        }
      ]
    },
    {
      "cell_type": "code",
      "execution_count": null,
      "metadata": {
        "colab": {
          "base_uri": "https://localhost:8080/"
        },
        "id": "ynn3ESBRoAKJ",
        "outputId": "86a7f6a7-824f-48ac-b99b-771f108e701c"
      },
      "outputs": [
        {
          "output_type": "stream",
          "name": "stdout",
          "text": [
            "testtest\n",
            "oattao\n",
            "loolool\n"
          ]
        }
      ],
      "source": [
        "file1 = open(\"/content/test.txt\",\"r\")\n",
        "print(file1.read())"
      ]
    },
    {
      "cell_type": "code",
      "source": [
        "file2 = open(\"/content/example1.txt\",\"r\")\n",
        "print(file2.readline())\n",
        "print(file2.readline())\n",
        "file2.close()"
      ],
      "metadata": {
        "colab": {
          "base_uri": "https://localhost:8080/"
        },
        "id": "4NJm-fZl65Pj",
        "outputId": "9472efe3-9d95-48fb-f8d2-90ad2eadae92"
      },
      "execution_count": null,
      "outputs": [
        {
          "output_type": "stream",
          "name": "stdout",
          "text": [
            "This is line 1 \n",
            "\n",
            "This is line 2\n",
            "\n"
          ]
        },
        {
          "output_type": "execute_result",
          "data": {
            "text/plain": [
              "<function TextIOWrapper.close()>"
            ]
          },
          "metadata": {},
          "execution_count": 18
        }
      ]
    },
    {
      "cell_type": "code",
      "source": [
        "file2 = open(\"/content/example1.txt\",\"r\")\n",
        "print(file2.read())\n",
        "file2.close()"
      ],
      "metadata": {
        "colab": {
          "base_uri": "https://localhost:8080/"
        },
        "id": "qNK4LD897lki",
        "outputId": "225a5716-dadb-408b-bc07-4c9c3970b2cb"
      },
      "execution_count": null,
      "outputs": [
        {
          "output_type": "stream",
          "name": "stdout",
          "text": [
            "This is line 1 \n",
            "This is line 2\n",
            "This is line 3\n"
          ]
        }
      ]
    },
    {
      "cell_type": "code",
      "source": [
        "file2 = open(\"/content/example1.txt\",\"r\")\n",
        "for x in file2:\n",
        "  print(x)"
      ],
      "metadata": {
        "colab": {
          "base_uri": "https://localhost:8080/"
        },
        "id": "nNI3EctM7GG0",
        "outputId": "b5abd876-1baa-45fc-ce5e-9891e242a805"
      },
      "execution_count": null,
      "outputs": [
        {
          "output_type": "stream",
          "name": "stdout",
          "text": [
            "This is line 1 \n",
            "\n",
            "This is line 2\n",
            "\n",
            "This is line 3\n"
          ]
        }
      ]
    },
    {
      "cell_type": "code",
      "source": [
        "try:\n",
        "  file = open(\"/content/test.txt\",encoding = 'utf-8')\n",
        "  for x in file:\n",
        "    print(x)\n",
        "finally:\n",
        "  file.close"
      ],
      "metadata": {
        "colab": {
          "base_uri": "https://localhost:8080/"
        },
        "id": "bFxMJLax8G97",
        "outputId": "2ae4b1c4-13b1-4c17-eabc-aead19a88e87"
      },
      "execution_count": null,
      "outputs": [
        {
          "output_type": "stream",
          "name": "stdout",
          "text": [
            "testtest\n",
            "\n",
            "oattao\n",
            "\n",
            "loolool\n"
          ]
        }
      ]
    },
    {
      "cell_type": "code",
      "source": [
        "with open(\"/content/test.txt\",\"w\",encoding='utf-8') as f:\n",
        "  f.write(\"my first file\\n\")\n",
        "  f.write(\"This file\\n\")\n",
        "  f.write(\"contains three lines\\n\")"
      ],
      "metadata": {
        "id": "i4E6yq8R8rmQ"
      },
      "execution_count": null,
      "outputs": []
    },
    {
      "cell_type": "code",
      "source": [
        "f = open(\"/content/test.txt\",\"r\")\n",
        "print(f.read())"
      ],
      "metadata": {
        "colab": {
          "base_uri": "https://localhost:8080/"
        },
        "id": "zMv5MCB49ObH",
        "outputId": "b599c107-2055-4032-d8ff-060525a31d64"
      },
      "execution_count": null,
      "outputs": [
        {
          "output_type": "stream",
          "name": "stdout",
          "text": [
            "my first file\n",
            "This file\n",
            "contains three lines\n",
            "\n"
          ]
        }
      ]
    },
    {
      "cell_type": "code",
      "source": [
        "file_write = open(\"/test/exampletext.txt\",\"w\")\n",
        "file_write.write(\"oattao\\n\")\n",
        "file_write.write(\"gooddoog\")"
      ],
      "metadata": {
        "colab": {
          "base_uri": "https://localhost:8080/"
        },
        "id": "9oxuRSB_9gFu",
        "outputId": "1eb495f2-0b65-4aad-c51d-48abfa576082"
      },
      "execution_count": 40,
      "outputs": [
        {
          "output_type": "execute_result",
          "data": {
            "text/plain": [
              "8"
            ]
          },
          "metadata": {},
          "execution_count": 40
        }
      ]
    },
    {
      "cell_type": "code",
      "source": [
        "file_write = open(\"/test/exampletext.txt\",\"r\")\n",
        "print(file_write.read())"
      ],
      "metadata": {
        "colab": {
          "base_uri": "https://localhost:8080/"
        },
        "id": "BOZsz8qp_vuy",
        "outputId": "1cea8127-ccdd-424f-abb6-7c54ab778e33"
      },
      "execution_count": 41,
      "outputs": [
        {
          "output_type": "stream",
          "name": "stdout",
          "text": [
            "oattao\n",
            "gooddoog\n"
          ]
        }
      ]
    },
    {
      "cell_type": "code",
      "source": [
        "print(file_write.name)\n",
        "print(file_write.mode)"
      ],
      "metadata": {
        "colab": {
          "base_uri": "https://localhost:8080/"
        },
        "id": "NP_Y6wodAAs5",
        "outputId": "03ea86fd-3b65-4f5b-cb9a-1c24a2926c8e"
      },
      "execution_count": 44,
      "outputs": [
        {
          "output_type": "stream",
          "name": "stdout",
          "text": [
            "/test/exampletext.txt\n",
            "r\n"
          ]
        }
      ]
    },
    {
      "cell_type": "code",
      "source": [
        "content = file_write.read()\n",
        "print(type(content))"
      ],
      "metadata": {
        "colab": {
          "base_uri": "https://localhost:8080/"
        },
        "id": "L26swfnBAdpN",
        "outputId": "ae6d2962-a0de-40df-def8-0a52ca13e476"
      },
      "execution_count": 46,
      "outputs": [
        {
          "output_type": "stream",
          "name": "stdout",
          "text": [
            "<class 'str'>\n"
          ]
        }
      ]
    },
    {
      "cell_type": "code",
      "source": [
        "with open(\"/test/exampletext.txt\",\"r\") as f:\n",
        "  print(f.read(6))\n",
        "  f.close()"
      ],
      "metadata": {
        "colab": {
          "base_uri": "https://localhost:8080/"
        },
        "id": "6z72jzRIA_sc",
        "outputId": "f4fe6ec6-e3c9-4b6d-9060-2044eee1e674"
      },
      "execution_count": 49,
      "outputs": [
        {
          "output_type": "stream",
          "name": "stdout",
          "text": [
            "oattao\n"
          ]
        }
      ]
    },
    {
      "cell_type": "code",
      "source": [
        "# Download Example file\n",
        "\n",
        "!wget /resources/data/Example1.txt https://s3-api.us-geo.objectstorage.softlayer.net/cf-courses-data/CognitiveClass/PY0101EN/labs/example1.txt"
      ],
      "metadata": {
        "colab": {
          "base_uri": "https://localhost:8080/"
        },
        "id": "ZOWmlXGMC5Hz",
        "outputId": "3badbdc0-57f3-4e41-b673-71f923c1b6d2"
      },
      "execution_count": 50,
      "outputs": [
        {
          "output_type": "stream",
          "name": "stdout",
          "text": [
            "/resources/data/Example1.txt: Scheme missing.\n",
            "--2022-09-28 03:03:08--  https://s3-api.us-geo.objectstorage.softlayer.net/cf-courses-data/CognitiveClass/PY0101EN/labs/example1.txt\n",
            "Resolving s3-api.us-geo.objectstorage.softlayer.net (s3-api.us-geo.objectstorage.softlayer.net)... 67.228.254.196\n",
            "Connecting to s3-api.us-geo.objectstorage.softlayer.net (s3-api.us-geo.objectstorage.softlayer.net)|67.228.254.196|:443... connected.\n",
            "HTTP request sent, awaiting response... 200 OK\n",
            "Length: 45 [text/plain]\n",
            "Saving to: ‘example1.txt.1’\n",
            "\n",
            "example1.txt.1      100%[===================>]      45  --.-KB/s    in 0s      \n",
            "\n",
            "2022-09-28 03:03:08 (9.90 MB/s) - ‘example1.txt.1’ saved [45/45]\n",
            "\n",
            "FINISHED --2022-09-28 03:03:08--\n",
            "Total wall clock time: 0.3s\n",
            "Downloaded: 1 files, 45 in 0s (9.90 MB/s)\n"
          ]
        }
      ]
    },
    {
      "cell_type": "code",
      "source": [
        "with open(\"/content/example2.txt\",\"r\") as file1:\n",
        " print(file1.read(4))\n",
        " print(file1.read(4))\n",
        " print(file1.read(7))\n",
        " print(file1.read(15))"
      ],
      "metadata": {
        "colab": {
          "base_uri": "https://localhost:8080/"
        },
        "id": "DNjaVFVCDY_P",
        "outputId": "653c1d41-7d41-401f-c902-8d2fe8a9a3ff"
      },
      "execution_count": 53,
      "outputs": [
        {
          "output_type": "stream",
          "name": "stdout",
          "text": [
            "This\n",
            " is \n",
            "line 1 \n",
            "\n",
            "This is line 2\n"
          ]
        }
      ]
    },
    {
      "cell_type": "code",
      "source": [
        "with open(\"/content/example2.txt\",\"r\") as file2:\n",
        "  print(\"first line: \" + file2.readline())"
      ],
      "metadata": {
        "colab": {
          "base_uri": "https://localhost:8080/"
        },
        "id": "6Oy6WXHbEUUz",
        "outputId": "5e3c3dc0-0960-4669-87dd-0df01d888da5"
      },
      "execution_count": 55,
      "outputs": [
        {
          "output_type": "stream",
          "name": "stdout",
          "text": [
            "first line: This is line 1 \n",
            "\n"
          ]
        }
      ]
    },
    {
      "cell_type": "code",
      "source": [
        "exam1 = \"/content/example2.txt\"\n",
        "with open(exam1,\"r\") as file:\n",
        "  i = 0\n",
        "  for line in file:\n",
        "    print(\"Iteration\", str(i), \": \",line)\n",
        "    i = i + 1;"
      ],
      "metadata": {
        "colab": {
          "base_uri": "https://localhost:8080/"
        },
        "id": "EawCtkttEfbh",
        "outputId": "420a6f22-a29a-4967-a8da-46fb1e2d4a83"
      },
      "execution_count": 58,
      "outputs": [
        {
          "output_type": "stream",
          "name": "stdout",
          "text": [
            "Iteration 0 :  This is line 1 \n",
            "\n",
            "Iteration 1 :  This is line 2\n",
            "\n",
            "Iteration 2 :  This is line 3\n"
          ]
        }
      ]
    },
    {
      "cell_type": "code",
      "source": [
        "with open(exam1,\"r\") as file1:\n",
        "  filelist = file1.readlines()\n"
      ],
      "metadata": {
        "id": "jJqzaMK1Frb5"
      },
      "execution_count": 59,
      "outputs": []
    },
    {
      "cell_type": "code",
      "source": [
        "print(type(filelist))"
      ],
      "metadata": {
        "colab": {
          "base_uri": "https://localhost:8080/"
        },
        "id": "dIRTSl2AGGMy",
        "outputId": "e0260260-f31b-47be-97e6-8637c3b05fe9"
      },
      "execution_count": 61,
      "outputs": [
        {
          "output_type": "stream",
          "name": "stdout",
          "text": [
            "<class 'list'>\n"
          ]
        }
      ]
    },
    {
      "cell_type": "code",
      "source": [
        "print(filelist[0])"
      ],
      "metadata": {
        "colab": {
          "base_uri": "https://localhost:8080/"
        },
        "id": "Wzh8odzfGJ97",
        "outputId": "fae6be55-22e0-4644-cc79-a9006303bf42"
      },
      "execution_count": 62,
      "outputs": [
        {
          "output_type": "stream",
          "name": "stdout",
          "text": [
            "This is line 1 \n",
            "\n"
          ]
        }
      ]
    },
    {
      "cell_type": "code",
      "source": [
        "print(filelist[1])"
      ],
      "metadata": {
        "colab": {
          "base_uri": "https://localhost:8080/"
        },
        "id": "CkyqchhHGSIH",
        "outputId": "1da6174b-c489-42d3-8733-6a73a7a0c4f2"
      },
      "execution_count": 63,
      "outputs": [
        {
          "output_type": "stream",
          "name": "stdout",
          "text": [
            "This is line 2\n",
            "\n"
          ]
        }
      ]
    }
  ]
}