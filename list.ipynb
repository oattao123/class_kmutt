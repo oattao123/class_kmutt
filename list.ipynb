{
  "nbformat": 4,
  "nbformat_minor": 0,
  "metadata": {
    "colab": {
      "provenance": [],
      "authorship_tag": "ABX9TyOwH6QYXFSOhV9IixtR6GlZ",
      "include_colab_link": true
    },
    "kernelspec": {
      "name": "python3",
      "display_name": "Python 3"
    },
    "language_info": {
      "name": "python"
    }
  },
  "cells": [
    {
      "cell_type": "markdown",
      "metadata": {
        "id": "view-in-github",
        "colab_type": "text"
      },
      "source": [
        "<a href=\"https://colab.research.google.com/github/oattao123/class_kmutt/blob/main/list.ipynb\" target=\"_parent\"><img src=\"https://colab.research.google.com/assets/colab-badge.svg\" alt=\"Open In Colab\"/></a>"
      ]
    },
    {
      "cell_type": "markdown",
      "source": [
        "#List of List"
      ],
      "metadata": {
        "id": "lOa3OKH_46tT"
      }
    },
    {
      "cell_type": "code",
      "execution_count": null,
      "metadata": {
        "colab": {
          "base_uri": "https://localhost:8080/"
        },
        "id": "I_7Sb7AJ4yHT",
        "outputId": "93bca24f-c64a-4470-a5c8-177822465ba1"
      },
      "outputs": [
        {
          "output_type": "stream",
          "name": "stdout",
          "text": [
            "['cc', 'dd', ['eee', 'fff']]\n"
          ]
        }
      ],
      "source": [
        "L = ['a', 'b', ['cc','dd',['eee','fff']], 'g','h']\n",
        "\n",
        "print(L[2])"
      ]
    },
    {
      "cell_type": "code",
      "source": [
        "print(L[2][2])"
      ],
      "metadata": {
        "colab": {
          "base_uri": "https://localhost:8080/"
        },
        "id": "Vbg4piSr5M9u",
        "outputId": "e6135bf2-fe26-41e2-9ec0-67c9eadba1fd"
      },
      "execution_count": null,
      "outputs": [
        {
          "output_type": "stream",
          "name": "stdout",
          "text": [
            "['eee', 'fff']\n"
          ]
        }
      ]
    },
    {
      "cell_type": "code",
      "source": [
        "print(L[2][2][0])"
      ],
      "metadata": {
        "colab": {
          "base_uri": "https://localhost:8080/"
        },
        "id": "BBSZM9-45Vh0",
        "outputId": "ac7b312c-b17f-4e79-947c-657ace19bf91"
      },
      "execution_count": null,
      "outputs": [
        {
          "output_type": "stream",
          "name": "stdout",
          "text": [
            "eee\n"
          ]
        }
      ]
    },
    {
      "cell_type": "code",
      "source": [
        "print(L[-3])"
      ],
      "metadata": {
        "colab": {
          "base_uri": "https://localhost:8080/"
        },
        "id": "JCCcP-vO5bbC",
        "outputId": "1abf04f4-e808-42f1-f166-441ba114faf8"
      },
      "execution_count": null,
      "outputs": [
        {
          "output_type": "stream",
          "name": "stdout",
          "text": [
            "['cc', 'dd', ['eee', 'fff']]\n"
          ]
        }
      ]
    },
    {
      "cell_type": "code",
      "source": [
        "print(L[-3][-1])"
      ],
      "metadata": {
        "colab": {
          "base_uri": "https://localhost:8080/"
        },
        "id": "y3f-pIOX5kom",
        "outputId": "d2e38764-2531-49e2-8b2b-9e398a6c35b8"
      },
      "execution_count": null,
      "outputs": [
        {
          "output_type": "stream",
          "name": "stdout",
          "text": [
            "['eee', 'fff']\n"
          ]
        }
      ]
    },
    {
      "cell_type": "code",
      "source": [
        "print(L[-3][-1][-2])"
      ],
      "metadata": {
        "colab": {
          "base_uri": "https://localhost:8080/"
        },
        "id": "CkWgsCqy5q8u",
        "outputId": "68ee19e6-fba1-4e7f-9788-ece28af00d14"
      },
      "execution_count": null,
      "outputs": [
        {
          "output_type": "stream",
          "name": "stdout",
          "text": [
            "eee\n"
          ]
        }
      ]
    },
    {
      "cell_type": "code",
      "source": [
        "L = ['a', ['bb',['ccc','ddd'],'ee','ff'],'g','h']\n",
        "print(L[1][1][0]) #Positive index"
      ],
      "metadata": {
        "colab": {
          "base_uri": "https://localhost:8080/"
        },
        "id": "4CvqAlpq5u-O",
        "outputId": "ad214847-beca-4c55-dced-4cea35329b9e"
      },
      "execution_count": null,
      "outputs": [
        {
          "output_type": "stream",
          "name": "stdout",
          "text": [
            "ccc\n"
          ]
        }
      ]
    },
    {
      "cell_type": "code",
      "source": [
        "print(L[-3][-3][-2]) #Negative index"
      ],
      "metadata": {
        "colab": {
          "base_uri": "https://localhost:8080/"
        },
        "id": "v0bVPg-56HaV",
        "outputId": "1319ddac-c067-4e87-d784-95cccde6a8c1"
      },
      "execution_count": null,
      "outputs": [
        {
          "output_type": "stream",
          "name": "stdout",
          "text": [
            "ccc\n"
          ]
        }
      ]
    },
    {
      "cell_type": "code",
      "source": [
        "L[1][1] = 0\n",
        "print(L)"
      ],
      "metadata": {
        "colab": {
          "base_uri": "https://localhost:8080/"
        },
        "id": "CfsQ1dBJ6PjK",
        "outputId": "8e3c2c4d-994c-400c-a3a5-dd35e4833408"
      },
      "execution_count": null,
      "outputs": [
        {
          "output_type": "stream",
          "name": "stdout",
          "text": [
            "['a', ['bb', 0, 'ee', 'ff'], 'g', 'h']\n"
          ]
        }
      ]
    },
    {
      "cell_type": "code",
      "source": [
        "L[1].append('xx')\n",
        "print(L)"
      ],
      "metadata": {
        "colab": {
          "base_uri": "https://localhost:8080/"
        },
        "id": "sLGSlnyF7BUe",
        "outputId": "b9bf1689-4eb1-45bc-f533-77b94cf6c89d"
      },
      "execution_count": null,
      "outputs": [
        {
          "output_type": "stream",
          "name": "stdout",
          "text": [
            "['a', ['bb', 0, 'ee', 'ff', 'xx'], 'g', 'h']\n"
          ]
        }
      ]
    },
    {
      "cell_type": "code",
      "source": [
        "L[1].insert(0,'yyyy')\n",
        "print(L)"
      ],
      "metadata": {
        "colab": {
          "base_uri": "https://localhost:8080/"
        },
        "id": "icCvZyz_7IPF",
        "outputId": "6775e0a6-f9e4-4afc-8010-5e77caf91e71"
      },
      "execution_count": null,
      "outputs": [
        {
          "output_type": "stream",
          "name": "stdout",
          "text": [
            "['a', ['yyyy', 'bb', 0, 'ee', 'ff', 'xx'], 'g', 'h']\n"
          ]
        }
      ]
    },
    {
      "cell_type": "code",
      "source": [
        "del L[1][1]\n",
        "print(L)"
      ],
      "metadata": {
        "colab": {
          "base_uri": "https://localhost:8080/"
        },
        "id": "gsHxFMZh7UUX",
        "outputId": "29a30dfb-a167-418d-b780-efd5e7dd673c"
      },
      "execution_count": null,
      "outputs": [
        {
          "output_type": "stream",
          "name": "stdout",
          "text": [
            "['a', ['yyyy', 0, 'ee', 'ff', 'xx'], 'g', 'h']\n"
          ]
        }
      ]
    },
    {
      "cell_type": "code",
      "source": [
        "Lladd = ['yyyy', 0 , 'ee' , 'ff', 'xx']\n",
        "L[1].extend(Lladd)\n",
        "print(L)"
      ],
      "metadata": {
        "colab": {
          "base_uri": "https://localhost:8080/"
        },
        "id": "2sDncVK57Y6x",
        "outputId": "b0c3bf01-4a72-496b-da04-3f3d94590143"
      },
      "execution_count": null,
      "outputs": [
        {
          "output_type": "stream",
          "name": "stdout",
          "text": [
            "['a', ['yyyy', 0, 'ee', 'ff', 'xx', 'yyyy', 0, 'ee', 'ff', 'xx'], 'g', 'h']\n"
          ]
        }
      ]
    },
    {
      "cell_type": "code",
      "source": [
        "L[1].remove('ee')\n",
        "print(L)"
      ],
      "metadata": {
        "colab": {
          "base_uri": "https://localhost:8080/"
        },
        "id": "gQaVOoBU7qnf",
        "outputId": "b902fd57-ce79-4db8-96c8-cd7ef5117dfa"
      },
      "execution_count": null,
      "outputs": [
        {
          "output_type": "stream",
          "name": "stdout",
          "text": [
            "['a', ['yyyy', 0, 'ff', 'xx', 'yyyy', 0, 'ee', 'ff', 'xx'], 'g', 'h']\n"
          ]
        }
      ]
    },
    {
      "cell_type": "code",
      "source": [
        "L = ['a', ['bb', 'cc'], 'd']\n",
        "print(len(L))"
      ],
      "metadata": {
        "colab": {
          "base_uri": "https://localhost:8080/"
        },
        "id": "ce9SMZ2r70V7",
        "outputId": "dafe9cb3-e67c-41f8-d501-839eb6ef1c96"
      },
      "execution_count": null,
      "outputs": [
        {
          "output_type": "stream",
          "name": "stdout",
          "text": [
            "3\n"
          ]
        }
      ]
    },
    {
      "cell_type": "code",
      "source": [
        "print(len(L[1]))"
      ],
      "metadata": {
        "colab": {
          "base_uri": "https://localhost:8080/"
        },
        "id": "AICfsOa-7_fm",
        "outputId": "82647100-0cd8-468d-fc5f-ad3445176a98"
      },
      "execution_count": null,
      "outputs": [
        {
          "output_type": "stream",
          "name": "stdout",
          "text": [
            "2\n"
          ]
        }
      ]
    },
    {
      "cell_type": "code",
      "source": [
        "L = [[1,2,3],[4,5,6],[7,8,9]]\n",
        "for list in L:\n",
        "  for number in list:\n",
        "    print(number, end=' ')"
      ],
      "metadata": {
        "colab": {
          "base_uri": "https://localhost:8080/"
        },
        "id": "89mfBhYE8Cpb",
        "outputId": "986f2b4c-23ea-48f2-93f6-400e8049bda0"
      },
      "execution_count": null,
      "outputs": [
        {
          "output_type": "stream",
          "name": "stdout",
          "text": [
            "1 2 3 4 5 6 7 8 9 "
          ]
        }
      ]
    },
    {
      "cell_type": "code",
      "source": [
        "L = ['a', ['yyyy', 0, 'ff', 'xx', 'yyyy', 0, 'ee', 'ff', 'xx'], 'g', 'h']\n",
        "print(L)"
      ],
      "metadata": {
        "colab": {
          "base_uri": "https://localhost:8080/"
        },
        "id": "V7wvDzv18PDE",
        "outputId": "5e021bb1-e27c-4d9c-fd46-443dd0a41079"
      },
      "execution_count": null,
      "outputs": [
        {
          "output_type": "stream",
          "name": "stdout",
          "text": [
            "['a', ['yyyy', 0, 'ff', 'xx', 'yyyy', 0, 'ee', 'ff', 'xx'], 'g', 'h']\n"
          ]
        }
      ]
    },
    {
      "cell_type": "code",
      "source": [
        "for kL in L:\n",
        "  for i in kL:\n",
        "    if i == 'yyyy':\n",
        "      i = 'kkkk'"
      ],
      "metadata": {
        "id": "xQ2EYTaJ8aDv"
      },
      "execution_count": null,
      "outputs": []
    },
    {
      "cell_type": "code",
      "source": [
        "print(L)"
      ],
      "metadata": {
        "colab": {
          "base_uri": "https://localhost:8080/"
        },
        "id": "0ghmFonm82EN",
        "outputId": "ca0685a4-b4e9-4f5a-a928-5e6597952ad5"
      },
      "execution_count": null,
      "outputs": [
        {
          "output_type": "stream",
          "name": "stdout",
          "text": [
            "['a', ['yyyy', 0, 'ff', 'xx', 'yyyy', 0, 'ee', 'ff', 'xx'], 'g', 'h']\n"
          ]
        }
      ]
    },
    {
      "cell_type": "code",
      "source": [
        "L = ['a', ['yyyy', 0, 'ff', 'xx', 'yyyy', 0, 'ee', 'ff', 'xx'], [['g']], 'h']\n",
        "for kL in L:\n",
        "  for i in kL:\n",
        "    if i == ['g']:\n",
        "      i += ['gy']"
      ],
      "metadata": {
        "id": "QIrykg5384lM"
      },
      "execution_count": null,
      "outputs": []
    },
    {
      "cell_type": "code",
      "source": [
        "print(L)"
      ],
      "metadata": {
        "colab": {
          "base_uri": "https://localhost:8080/"
        },
        "id": "MwN8Jla39Eob",
        "outputId": "a11592a2-0df4-4498-ab36-b851c91f2dea"
      },
      "execution_count": null,
      "outputs": [
        {
          "output_type": "stream",
          "name": "stdout",
          "text": [
            "['a', ['yyyy', 0, 'ff', 'xx', 'yyyy', 0, 'ee', 'ff', 'xx'], [['g', 'gy']], 'h']\n"
          ]
        }
      ]
    },
    {
      "cell_type": "code",
      "source": [
        "L = ['a', ['yyyy', 0, 'ff', 'xx', 'yyyy', 0, 'ee', 'ff', 'xx'], 'g', 'h']\n",
        "\n",
        "for kL in L:\n",
        "  for i in kL:\n",
        "    if i == 'yyyy':\n",
        "      i = 'kkkk'"
      ],
      "metadata": {
        "id": "KpHVMtqx9Tff"
      },
      "execution_count": null,
      "outputs": []
    },
    {
      "cell_type": "code",
      "source": [
        "print(L)"
      ],
      "metadata": {
        "colab": {
          "base_uri": "https://localhost:8080/"
        },
        "id": "42oMKYpe9gol",
        "outputId": "e8b1a436-0792-4504-a341-73f038327972"
      },
      "execution_count": null,
      "outputs": [
        {
          "output_type": "stream",
          "name": "stdout",
          "text": [
            "['a', ['yyyy', 0, 'ff', 'xx', 'yyyy', 0, 'ee', 'ff', 'xx'], 'g', 'h']\n"
          ]
        }
      ]
    },
    {
      "cell_type": "code",
      "source": [
        "for kL in L:\n",
        "  for i in range(len(kL)):\n",
        "    if kL[i] == 'yyyy':\n",
        "      kL[i] = 'kkkk'"
      ],
      "metadata": {
        "id": "FOkaMRjb9jtT"
      },
      "execution_count": null,
      "outputs": []
    },
    {
      "cell_type": "code",
      "source": [
        "print(L)"
      ],
      "metadata": {
        "colab": {
          "base_uri": "https://localhost:8080/"
        },
        "id": "k2GqHKKT97S4",
        "outputId": "e44aead8-42bb-4923-95df-853732530d36"
      },
      "execution_count": null,
      "outputs": [
        {
          "output_type": "stream",
          "name": "stdout",
          "text": [
            "['a', ['kkkk', 0, 'ff', 'xx', 'kkkk', 0, 'ee', 'ff', 'xx'], 'g', 'h']\n"
          ]
        }
      ]
    },
    {
      "cell_type": "code",
      "source": [
        "lists = [[1,2,3],[4,5,6,7],[8,9]]\n",
        "[elem for sublist in lists for elem in sublist]"
      ],
      "metadata": {
        "colab": {
          "base_uri": "https://localhost:8080/"
        },
        "id": "qsYfAoXb98Sh",
        "outputId": "8322089e-6bb7-4c96-b50e-ba29d511bd79"
      },
      "execution_count": null,
      "outputs": [
        {
          "output_type": "execute_result",
          "data": {
            "text/plain": [
              "[1, 2, 3, 4, 5, 6, 7, 8, 9]"
            ]
          },
          "metadata": {},
          "execution_count": 35
        }
      ]
    },
    {
      "cell_type": "code",
      "source": [
        "l = []\n",
        "for i in range(3):\n",
        "  for j in range(2):\n",
        "    l.append((i,j))\n",
        "  \n",
        "print(l)"
      ],
      "metadata": {
        "colab": {
          "base_uri": "https://localhost:8080/"
        },
        "id": "5AVs2ipP-N5z",
        "outputId": "d67e37b7-e854-4fe3-99b8-ebbfff4105b1"
      },
      "execution_count": null,
      "outputs": [
        {
          "output_type": "stream",
          "name": "stdout",
          "text": [
            "[(0, 0), (0, 1), (1, 0), (1, 1), (2, 0), (2, 1)]\n"
          ]
        }
      ]
    },
    {
      "cell_type": "code",
      "source": [
        "ll = [(i,j) for i in range(3) for j in range(2)]\n",
        "print(ll)"
      ],
      "metadata": {
        "colab": {
          "base_uri": "https://localhost:8080/"
        },
        "id": "mOkoTz_w-2UZ",
        "outputId": "3817b066-7032-415c-e4de-4ac858de81a4"
      },
      "execution_count": null,
      "outputs": [
        {
          "output_type": "stream",
          "name": "stdout",
          "text": [
            "[(0, 0), (0, 1), (1, 0), (1, 1), (2, 0), (2, 1)]\n"
          ]
        }
      ]
    },
    {
      "cell_type": "code",
      "source": [
        "fruits = ['apple','banana','carrot']\n",
        "num = [0,1,2]"
      ],
      "metadata": {
        "id": "4L7LQnhf_AcJ"
      },
      "execution_count": null,
      "outputs": []
    },
    {
      "cell_type": "code",
      "source": [
        "lls = [(fruit,i) for fruit in fruits for i in num]"
      ],
      "metadata": {
        "id": "9Q9UOEG3AVmB"
      },
      "execution_count": null,
      "outputs": []
    },
    {
      "cell_type": "code",
      "source": [
        "print(lls)"
      ],
      "metadata": {
        "colab": {
          "base_uri": "https://localhost:8080/"
        },
        "id": "n1j4HDgrAjVI",
        "outputId": "bdffcf22-c15c-40d6-ab70-d202bb75670d"
      },
      "execution_count": null,
      "outputs": [
        {
          "output_type": "stream",
          "name": "stdout",
          "text": [
            "[('apple', 0), ('apple', 1), ('apple', 2), ('banana', 0), ('banana', 1), ('banana', 2), ('carrot', 0), ('carrot', 1), ('carrot', 2)]\n"
          ]
        }
      ]
    },
    {
      "cell_type": "code",
      "source": [
        "L = ['yyyy' , ['yyyy',0,'ff','xx','yyyy',0,'ee','ff','xx'],'g','h']\n",
        "print(L)"
      ],
      "metadata": {
        "colab": {
          "base_uri": "https://localhost:8080/"
        },
        "id": "Q12XbB2AAmUY",
        "outputId": "f8a6f48b-94db-4e45-c0c1-e7c201e1c3a3"
      },
      "execution_count": 12,
      "outputs": [
        {
          "output_type": "stream",
          "name": "stdout",
          "text": [
            "['yyyy', ['yyyy', 0, 'ff', 'xx', 'yyyy', 0, 'ee', 'ff', 'xx'], 'g', 'h']\n"
          ]
        }
      ]
    },
    {
      "cell_type": "code",
      "source": [
        "fruits = ['apple','banana','carrot']\n",
        "num = list(range(3))\n",
        "[(fruit,i) for fruit in fruits for i in num]"
      ],
      "metadata": {
        "id": "2yfUhtfJDftG",
        "colab": {
          "base_uri": "https://localhost:8080/"
        },
        "outputId": "5e4c2731-9ed0-4241-8cc6-c6e19d50004f"
      },
      "execution_count": 3,
      "outputs": [
        {
          "output_type": "execute_result",
          "data": {
            "text/plain": [
              "[('apple', 0),\n",
              " ('apple', 1),\n",
              " ('apple', 2),\n",
              " ('banana', 0),\n",
              " ('banana', 1),\n",
              " ('banana', 2),\n",
              " ('carrot', 0),\n",
              " ('carrot', 1),\n",
              " ('carrot', 2)]"
            ]
          },
          "metadata": {},
          "execution_count": 3
        }
      ]
    },
    {
      "cell_type": "code",
      "source": [
        "lst = []\n",
        "for kL in L:\n",
        "  if isinstance(kL,list):\n",
        "    kLl = []\n",
        "    for i in range(len(kL)):\n",
        "      if kL[i] == 'yyyy':\n",
        "        kLl.append('kkkk')\n",
        "      else:\n",
        "        kLl.append(kL[i])\n",
        "    lst.append(kLl)\n",
        "  else:\n",
        "    if kL == 'yyyy':\n",
        "      lst.append('kkkk')\n",
        "    else:\n",
        "      lst.append(kL)\n",
        "  \n",
        "print(lst)"
      ],
      "metadata": {
        "colab": {
          "base_uri": "https://localhost:8080/"
        },
        "id": "mJGAUhQyf4QI",
        "outputId": "277c8970-27ae-4211-9306-cbf87e9026a7"
      },
      "execution_count": 15,
      "outputs": [
        {
          "output_type": "stream",
          "name": "stdout",
          "text": [
            "['kkkk', ['kkkk', 0, 'ff', 'xx', 'kkkk', 0, 'ee', 'ff', 'xx'], 'g', 'h']\n"
          ]
        }
      ]
    },
    {
      "cell_type": "code",
      "source": [
        "Lcomp = [ [ 'kkkk' if kL[i] == 'yyyy' else kL[i] for i in range(len(kL))]  \n",
        "         if isinstance(kL,list) else 'kkkk' if kL == 'yyyy' else kL for kL in L ]"
      ],
      "metadata": {
        "id": "toxii5HAhaw3"
      },
      "execution_count": 19,
      "outputs": []
    },
    {
      "cell_type": "code",
      "source": [
        "print(Lcomp)"
      ],
      "metadata": {
        "colab": {
          "base_uri": "https://localhost:8080/"
        },
        "id": "6iQjIZewkbOz",
        "outputId": "5cdb443d-c042-4401-e016-a56b8bc15ab8"
      },
      "execution_count": 20,
      "outputs": [
        {
          "output_type": "stream",
          "name": "stdout",
          "text": [
            "['kkkk', ['kkkk', 0, 'ff', 'xx', 'kkkk', 0, 'ee', 'ff', 'xx'], 'g', 'h']\n"
          ]
        }
      ]
    },
    {
      "cell_type": "code",
      "source": [
        "L = ['a' , ['yyyy',0,'ff','xx','yyyy',0,'ee','ff','xx'],[['g'],['yyyy'],[[[[[['yyyy']]]]]]],'yyyy']"
      ],
      "metadata": {
        "id": "bA2qjOHPnteA"
      },
      "execution_count": 21,
      "outputs": []
    },
    {
      "cell_type": "code",
      "source": [
        "print(L)"
      ],
      "metadata": {
        "colab": {
          "base_uri": "https://localhost:8080/"
        },
        "id": "o23Ip4ZqohHi",
        "outputId": "c4bc8f77-f101-4248-8d04-23cbd4d6921e"
      },
      "execution_count": 22,
      "outputs": [
        {
          "output_type": "stream",
          "name": "stdout",
          "text": [
            "['a', ['yyyy', 0, 'ff', 'xx', 'yyyy', 0, 'ee', 'ff', 'xx'], [['g'], ['yyyy'], [[[[[['yyyy']]]]]]], 'yyyy']\n"
          ]
        }
      ]
    },
    {
      "cell_type": "code",
      "source": [
        "def recurs_replace(L):\n",
        "  if isinstance(L,str):\n",
        "    if(L == 'yyyy'):\n",
        "      return 'kkkk'\n",
        "    else:\n",
        "      return L\n",
        "  if isinstance(L,int):\n",
        "      return L\n",
        "  else:\n",
        "    return [recurs_replace(i) for i in L]\n",
        "  \n",
        "Lfn = recurs_replace(L)\n",
        "print(Lfn)"
      ],
      "metadata": {
        "colab": {
          "base_uri": "https://localhost:8080/"
        },
        "id": "wCi99sSiokpP",
        "outputId": "884f229f-4978-4902-a4f2-a231f3af743e"
      },
      "execution_count": 25,
      "outputs": [
        {
          "output_type": "stream",
          "name": "stdout",
          "text": [
            "['a', ['kkkk', 0, 'ff', 'xx', 'kkkk', 0, 'ee', 'ff', 'xx'], [['g'], ['kkkk'], [[[[[['kkkk']]]]]]], 'kkkk']\n"
          ]
        }
      ]
    },
    {
      "cell_type": "code",
      "source": [
        "NUMNUM = [[1,2,3],[3,4],[12,6,9]]\n",
        "evenNum = []\n",
        "for i in NUMNUM:\n",
        "  for j in i:\n",
        "    if not j%2:\n",
        "      evenNum.append(j)\n",
        "\n",
        "evenNum2 = [j for i in NUMNUM for j in i if not j%2]\n",
        "print(evenNum,evenNum2)"
      ],
      "metadata": {
        "colab": {
          "base_uri": "https://localhost:8080/"
        },
        "id": "QFFfeZQtpLCY",
        "outputId": "65ff50d9-29e2-441d-ff65-04cac6203e34"
      },
      "execution_count": 28,
      "outputs": [
        {
          "output_type": "stream",
          "name": "stdout",
          "text": [
            "[2, 4, 12, 6] [2, 4, 12, 6]\n"
          ]
        }
      ]
    },
    {
      "cell_type": "code",
      "source": [
        "evenNum = []\n",
        "for i in NUMNUM:\n",
        "  s = []\n",
        "  for j in i:\n",
        "    if not j%2:\n",
        "      s.append(j)\n",
        "    evenNum.append(s)\n",
        "  \n",
        "evenNum2 = [ [j for j in i if not j%2] for i in NUMNUM]\n",
        "print(evenNum,evenNum2)"
      ],
      "metadata": {
        "colab": {
          "base_uri": "https://localhost:8080/"
        },
        "id": "R8RSg4Y6qpb2",
        "outputId": "8d4e2532-b621-44a2-85ab-ecf806e4f7c6"
      },
      "execution_count": 29,
      "outputs": [
        {
          "output_type": "stream",
          "name": "stdout",
          "text": [
            "[[2], [2], [2], [4], [4], [12, 6], [12, 6], [12, 6]] [[2], [4], [12, 6]]\n"
          ]
        }
      ]
    },
    {
      "cell_type": "code",
      "source": [
        "L = [['yyyy'],['yyyy','a1','ff','xx','yyyy','a2','ee','ff','xx'],['ghhh','h']]\n",
        "Lgreater3 = [[j for j in i if len(j)> 3] for i in L]"
      ],
      "metadata": {
        "id": "MjzI9RvEsdMI"
      },
      "execution_count": 32,
      "outputs": []
    },
    {
      "cell_type": "code",
      "source": [
        "print(Lgreater3)"
      ],
      "metadata": {
        "colab": {
          "base_uri": "https://localhost:8080/"
        },
        "id": "7pwxX5p-tsok",
        "outputId": "48947939-b7c4-427e-baff-e8ed0fbe7b73"
      },
      "execution_count": 33,
      "outputs": [
        {
          "output_type": "stream",
          "name": "stdout",
          "text": [
            "[['yyyy'], ['yyyy', 'yyyy'], ['ghhh']]\n"
          ]
        }
      ]
    },
    {
      "cell_type": "code",
      "source": [
        "def recurs_len3(L):\n",
        "  if isinstance(L,str):\n",
        "    if len(L)>3:\n",
        "      return L\n",
        "  else:\n",
        "    return [j for j in [recurs_len3(i) for i in L] if j is not None ]\n",
        "\n",
        "LE = [['yyyy'], ['yyyy', 'a1', 'ff', 'xx', 'yyyy', 'a2', 'ee', 'ff', 'xx'], ['ghhh','h']]\n",
        "Lrecurse3 = recurs_len3(LE)\n",
        "print(Lrecurse3)"
      ],
      "metadata": {
        "colab": {
          "base_uri": "https://localhost:8080/"
        },
        "id": "G0t5wmQKtvfW",
        "outputId": "51f1cc28-8bc0-4c66-b838-b1a5bffe61f3"
      },
      "execution_count": 34,
      "outputs": [
        {
          "output_type": "stream",
          "name": "stdout",
          "text": [
            "[['yyyy'], ['yyyy', 'yyyy'], ['ghhh']]\n"
          ]
        }
      ]
    },
    {
      "cell_type": "code",
      "source": [],
      "metadata": {
        "id": "7Ioa-nqOvMkw"
      },
      "execution_count": null,
      "outputs": []
    }
  ]
}