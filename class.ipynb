{
  "nbformat": 4,
  "nbformat_minor": 0,
  "metadata": {
    "colab": {
      "provenance": [],
      "authorship_tag": "ABX9TyMfCLjCDB9fJQOfTuQBCW0y",
      "include_colab_link": true
    },
    "kernelspec": {
      "name": "python3",
      "display_name": "Python 3"
    },
    "language_info": {
      "name": "python"
    }
  },
  "cells": [
    {
      "cell_type": "markdown",
      "metadata": {
        "id": "view-in-github",
        "colab_type": "text"
      },
      "source": [
        "<a href=\"https://colab.research.google.com/github/oattao123/class_kmutt/blob/main/class.ipynb\" target=\"_parent\"><img src=\"https://colab.research.google.com/assets/colab-badge.svg\" alt=\"Open In Colab\"/></a>"
      ]
    },
    {
      "cell_type": "code",
      "execution_count": null,
      "metadata": {
        "colab": {
          "base_uri": "https://localhost:8080/"
        },
        "id": "7-WBBZ1p-yeq",
        "outputId": "0d7cfa41-281b-40bc-d97e-6084c2374f7a"
      },
      "outputs": [
        {
          "output_type": "stream",
          "name": "stdout",
          "text": [
            "<class 'type'>\n",
            "<class '__main__.simplest'>\n",
            "True\n"
          ]
        }
      ],
      "source": [
        "class simplest():\n",
        "  pass\n",
        "print(type(simplest))\n",
        "simp = simplest()\n",
        "print(type(simp))\n",
        "print(type(simp) is simplest)"
      ]
    },
    {
      "cell_type": "code",
      "source": [
        "class person:\n",
        "  species = 'Human'\n",
        "\n",
        "print(person.species)\n",
        "person.alive = True\n",
        "person.species = 'Android'\n",
        "print(person.species)\n",
        "print(person.alive)\n",
        "\n",
        "man = person()\n",
        "print(man.species)\n",
        "print(man.alive)\n",
        "man.name = 'Darth'\n",
        "man.surname = 'Vader'\n",
        "print(man.name,man.surname)\n",
        "man2 = person()"
      ],
      "metadata": {
        "colab": {
          "base_uri": "https://localhost:8080/"
        },
        "id": "0epRj2qG_YEv",
        "outputId": "4fc5e379-944d-4acc-f966-95f8824dd206"
      },
      "execution_count": null,
      "outputs": [
        {
          "output_type": "stream",
          "name": "stdout",
          "text": [
            "Human\n",
            "Android\n",
            "True\n",
            "Android\n",
            "True\n",
            "Darth Vader\n"
          ]
        }
      ]
    },
    {
      "cell_type": "code",
      "source": [
        "class Point:\n",
        "  x = 10\n",
        "  y = 7\n",
        "\n",
        "p = Point()\n",
        "print(p.x)\n",
        "print(p.y)\n",
        "p.x = 12\n",
        "print(p.x)\n",
        "print(Point.x)\n",
        "del p.x\n",
        "print(p.x)\n",
        "p.z = 3\n",
        "print(p.z)"
      ],
      "metadata": {
        "colab": {
          "base_uri": "https://localhost:8080/"
        },
        "id": "Nej4WcZCAPMh",
        "outputId": "067f2826-6867-4d94-f912-da105cf74d14"
      },
      "execution_count": null,
      "outputs": [
        {
          "output_type": "stream",
          "name": "stdout",
          "text": [
            "10\n",
            "7\n",
            "12\n",
            "10\n",
            "10\n",
            "3\n"
          ]
        }
      ]
    },
    {
      "cell_type": "code",
      "source": [
        "class Square:\n",
        "  side = 8\n",
        "  def area(self):\n",
        "    return self.side ** 2\n",
        "\n",
        "sq = Square()\n",
        "print(sq.area())\n",
        "print(Square.area(sq))\n",
        "sq.side = 10\n",
        "print(sq.area())"
      ],
      "metadata": {
        "colab": {
          "base_uri": "https://localhost:8080/"
        },
        "id": "kVUUNminBhSf",
        "outputId": "a1819236-2a8e-4d8c-a7c9-b52c9751de71"
      },
      "execution_count": null,
      "outputs": [
        {
          "output_type": "stream",
          "name": "stdout",
          "text": [
            "64\n",
            "64\n",
            "100\n"
          ]
        }
      ]
    },
    {
      "cell_type": "code",
      "source": [
        "class Price:\n",
        "  def final_price(self, vat, discount=0):\n",
        "    return (self.net_price * (100 + vat) / 100) - discount\n",
        "\n",
        "p1 = Price()\n",
        "p1.net_price = 100\n",
        "print(Price.final_price(p1,20,10))\n",
        "print(p1.final_price(20,10))"
      ],
      "metadata": {
        "colab": {
          "base_uri": "https://localhost:8080/"
        },
        "id": "eYyGIl00CVTL",
        "outputId": "126b704c-802e-4f9b-88d6-97b0ee5dd995"
      },
      "execution_count": null,
      "outputs": [
        {
          "output_type": "stream",
          "name": "stdout",
          "text": [
            "110.0\n",
            "110.0\n"
          ]
        }
      ]
    },
    {
      "cell_type": "code",
      "source": [
        "class Rectangle:\n",
        "  def __init__(self, side_a, side_b):\n",
        "    self.side_a = side_a\n",
        "    self.side_b = side_b\n",
        "  def area(self):\n",
        "    return self.side_a * self.side_b\n",
        "  \n",
        "r1 = Rectangle(10,4)\n",
        "print(r1.side_a, r1.side_b)\n",
        "print(r1.area())\n",
        "r2 = Rectangle(7,3)\n",
        "print(r2.side_a,r2.side_b)\n",
        "print(r2.area())"
      ],
      "metadata": {
        "colab": {
          "base_uri": "https://localhost:8080/"
        },
        "id": "oghDZf-vCvPh",
        "outputId": "7d1a94af-109b-45d1-92eb-2cdd9e4bfa9e"
      },
      "execution_count": null,
      "outputs": [
        {
          "output_type": "stream",
          "name": "stdout",
          "text": [
            "10 4\n",
            "40\n",
            "7 3\n",
            "21\n"
          ]
        }
      ]
    },
    {
      "cell_type": "code",
      "source": [
        "class Engine:\n",
        "  def start(self):\n",
        "    pass\n",
        "  def slop(self):\n",
        "    pass\n",
        "class ElecticEngine(Engine):\n",
        "  pass\n",
        "class V8Engine(Engine):\n",
        "  pass\n"
      ],
      "metadata": {
        "id": "5No5-xj1WIk8"
      },
      "execution_count": null,
      "outputs": []
    },
    {
      "cell_type": "code",
      "source": [
        "class Car:\n",
        "  engine_cls = Engine\n",
        "  def __init__(self):\n",
        "    self.engine = self.engine_cls()\n",
        "  def start(self):\n",
        "    print(\n",
        "        'Starting engine {0} for car {1}... Wroom, wroom!'\n",
        "        .format(\n",
        "            self.engine.__class__.__name__,\n",
        "            self.__class__.__name__\n",
        "        )\n",
        "    )\n",
        "    self.engine.start()\n",
        "  def stop(self):\n",
        "    self.engine.stop()\n",
        "class RaceCar(Car):\n",
        "  engine_cls = V8Engine\n",
        "class CityCar(Car):\n",
        "  engine_cls = ElecticEngine\n",
        "class F1Car(RaceCar):\n",
        "  pass\n",
        "car = Car()\n",
        "racecar = RaceCar()\n",
        "citycar = CityCar()\n",
        "f1car = F1Car()\n",
        "cars = [car, racecar, citycar, f1car]\n",
        "for car in cars:\n",
        "  car.start()\n",
        "\n"
      ],
      "metadata": {
        "colab": {
          "base_uri": "https://localhost:8080/"
        },
        "id": "3pcmjVwGW7Oq",
        "outputId": "311bc662-1c60-4a16-91e1-c523bbe9ee33"
      },
      "execution_count": null,
      "outputs": [
        {
          "output_type": "stream",
          "name": "stdout",
          "text": [
            "Starting engine Engine for car Car... Wroom, wroom!\n",
            "Starting engine V8Engine for car RaceCar... Wroom, wroom!\n",
            "Starting engine ElecticEngine for car CityCar... Wroom, wroom!\n",
            "Starting engine V8Engine for car F1Car... Wroom, wroom!\n"
          ]
        }
      ]
    },
    {
      "cell_type": "code",
      "source": [
        "car = Car()\n",
        "racecar = RaceCar()\n",
        "f1car = F1Car()\n",
        "cars = [(car, 'car'), (racecar,'racecar'),(f1car,'f1car')]\n",
        "car_classes = [Car, RaceCar , F1Car]\n",
        "for car, car_name in cars:\n",
        "  for class_ in car_classes:\n",
        "    belongs = isinstance(car, class_)\n",
        "    msg = 'is a' if belongs else 'is not a'\n",
        "    print(car_name, msg, class_.__name__)"
      ],
      "metadata": {
        "colab": {
          "base_uri": "https://localhost:8080/"
        },
        "id": "c9rXcnSjXUlM",
        "outputId": "b315241c-4b86-40cd-cc3e-4b44df8f05fd"
      },
      "execution_count": null,
      "outputs": [
        {
          "output_type": "stream",
          "name": "stdout",
          "text": [
            "car is a Car\n",
            "car is not a RaceCar\n",
            "car is not a F1Car\n",
            "racecar is a Car\n",
            "racecar is a RaceCar\n",
            "racecar is not a F1Car\n",
            "f1car is a Car\n",
            "f1car is a RaceCar\n",
            "f1car is a F1Car\n"
          ]
        }
      ]
    },
    {
      "cell_type": "code",
      "source": [
        "for class1 in car_classes:\n",
        "  for class2 in car_classes:\n",
        "    is_subclass = issubclass(class1, class2)\n",
        "    msg = '{0} a subclass of'.format(\n",
        "        'is' if is_subclass else 'is not')\n",
        "    print(class1.__name__, msg, class2.__name__)"
      ],
      "metadata": {
        "colab": {
          "base_uri": "https://localhost:8080/"
        },
        "id": "op8DWoisZ2wc",
        "outputId": "ae3d65e1-cdb1-447b-aa3b-a5c59876518b"
      },
      "execution_count": null,
      "outputs": [
        {
          "output_type": "stream",
          "name": "stdout",
          "text": [
            "Car is a subclass of Car\n",
            "Car is not a subclass of RaceCar\n",
            "Car is not a subclass of F1Car\n",
            "RaceCar is a subclass of Car\n",
            "RaceCar is a subclass of RaceCar\n",
            "RaceCar is not a subclass of F1Car\n",
            "F1Car is a subclass of Car\n",
            "F1Car is a subclass of RaceCar\n",
            "F1Car is a subclass of F1Car\n"
          ]
        }
      ]
    },
    {
      "cell_type": "code",
      "source": [
        "class Book:\n",
        "  def __init__(self, title, publisher, pages):\n",
        "    self.title = title\n",
        "    self.publisher = publisher\n",
        "    self.pages = pages\n",
        "class Ebook(Book):\n",
        "  def __init__(self, title, publisher, pages, format_):\n",
        "    self.title = title\n",
        "    self.publisher = publisher\n",
        "    self.pages = pages\n",
        "    self.format_ = format_"
      ],
      "metadata": {
        "id": "dMJPOUGJabGH"
      },
      "execution_count": null,
      "outputs": []
    },
    {
      "cell_type": "code",
      "source": [
        "class Book:\n",
        "  def __init__(self,title,publisher,pages):\n",
        "    self.title = title\n",
        "    self.publisher = publisher\n",
        "    self.pages = pages\n",
        "class Ebook(Book):\n",
        "  def __init__(self, title,publisher, pages,format_):\n",
        "    super().__init__(title,publisher,pages)\n",
        "    self.format_ = format_\n",
        "\n",
        "ebook = Ebook(\n",
        "    'Learn Python Programming', 'Packt Publishing', 500, 'PDF'\n",
        ")\n",
        "print(ebook.title)\n",
        "print(ebook.publisher)\n",
        "print(ebook.pages)\n",
        "print(ebook.format_)"
      ],
      "metadata": {
        "colab": {
          "base_uri": "https://localhost:8080/"
        },
        "id": "LrQSCDB4bKo1",
        "outputId": "67b6cfe0-25fd-48ea-d8db-8bd8e5e4e7e7"
      },
      "execution_count": null,
      "outputs": [
        {
          "output_type": "stream",
          "name": "stdout",
          "text": [
            "Learn Python Programming\n",
            "Packt Publishing\n",
            "500\n",
            "PDF\n"
          ]
        }
      ]
    },
    {
      "cell_type": "code",
      "source": [
        "class Shape:\n",
        "  geometric_type = 'Generic Shape'\n",
        "  def area(self):\n",
        "    raise NotImplementedError\n",
        "  def get_geometric_type(self):\n",
        "    return self.geometric_type\n",
        "class Plotter:\n",
        "  def plot(self, ratio, topleft):\n",
        "    print('Plotting at {}, ratio {}.'.format(\n",
        "        topleft, ratio\n",
        "    ))\n",
        "class Polygon(Shape, Plotter):\n",
        "  gemetric_type = 'Polygon'\n",
        "class RegularPolygon(Polygon):\n",
        "  geometric_type = 'RegularHexagon'\n",
        "  def __init__(self, side):\n",
        "    self.side = side\n",
        "class RegularHexagon(RegularPolygon):\n",
        "  geometric_type = 'RegularHexagon'\n",
        "  def area(self):\n",
        "    return 1.5 * (3 ** .5 * self.side ** 2)\n",
        "class Square(RegularPolygon):\n",
        "  gemetric_type = 'Square'\n",
        "  def area(self):\n",
        "    return self.side * self.side\n",
        "hexagon = RegularHexagon(10)\n",
        "print(hexagon.area())\n",
        "print(hexagon.get_geometric_type())\n",
        "hexagon.plot(0.8, (75,77))\n",
        "square = Square(12)\n",
        "print(square.area())\n",
        "print(square.get_geometric_type())\n",
        "square.plot(0.93, (74,75))"
      ],
      "metadata": {
        "colab": {
          "base_uri": "https://localhost:8080/"
        },
        "id": "wvSSNDt6bqTe",
        "outputId": "ae4f0761-a420-45dc-9857-2f0ab298f2f5"
      },
      "execution_count": null,
      "outputs": [
        {
          "output_type": "stream",
          "name": "stdout",
          "text": [
            "259.8076211353316\n",
            "RegularHexagon\n",
            "Plotting at (75, 77), ratio 0.8.\n",
            "144\n",
            "RegularHexagon\n",
            "Plotting at (74, 75), ratio 0.93.\n"
          ]
        }
      ]
    },
    {
      "cell_type": "code",
      "source": [
        "print(square.__class__.__mro__)\n",
        "print(Square.mro())"
      ],
      "metadata": {
        "colab": {
          "base_uri": "https://localhost:8080/"
        },
        "id": "09vWLOXecdGq",
        "outputId": "e447a137-06ef-4a87-9b38-e0ca96740b53"
      },
      "execution_count": null,
      "outputs": [
        {
          "output_type": "stream",
          "name": "stdout",
          "text": [
            "(<class '__main__.Square'>, <class '__main__.RegularPolygon'>, <class '__main__.Polygon'>, <class '__main__.Shape'>, <class '__main__.Plotter'>, <class 'object'>)\n",
            "[<class '__main__.Square'>, <class '__main__.RegularPolygon'>, <class '__main__.Polygon'>, <class '__main__.Shape'>, <class '__main__.Plotter'>, <class 'object'>]\n"
          ]
        }
      ]
    },
    {
      "cell_type": "code",
      "source": [
        "class A:\n",
        "  label = 'a'\n",
        "class B(A):\n",
        "  label = 'b'\n",
        "class C(A):\n",
        "  label = 'c'\n",
        "class D(B,C):\n",
        "  pass\n",
        "d = D()\n",
        "print(d.label)"
      ],
      "metadata": {
        "colab": {
          "base_uri": "https://localhost:8080/"
        },
        "id": "oThlTVdogB9-",
        "outputId": "e8fe2455-2844-47b3-c27f-a15a96b2d8f7"
      },
      "execution_count": null,
      "outputs": [
        {
          "output_type": "stream",
          "name": "stdout",
          "text": [
            "b\n"
          ]
        }
      ]
    },
    {
      "cell_type": "code",
      "source": [
        "class A:\n",
        "  label = 'a'\n",
        "class B(A):\n",
        "  pass \n",
        "class C(A):\n",
        "  label = 'c'\n",
        "class D(B,C):\n",
        "  pass\n",
        "d = D()\n",
        "print(d.label)\n",
        "print(d.__class__.mro())"
      ],
      "metadata": {
        "colab": {
          "base_uri": "https://localhost:8080/"
        },
        "id": "_OIG17oNgIbN",
        "outputId": "907ef082-aa15-4622-970e-5b3cd1a759a1"
      },
      "execution_count": null,
      "outputs": [
        {
          "output_type": "stream",
          "name": "stdout",
          "text": [
            "c\n",
            "[<class '__main__.D'>, <class '__main__.B'>, <class '__main__.C'>, <class '__main__.A'>, <class 'object'>]\n"
          ]
        }
      ]
    },
    {
      "cell_type": "code",
      "source": [
        "class Mathemaics:\n",
        "\n",
        "  @staticmethod\n",
        "  def addNumbers(x,y):\n",
        "    return x + y\n",
        "  \n",
        "print('The sum is',Mathemaics.addNumbers(5,10))"
      ],
      "metadata": {
        "colab": {
          "base_uri": "https://localhost:8080/"
        },
        "id": "uAii9FWeg5mr",
        "outputId": "c0bfc423-55b5-4d72-cc14-9c48be3e22c4"
      },
      "execution_count": null,
      "outputs": [
        {
          "output_type": "stream",
          "name": "stdout",
          "text": [
            "The sum is 15\n"
          ]
        }
      ]
    },
    {
      "cell_type": "code",
      "source": [
        "class Mathematics:\n",
        "  def addNumbers(x,y):\n",
        "    return x + y\n",
        "\n",
        "Mathematics.addNumbers = staticmethod(Mathematics.addNumbers)\n",
        "print('The sum is:',Mathematics.addNumbers(5,10))"
      ],
      "metadata": {
        "colab": {
          "base_uri": "https://localhost:8080/"
        },
        "id": "fXo4qM-PjCmc",
        "outputId": "fd35458e-ff08-4c53-8a24-600f02d87b76"
      },
      "execution_count": null,
      "outputs": [
        {
          "output_type": "stream",
          "name": "stdout",
          "text": [
            "The sum is: 15\n"
          ]
        }
      ]
    },
    {
      "cell_type": "code",
      "source": [
        "print(\"จงใจผิด  static method ไม่สามารถเรียก class attribute\")\n",
        "class Mathematics2:\n",
        "    k=3\n",
        "    \n",
        "    @staticmethod\n",
        "    def addAttribute(x):\n",
        "        return x + k\n",
        "\n",
        "\n",
        "\n",
        "print('The sum is:', Mathematics2.addAttribute(10))"
      ],
      "metadata": {
        "colab": {
          "base_uri": "https://localhost:8080/",
          "height": 347
        },
        "id": "_kQSHubfjmyO",
        "outputId": "f154826e-6a55-4aab-cb4f-62d095d8fbc9"
      },
      "execution_count": null,
      "outputs": [
        {
          "output_type": "stream",
          "name": "stdout",
          "text": [
            "จงใจผิด  static method ไม่สามารถเรียก class attribute\n"
          ]
        },
        {
          "output_type": "error",
          "ename": "NameError",
          "evalue": "ignored",
          "traceback": [
            "\u001b[0;31m---------------------------------------------------------------------------\u001b[0m",
            "\u001b[0;31mNameError\u001b[0m                                 Traceback (most recent call last)",
            "\u001b[0;32m<ipython-input-13-3af60ed3fbe8>\u001b[0m in \u001b[0;36m<module>\u001b[0;34m\u001b[0m\n\u001b[1;32m      9\u001b[0m \u001b[0;34m\u001b[0m\u001b[0m\n\u001b[1;32m     10\u001b[0m \u001b[0;34m\u001b[0m\u001b[0m\n\u001b[0;32m---> 11\u001b[0;31m \u001b[0mprint\u001b[0m\u001b[0;34m(\u001b[0m\u001b[0;34m'The sum is:'\u001b[0m\u001b[0;34m,\u001b[0m \u001b[0mMathematics2\u001b[0m\u001b[0;34m.\u001b[0m\u001b[0maddAttribute\u001b[0m\u001b[0;34m(\u001b[0m\u001b[0;36m10\u001b[0m\u001b[0;34m)\u001b[0m\u001b[0;34m)\u001b[0m\u001b[0;34m\u001b[0m\u001b[0;34m\u001b[0m\u001b[0m\n\u001b[0m",
            "\u001b[0;32m<ipython-input-13-3af60ed3fbe8>\u001b[0m in \u001b[0;36maddAttribute\u001b[0;34m(x)\u001b[0m\n\u001b[1;32m      5\u001b[0m     \u001b[0;34m@\u001b[0m\u001b[0mstaticmethod\u001b[0m\u001b[0;34m\u001b[0m\u001b[0;34m\u001b[0m\u001b[0m\n\u001b[1;32m      6\u001b[0m     \u001b[0;32mdef\u001b[0m \u001b[0maddAttribute\u001b[0m\u001b[0;34m(\u001b[0m\u001b[0mx\u001b[0m\u001b[0;34m)\u001b[0m\u001b[0;34m:\u001b[0m\u001b[0;34m\u001b[0m\u001b[0;34m\u001b[0m\u001b[0m\n\u001b[0;32m----> 7\u001b[0;31m         \u001b[0;32mreturn\u001b[0m \u001b[0mx\u001b[0m \u001b[0;34m+\u001b[0m \u001b[0mk\u001b[0m\u001b[0;34m\u001b[0m\u001b[0;34m\u001b[0m\u001b[0m\n\u001b[0m\u001b[1;32m      8\u001b[0m \u001b[0;34m\u001b[0m\u001b[0m\n\u001b[1;32m      9\u001b[0m \u001b[0;34m\u001b[0m\u001b[0m\n",
            "\u001b[0;31mNameError\u001b[0m: name 'k' is not defined"
          ]
        }
      ]
    },
    {
      "cell_type": "code",
      "source": [
        "class Person:\n",
        "  age = 25\n",
        "  def printAge(cls):\n",
        "    print('The age is',cls.age)\n",
        "Person.printAge = classmethod(Person.printAge)\n",
        "Person.printAge"
      ],
      "metadata": {
        "colab": {
          "base_uri": "https://localhost:8080/"
        },
        "id": "k5uHxtMrkt3P",
        "outputId": "8838f2fc-dd0e-4c11-bfbf-2c56090f3290"
      },
      "execution_count": null,
      "outputs": [
        {
          "output_type": "stream",
          "name": "stdout",
          "text": [
            "The age is 25\n"
          ]
        }
      ]
    },
    {
      "cell_type": "code",
      "source": [
        "from datetime import date\n",
        "class Person:\n",
        "  def __init__(self,name,age):\n",
        "    self.name = name\n",
        "    self.age = age\n",
        "  \n",
        "  @classmethod\n",
        "  def fromBirthYear(cls,name,birthYear):\n",
        "    return cls(name, date.today().year - birthYear)\n",
        "  def display(self):\n",
        "    print(self.name + \"'s age is: \" + str(self.age))\n",
        "\n",
        "person = Person('Adam',19)\n",
        "person.display()\n",
        "\n",
        "person1 = Person.fromBirthYear('john',1985)\n",
        "person1.display()"
      ],
      "metadata": {
        "colab": {
          "base_uri": "https://localhost:8080/"
        },
        "id": "t-zZwvgIlCjw",
        "outputId": "f45c0907-caa5-4b39-954e-1c2e26f7757d"
      },
      "execution_count": null,
      "outputs": [
        {
          "output_type": "stream",
          "name": "stdout",
          "text": [
            "Adam's age is: 19\n",
            "john's age is: 37\n"
          ]
        }
      ]
    },
    {
      "cell_type": "code",
      "source": [
        "from datetime import date\n",
        "class Person:\n",
        "  def __init__(self,name,age):\n",
        "    self.name = name\n",
        "    self.age = age\n",
        "  \n",
        "  @staticmethod\n",
        "  def fromFathersAge(name, fatherAge, fatherPersonAgeDiff):\n",
        "    return Person(name, date.today().year - fatherAge + fatherPersonAgeDiff)\n",
        "  \n",
        "  @classmethod\n",
        "  def fromBirthYear(cls,name,birthYear):\n",
        "    return cls(name,date.today().year - birthYear)\n",
        "  def display(self):\n",
        "    print(self.name + \"'s age is: \" + str(self.age))\n",
        "\n",
        "class Man(Person):\n",
        "  sex = 'Male'\n",
        "\n",
        "\n",
        "man = Man.fromBirthYear('John', 1985)\n",
        "print(isinstance(man,Man))\n",
        "print(man.name)\n",
        "\n",
        "man1 = Man.fromFathersAge('John',1965,20)\n",
        "print(isinstance(man1,Man))\n",
        "print(type(man1))"
      ],
      "metadata": {
        "colab": {
          "base_uri": "https://localhost:8080/"
        },
        "id": "FpIX3pGamjS0",
        "outputId": "0a0d3687-83d6-47a7-fa3a-3ed25a520896"
      },
      "execution_count": null,
      "outputs": [
        {
          "output_type": "stream",
          "name": "stdout",
          "text": [
            "True\n",
            "John\n",
            "False\n",
            "<class '__main__.Person'>\n"
          ]
        }
      ]
    },
    {
      "cell_type": "code",
      "source": [
        "from datetime import date\n",
        "\n",
        "class Person:\n",
        "  def __init__(self,name,age):\n",
        "    self.name = name\n",
        "    self.age = age\n",
        "  \n",
        "  @staticmethod\n",
        "  def fromFathersAge(name, fatherAge, fatherPersonAgeDiff):\n",
        "    return Person(name, date.today().year - fatherAge + fatherPersonAgeDiff)\n",
        "  \n",
        "  @classmethod\n",
        "  def fromBirthYear(cls, name, birthYear):\n",
        "    return cls(name, date.today().year - birthYear)\n",
        "\n",
        "  def display(self):\n",
        "    print(self.name + \"'s age is: \" + str(self.age))\n",
        "\n",
        "class Man(Person):\n",
        "  malePrefix = \"Mr. \"\n",
        "  sex = 'Male'\n",
        "\n",
        "  @classmethod\n",
        "  def fromBirthYear(cls,name,birthYear):\n",
        "    return cls(cls.malePrefix + name,date.today().year - birthYear)\n",
        "\n",
        "man = Man.fromBirthYear('John',1985)\n",
        "print(isinstance(man, Man))\n",
        "print(man.name)"
      ],
      "metadata": {
        "colab": {
          "base_uri": "https://localhost:8080/"
        },
        "id": "ben1b3FfoHur",
        "outputId": "2692c23f-2a8a-46d5-c803-b1be6aabad5c"
      },
      "execution_count": null,
      "outputs": [
        {
          "output_type": "stream",
          "name": "stdout",
          "text": [
            "True\n",
            "Mr. John\n"
          ]
        }
      ]
    },
    {
      "cell_type": "code",
      "source": [
        "class A:\n",
        "  def __init__(self, factor):\n",
        "    self._factor = factor\n",
        "  def op1(self):\n",
        "    print('Op1 with factor {}...'.format(self._factor))\n",
        "class B(A):\n",
        "  def op2(self, factor):\n",
        "    self._factor = factor\n",
        "    print('Op2 with factor {}...'.format(self._factor))\n",
        "obj = B(100)\n",
        "obj.op1()\n",
        "obj.op2(42)\n",
        "obj.op1()\n",
        "print('Op1 with factor 42... <- This is BAD')"
      ],
      "metadata": {
        "colab": {
          "base_uri": "https://localhost:8080/"
        },
        "id": "B1O4HqbJrGjp",
        "outputId": "12405d26-240d-4ac9-d97b-f3c96e34fa2b"
      },
      "execution_count": null,
      "outputs": [
        {
          "output_type": "stream",
          "name": "stdout",
          "text": [
            "Op1 with factor 100...\n",
            "Op2 with factor 42...\n",
            "Op1 with factor 42...\n",
            "Op1 with factor 42... <- This is BAD\n"
          ]
        }
      ]
    },
    {
      "cell_type": "code",
      "source": [
        "objA = A(11)\n",
        "print(objA._factor)"
      ],
      "metadata": {
        "colab": {
          "base_uri": "https://localhost:8080/"
        },
        "id": "5t_Q0IhOr-iw",
        "outputId": "7b8e1738-6c45-4485-ad66-3986f2acdde4"
      },
      "execution_count": null,
      "outputs": [
        {
          "output_type": "stream",
          "name": "stdout",
          "text": [
            "11\n"
          ]
        }
      ]
    },
    {
      "cell_type": "code",
      "source": [
        "print(obj.__dict__.keys())"
      ],
      "metadata": {
        "colab": {
          "base_uri": "https://localhost:8080/"
        },
        "id": "BuSXmEq3sEgJ",
        "outputId": "82c9e85b-38bb-47a9-c9fc-7f84d6255d44"
      },
      "execution_count": null,
      "outputs": [
        {
          "output_type": "stream",
          "name": "stdout",
          "text": [
            "dict_keys(['_factor'])\n"
          ]
        }
      ]
    },
    {
      "cell_type": "code",
      "source": [
        "dir(obj)"
      ],
      "metadata": {
        "colab": {
          "base_uri": "https://localhost:8080/"
        },
        "id": "Xlg_4h-GsKo9",
        "outputId": "9328c377-6007-4189-c54e-dff3175fb212"
      },
      "execution_count": null,
      "outputs": [
        {
          "output_type": "execute_result",
          "data": {
            "text/plain": [
              "['__class__',\n",
              " '__delattr__',\n",
              " '__dict__',\n",
              " '__dir__',\n",
              " '__doc__',\n",
              " '__eq__',\n",
              " '__format__',\n",
              " '__ge__',\n",
              " '__getattribute__',\n",
              " '__gt__',\n",
              " '__hash__',\n",
              " '__init__',\n",
              " '__init_subclass__',\n",
              " '__le__',\n",
              " '__lt__',\n",
              " '__module__',\n",
              " '__ne__',\n",
              " '__new__',\n",
              " '__reduce__',\n",
              " '__reduce_ex__',\n",
              " '__repr__',\n",
              " '__setattr__',\n",
              " '__sizeof__',\n",
              " '__str__',\n",
              " '__subclasshook__',\n",
              " '__weakref__',\n",
              " '_factor',\n",
              " 'op1',\n",
              " 'op2']"
            ]
          },
          "metadata": {},
          "execution_count": 18
        }
      ]
    },
    {
      "cell_type": "code",
      "source": [
        "class A:\n",
        "  def __init__(self, factor):\n",
        "    self.__factor = factor\n",
        "  def op1(self):\n",
        "        print('Op1 with factor {}...'.format(self.__factor))\n",
        "class B(A):\n",
        "  def op2(self, factor):\n",
        "    self.__factor = factor\n",
        "    print('Op2 with factor {}...'.format(self.__factor))\n",
        "obj = B(100)\n",
        "obj.op1()\n",
        "obj.op2(42)\n",
        "obj.op1()\n",
        "print(\"This is what expected\")"
      ],
      "metadata": {
        "colab": {
          "base_uri": "https://localhost:8080/"
        },
        "id": "iASYNddMsMUX",
        "outputId": "b8da2f68-4ba8-46a0-832c-523f37de5120"
      },
      "execution_count": null,
      "outputs": [
        {
          "output_type": "stream",
          "name": "stdout",
          "text": [
            "Op1 with factor 100...\n",
            "Op2 with factor 42...\n",
            "Op1 with factor 100...\n",
            "This is what expected\n"
          ]
        }
      ]
    },
    {
      "cell_type": "code",
      "source": [
        "print(obj.__dict__.keys())"
      ],
      "metadata": {
        "colab": {
          "base_uri": "https://localhost:8080/"
        },
        "id": "VL1TrEmjtTV5",
        "outputId": "7abb224f-70dd-4527-d9d2-2659f05f7042"
      },
      "execution_count": null,
      "outputs": [
        {
          "output_type": "stream",
          "name": "stdout",
          "text": [
            "dict_keys(['_A__factor', '_B__factor'])\n"
          ]
        }
      ]
    },
    {
      "cell_type": "code",
      "source": [
        "dir(obj)"
      ],
      "metadata": {
        "colab": {
          "base_uri": "https://localhost:8080/"
        },
        "id": "7W-5PJqWtpcE",
        "outputId": "8840f9c6-8d1e-4829-ba75-8cb5237a7f5e"
      },
      "execution_count": null,
      "outputs": [
        {
          "output_type": "execute_result",
          "data": {
            "text/plain": [
              "['_A__factor',\n",
              " '_B__factor',\n",
              " '__class__',\n",
              " '__delattr__',\n",
              " '__dict__',\n",
              " '__dir__',\n",
              " '__doc__',\n",
              " '__eq__',\n",
              " '__format__',\n",
              " '__ge__',\n",
              " '__getattribute__',\n",
              " '__gt__',\n",
              " '__hash__',\n",
              " '__init__',\n",
              " '__init_subclass__',\n",
              " '__le__',\n",
              " '__lt__',\n",
              " '__module__',\n",
              " '__ne__',\n",
              " '__new__',\n",
              " '__reduce__',\n",
              " '__reduce_ex__',\n",
              " '__repr__',\n",
              " '__setattr__',\n",
              " '__sizeof__',\n",
              " '__str__',\n",
              " '__subclasshook__',\n",
              " '__weakref__',\n",
              " 'op1',\n",
              " 'op2']"
            ]
          },
          "metadata": {},
          "execution_count": 28
        }
      ]
    },
    {
      "cell_type": "code",
      "source": [
        "class Weight:\n",
        "  xchange_kg_baht = 65.6\n",
        "  def __init__(self, kg):\n",
        "    self.kg = kg\n",
        "    print(id(self.xchange_kg_baht))\n",
        "    print(id(Weight.xchange_kg_baht))\n",
        "  \n",
        "  def to_baht(self):\n",
        "    self.baht = Weight.xchange_kg_baht * self.kg\n",
        "    print(id(self.xchange_kg_baht))\n",
        "    print(id(Weight.xchange_kg_baht))\n",
        "    return Weight.xchange_kg_baht * self.kg"
      ],
      "metadata": {
        "id": "1QfwVRoNuHzU"
      },
      "execution_count": null,
      "outputs": []
    },
    {
      "cell_type": "code",
      "source": [
        "myGold = Weight(0.1)\n",
        "BahtMyGold = myGold.to_baht()\n",
        "print(myGold.baht)\n",
        "print(BahtMyGold)"
      ],
      "metadata": {
        "colab": {
          "base_uri": "https://localhost:8080/"
        },
        "id": "9icT32e4wlQs",
        "outputId": "96fda23b-0ca0-4eb8-a540-58fb0cffd529"
      },
      "execution_count": null,
      "outputs": [
        {
          "output_type": "stream",
          "name": "stdout",
          "text": [
            "140666416808400\n",
            "140666416808400\n",
            "140666416808400\n",
            "140666416808400\n",
            "6.56\n",
            "6.56\n"
          ]
        }
      ]
    },
    {
      "cell_type": "code",
      "source": [
        "Weight.xchange_kg_baht = 1\n",
        "print('Weight',id(Weight.xchange_kg_baht))\n",
        "herGold = Weight(3.)\n",
        "print(herGold.to_baht())\n",
        "print('my',myGold.to_baht())\n",
        "print('my',id(myGold.xchange_kg_baht))\n",
        "print('her',id(herGold.xchange_kg_baht))"
      ],
      "metadata": {
        "colab": {
          "base_uri": "https://localhost:8080/"
        },
        "id": "0nhIE25GwzUp",
        "outputId": "f11a09ab-2b6b-4b12-bc14-bca06fd9a6e8"
      },
      "execution_count": null,
      "outputs": [
        {
          "output_type": "stream",
          "name": "stdout",
          "text": [
            "Weight 11126688\n",
            "11126688\n",
            "11126688\n",
            "11126688\n",
            "11126688\n",
            "3.0\n",
            "11126688\n",
            "11126688\n",
            "my 0.1\n",
            "my 11126688\n",
            "her 11126688\n"
          ]
        }
      ]
    },
    {
      "cell_type": "code",
      "source": [
        "myGold.xchange_kg_bath = 2\n",
        "print('my',myGold.to_baht())\n",
        "print('my',id(myGold.xchange_kg_baht))\n",
        "print('her',herGold.to_baht())\n",
        "print('her',id(herGold.xchange_kg_baht))"
      ],
      "metadata": {
        "colab": {
          "base_uri": "https://localhost:8080/"
        },
        "id": "znVEaCq9xFMW",
        "outputId": "db26f360-66fc-435b-cf2e-ae14efc6090c"
      },
      "execution_count": null,
      "outputs": [
        {
          "output_type": "stream",
          "name": "stdout",
          "text": [
            "11126688\n",
            "11126688\n",
            "my 0.1\n",
            "my 11126688\n",
            "11126688\n",
            "11126688\n",
            "her 3.0\n",
            "her 11126688\n"
          ]
        }
      ]
    },
    {
      "cell_type": "code",
      "source": [
        "Weight.xchange_kg_baht = 1\n",
        "print('Weight',id(Weight.xchange_kg_baht))\n",
        "herGold = Weight(3.)\n",
        "print(herGold.to_baht())\n",
        "print('my',myGold.to_baht())\n",
        "print('my',id(myGold.xchange_kg_baht))\n",
        "print('her',id(herGold.xchange_kg_baht))"
      ],
      "metadata": {
        "colab": {
          "base_uri": "https://localhost:8080/"
        },
        "id": "24fLOomnygSA",
        "outputId": "8e7efb0c-6fc5-41b0-919f-11e316ad76b1"
      },
      "execution_count": null,
      "outputs": [
        {
          "output_type": "stream",
          "name": "stdout",
          "text": [
            "Weight 11126688\n",
            "11126688\n",
            "11126688\n",
            "11126688\n",
            "11126688\n",
            "3.0\n",
            "11126688\n",
            "11126688\n",
            "my 0.1\n",
            "my 11126688\n",
            "her 11126688\n"
          ]
        }
      ]
    },
    {
      "cell_type": "code",
      "source": [
        "myGold.xchange_kg_baht = 2\n",
        "print('my',myGold.to_baht())\n",
        "print('my',id(myGold.xchange_kg_baht))\n",
        "print('her',herGold.to_baht())\n",
        "print('her',id(herGold.xchange_kg_baht))"
      ],
      "metadata": {
        "colab": {
          "base_uri": "https://localhost:8080/"
        },
        "id": "OosbPe5vzGOu",
        "outputId": "f6e4aa64-b8e9-4038-f14c-33c9e902e7eb"
      },
      "execution_count": null,
      "outputs": [
        {
          "output_type": "stream",
          "name": "stdout",
          "text": [
            "11126720\n",
            "140666416810768\n",
            "my 6.56\n",
            "my 11126720\n",
            "140666416810768\n",
            "140666416810768\n",
            "her 196.79999999999998\n",
            "her 140666416810768\n"
          ]
        }
      ]
    },
    {
      "cell_type": "code",
      "source": [
        "Weight.xchange_kg_baht = 65.6\n",
        "myDogGold = Weight(10)\n",
        "myDogGold.purity = 1.1 #1.1 percent gold\n",
        "print('my',myGold.to_baht())\n",
        "print('my',id(myGold.xchange_kg_baht))\n",
        "print('her',herGold.to_baht())\n",
        "print('her',id(herGold.xchange_kg_baht))\n",
        "print('myDog',myDogGold.to_baht())\n",
        "print('myDog',id(myDogGold.xchange_kg_baht))\n",
        "print(myDogGold.purity)\n",
        "print(myGold.purity)"
      ],
      "metadata": {
        "colab": {
          "base_uri": "https://localhost:8080/",
          "height": 472
        },
        "id": "0PDSWQtJ0fye",
        "outputId": "839e562c-a73e-4cfd-dbc9-80669e699808"
      },
      "execution_count": null,
      "outputs": [
        {
          "output_type": "stream",
          "name": "stdout",
          "text": [
            "140666416810768\n",
            "140666416810768\n",
            "11126720\n",
            "140666416810768\n",
            "my 6.56\n",
            "my 11126720\n",
            "140666416810768\n",
            "140666416810768\n",
            "her 196.79999999999998\n",
            "her 140666416810768\n",
            "140666416810768\n",
            "140666416810768\n",
            "myDog 656.0\n",
            "myDog 140666416810768\n",
            "1.1\n"
          ]
        },
        {
          "output_type": "error",
          "ename": "AttributeError",
          "evalue": "ignored",
          "traceback": [
            "\u001b[0;31m---------------------------------------------------------------------------\u001b[0m",
            "\u001b[0;31mAttributeError\u001b[0m                            Traceback (most recent call last)",
            "\u001b[0;32m<ipython-input-40-c656e8d08a9a>\u001b[0m in \u001b[0;36m<module>\u001b[0;34m\u001b[0m\n\u001b[1;32m      9\u001b[0m \u001b[0mprint\u001b[0m\u001b[0;34m(\u001b[0m\u001b[0;34m'myDog'\u001b[0m\u001b[0;34m,\u001b[0m\u001b[0mid\u001b[0m\u001b[0;34m(\u001b[0m\u001b[0mmyDogGold\u001b[0m\u001b[0;34m.\u001b[0m\u001b[0mxchange_kg_baht\u001b[0m\u001b[0;34m)\u001b[0m\u001b[0;34m)\u001b[0m\u001b[0;34m\u001b[0m\u001b[0;34m\u001b[0m\u001b[0m\n\u001b[1;32m     10\u001b[0m \u001b[0mprint\u001b[0m\u001b[0;34m(\u001b[0m\u001b[0mmyDogGold\u001b[0m\u001b[0;34m.\u001b[0m\u001b[0mpurity\u001b[0m\u001b[0;34m)\u001b[0m\u001b[0;34m\u001b[0m\u001b[0;34m\u001b[0m\u001b[0m\n\u001b[0;32m---> 11\u001b[0;31m \u001b[0mprint\u001b[0m\u001b[0;34m(\u001b[0m\u001b[0mmyGold\u001b[0m\u001b[0;34m.\u001b[0m\u001b[0mpurity\u001b[0m\u001b[0;34m)\u001b[0m\u001b[0;34m\u001b[0m\u001b[0;34m\u001b[0m\u001b[0m\n\u001b[0m",
            "\u001b[0;31mAttributeError\u001b[0m: 'Weight' object has no attribute 'purity'"
          ]
        }
      ]
    },
    {
      "cell_type": "code",
      "source": [
        "def foo(i) -> float:\n",
        "  return i * 3.0"
      ],
      "metadata": {
        "id": "ewWLTdat1zy4"
      },
      "execution_count": null,
      "outputs": []
    },
    {
      "cell_type": "code",
      "source": [
        "foo(2)"
      ],
      "metadata": {
        "colab": {
          "base_uri": "https://localhost:8080/"
        },
        "id": "hytzXPr31bnX",
        "outputId": "ca6c87a9-2ced-4ddf-8749-05a8be04719f"
      },
      "execution_count": null,
      "outputs": [
        {
          "output_type": "execute_result",
          "data": {
            "text/plain": [
              "6.0"
            ]
          },
          "metadata": {},
          "execution_count": 43
        }
      ]
    },
    {
      "cell_type": "code",
      "source": [
        "foo('test')"
      ],
      "metadata": {
        "colab": {
          "base_uri": "https://localhost:8080/",
          "height": 240
        },
        "id": "fyAPwZHn17jJ",
        "outputId": "5d125561-e4ef-4215-84b3-6c3898c4c404"
      },
      "execution_count": null,
      "outputs": [
        {
          "output_type": "error",
          "ename": "TypeError",
          "evalue": "ignored",
          "traceback": [
            "\u001b[0;31m---------------------------------------------------------------------------\u001b[0m",
            "\u001b[0;31mTypeError\u001b[0m                                 Traceback (most recent call last)",
            "\u001b[0;32m<ipython-input-44-77326847e1df>\u001b[0m in \u001b[0;36m<module>\u001b[0;34m\u001b[0m\n\u001b[0;32m----> 1\u001b[0;31m \u001b[0mfoo\u001b[0m\u001b[0;34m(\u001b[0m\u001b[0;34m'test'\u001b[0m\u001b[0;34m)\u001b[0m\u001b[0;34m\u001b[0m\u001b[0;34m\u001b[0m\u001b[0m\n\u001b[0m",
            "\u001b[0;32m<ipython-input-42-70be82f0eaec>\u001b[0m in \u001b[0;36mfoo\u001b[0;34m(i)\u001b[0m\n\u001b[1;32m      1\u001b[0m \u001b[0;32mdef\u001b[0m \u001b[0mfoo\u001b[0m\u001b[0;34m(\u001b[0m\u001b[0mi\u001b[0m\u001b[0;34m)\u001b[0m \u001b[0;34m->\u001b[0m \u001b[0mfloat\u001b[0m\u001b[0;34m:\u001b[0m\u001b[0;34m\u001b[0m\u001b[0;34m\u001b[0m\u001b[0m\n\u001b[0;32m----> 2\u001b[0;31m   \u001b[0;32mreturn\u001b[0m \u001b[0mi\u001b[0m \u001b[0;34m*\u001b[0m \u001b[0;36m3.0\u001b[0m\u001b[0;34m\u001b[0m\u001b[0;34m\u001b[0m\u001b[0m\n\u001b[0m",
            "\u001b[0;31mTypeError\u001b[0m: can't multiply sequence by non-int of type 'float'"
          ]
        }
      ]
    },
    {
      "cell_type": "code",
      "source": [
        "def foo2(i) -> float:\n",
        "  return i"
      ],
      "metadata": {
        "id": "vPC6zJ6G195P"
      },
      "execution_count": null,
      "outputs": []
    },
    {
      "cell_type": "code",
      "source": [
        "foo2('test')"
      ],
      "metadata": {
        "colab": {
          "base_uri": "https://localhost:8080/",
          "height": 35
        },
        "id": "0UnsY_l-2ByO",
        "outputId": "2f0c1f7e-80ca-4290-cbed-8c2cb5570494"
      },
      "execution_count": null,
      "outputs": [
        {
          "output_type": "execute_result",
          "data": {
            "text/plain": [
              "'test'"
            ],
            "application/vnd.google.colaboratory.intrinsic+json": {
              "type": "string"
            }
          },
          "metadata": {},
          "execution_count": 46
        }
      ]
    },
    {
      "cell_type": "code",
      "source": [
        "def foo3(i) -> str:\n",
        "  return i"
      ],
      "metadata": {
        "id": "dx5z8QaZ2EHx"
      },
      "execution_count": null,
      "outputs": []
    },
    {
      "cell_type": "code",
      "source": [
        "foo3('test')"
      ],
      "metadata": {
        "colab": {
          "base_uri": "https://localhost:8080/",
          "height": 35
        },
        "id": "SvUnF7ZH2JF_",
        "outputId": "36f1fe64-647f-4f4a-e2f0-5771e12e9d3f"
      },
      "execution_count": null,
      "outputs": [
        {
          "output_type": "execute_result",
          "data": {
            "text/plain": [
              "'test'"
            ],
            "application/vnd.google.colaboratory.intrinsic+json": {
              "type": "string"
            }
          },
          "metadata": {},
          "execution_count": 48
        }
      ]
    },
    {
      "cell_type": "code",
      "source": [
        "def foo4(i) -> wfwfwf:\n",
        "    return i"
      ],
      "metadata": {
        "colab": {
          "base_uri": "https://localhost:8080/",
          "height": 187
        },
        "id": "7Pfk_ZCF2LiE",
        "outputId": "fa8781f1-8be1-4aab-f182-ada9561905af"
      },
      "execution_count": null,
      "outputs": [
        {
          "output_type": "error",
          "ename": "NameError",
          "evalue": "ignored",
          "traceback": [
            "\u001b[0;31m---------------------------------------------------------------------------\u001b[0m",
            "\u001b[0;31mNameError\u001b[0m                                 Traceback (most recent call last)",
            "\u001b[0;32m<ipython-input-50-9c277f74716b>\u001b[0m in \u001b[0;36m<module>\u001b[0;34m\u001b[0m\n\u001b[0;32m----> 1\u001b[0;31m \u001b[0;32mdef\u001b[0m \u001b[0mfoo4\u001b[0m\u001b[0;34m(\u001b[0m\u001b[0mi\u001b[0m\u001b[0;34m)\u001b[0m \u001b[0;34m->\u001b[0m \u001b[0mwfwfwf\u001b[0m\u001b[0;34m:\u001b[0m\u001b[0;34m\u001b[0m\u001b[0;34m\u001b[0m\u001b[0m\n\u001b[0m\u001b[1;32m      2\u001b[0m     \u001b[0;32mreturn\u001b[0m \u001b[0mi\u001b[0m\u001b[0;34m\u001b[0m\u001b[0;34m\u001b[0m\u001b[0m\n",
            "\u001b[0;31mNameError\u001b[0m: name 'wfwfwf' is not defined"
          ]
        }
      ]
    },
    {
      "cell_type": "code",
      "source": [
        "class ClientTcpConnect:\n",
        "  protocolName = 'TCO/IP'\n",
        "  protocolVersion = 'Version 4'\n",
        "  def __init__(self, ipAddr):\n",
        "    self.macAddr = self.getMacAddr()\n",
        "    self.ipAddr = ipAddr\n",
        "    self.status = 'idle'\n",
        "\n",
        "  @staticmethod\n",
        "  def getMacAddr():\n",
        "    pass\n",
        "\n",
        "  @staticmethod\n",
        "  def hostNameLookup(hostName):\n",
        "    pass\n",
        "  \n",
        "  @classmethod\n",
        "  def init_with_hostName(cls, hostName):\n",
        "    pass\n",
        "  \n",
        "  def initializeHandShake(self,remoteIpAddr):\n",
        "    pass\n",
        "  \n",
        "  def disconnection(self):\n",
        "    pass\n",
        "\n",
        "class ClientDbConnect(ClientTcpConnect):\n",
        "  dbProtocol = 'Oracle'\n",
        "\n",
        "  def __init__(self,user,passwd,ip,remoteIp):\n",
        "    self.user = user\n",
        "    self.passwd = passwd\n",
        "    super().__init__(ip)\n",
        "  \n",
        "  @classmethod\n",
        "  def init_with_hostName(cls,user,passwd,hostName,remoteIP):\n",
        "    pass\n",
        "  def queryDb(self,sql):\n",
        "    pass\n",
        "  def insertDb(self,sql):\n",
        "    pass\n",
        "    "
      ],
      "metadata": {
        "id": "OPFkIm1D2QzZ"
      },
      "execution_count": null,
      "outputs": []
    },
    {
      "cell_type": "code",
      "source": [
        "import random\n",
        "\n",
        "\n",
        "class ClientTcpConnect:\n",
        "    protocolName = 'TCP/IP'\n",
        "    protocolVersion = 'Version 4'\n",
        "    def __init__(self, ipAddr):\n",
        "        self.macAddr = self.getMacAddr()\n",
        "        self.ipAddr = ipAddr\n",
        "        self.status = 'idle'\n",
        "    \n",
        "    @staticmethod\n",
        "    def getMacAddr():\n",
        "        return 'A1212-B3434'\n",
        "    \n",
        "    @staticmethod\n",
        "    def hostNameLookup(hostName):\n",
        "        if hostName == 'mySelf':\n",
        "            return '127.0.0.1'\n",
        "        elif hostName == 'hisHome':\n",
        "            return '314.10.100.12'\n",
        "        \n",
        "    @classmethod\n",
        "    def init_with_hostName(cls, hostName):\n",
        "        ip = self.hostNameLookup(hostName)\n",
        "        return cls(ip)\n",
        "        \n",
        "        \n",
        "    def initializeHandShake(self,remoteIpAddr):\n",
        "        self.remoteIpAddr = remoteIpAddr\n",
        "        chance = random.randint(0,9)\n",
        "        if chance<8:\n",
        "            print('Connected')\n",
        "            self.status = 'connected'\n",
        "        else:\n",
        "            print('Error Connecting')\n",
        "            \n",
        "    def disconnection(self):\n",
        "        if not self.remoteIpAddr or not self.status=='connected' :\n",
        "            print('Error: There is no connection yet')\n",
        "            return -1\n",
        "        else:\n",
        "            self.status = 'idle'\n",
        "            del self.remoteIpAddr\n",
        "            print('Disconnected')\n",
        "            \n",
        "    \n",
        "class ClientDbConnect(ClientTcpConnect):\n",
        "    dbProtocol = 'Oracle'\n",
        "    \n",
        "    def __init__(self,user,passwd,ip,remoteIp):\n",
        "        self.user = user\n",
        "        self.passwd = passwd\n",
        "        super().__init__(ip)\n",
        "        super().initializeHandShake(remoteIp)\n",
        "        \n",
        "    @classmethod\n",
        "    def init_with_hostName(cls, user,passwd, hostName,remoteIP):\n",
        "        ip = super().hostNameLookup(hostName)\n",
        "        return cls(user,passwd,ip,remoteIP)\n",
        "           \n",
        "        \n",
        "    def queryDb(self,sql):\n",
        "        if self.status != 'connected':\n",
        "            return -1        \n",
        "        if 'SELECT' in sql:\n",
        "            return 'name addr job_desc position'\n",
        "        else:\n",
        "            print('SQL error: missing SELECT')\n",
        "            return -1       \n",
        "    \n",
        "    \n",
        "    def insertDb(self, sql):\n",
        "        if self.status != 'connected':\n",
        "            return -1\n",
        "        if 'INSERT' in sql:\n",
        "            return 0\n",
        "        else:\n",
        "            print('SQL error: missing INSERT')\n",
        "            return -1\n",
        "    \n",
        "\n",
        "        "
      ],
      "metadata": {
        "id": "tkmgywIV4IIv"
      },
      "execution_count": null,
      "outputs": []
    },
    {
      "cell_type": "code",
      "source": [
        "officeDbCon =  ClientDbConnect.init_with_hostName('admin','1234',hostName='hisHome',remoteIP='182.182.182.182')"
      ],
      "metadata": {
        "colab": {
          "base_uri": "https://localhost:8080/"
        },
        "id": "MCNlfOXB50XB",
        "outputId": "d2a5b9d7-b0b6-4e29-c142-5adbdf243203"
      },
      "execution_count": null,
      "outputs": [
        {
          "output_type": "stream",
          "name": "stdout",
          "text": [
            "Connected\n"
          ]
        }
      ]
    },
    {
      "cell_type": "code",
      "source": [
        "officeDbCon.status\n",
        "officeDbCon.remoteIpAddr"
      ],
      "metadata": {
        "colab": {
          "base_uri": "https://localhost:8080/",
          "height": 35
        },
        "id": "Pn5uXqKD55NF",
        "outputId": "bbe1589c-ae4e-4dad-d3bf-fe2458d2b871"
      },
      "execution_count": null,
      "outputs": [
        {
          "output_type": "execute_result",
          "data": {
            "text/plain": [
              "'182.182.182.182'"
            ],
            "application/vnd.google.colaboratory.intrinsic+json": {
              "type": "string"
            }
          },
          "metadata": {},
          "execution_count": 55
        }
      ]
    },
    {
      "cell_type": "code",
      "source": [
        "officeDbCon2 =  ClientDbConnect('admin2','12345','12.19.12.19','192.192.192.192')"
      ],
      "metadata": {
        "colab": {
          "base_uri": "https://localhost:8080/"
        },
        "id": "TK55q0W7580M",
        "outputId": "bc2c7864-7b0b-41df-c5e9-cb957adbafb2"
      },
      "execution_count": null,
      "outputs": [
        {
          "output_type": "stream",
          "name": "stdout",
          "text": [
            "Connected\n"
          ]
        }
      ]
    },
    {
      "cell_type": "code",
      "source": [
        "for i in range(5):\n",
        "    print(ClientDbConnect.init_with_hostName('admin','1234',hostName='hisHome',remoteIP='182.182.182.182').status)"
      ],
      "metadata": {
        "colab": {
          "base_uri": "https://localhost:8080/"
        },
        "id": "3AgG4e2n6IzR",
        "outputId": "373f7ba5-74f3-4561-d3e7-e5865799535d"
      },
      "execution_count": null,
      "outputs": [
        {
          "output_type": "stream",
          "name": "stdout",
          "text": [
            "Connected\n",
            "connected\n",
            "Connected\n",
            "connected\n",
            "Connected\n",
            "connected\n",
            "Connected\n",
            "connected\n",
            "Connected\n",
            "connected\n"
          ]
        }
      ]
    },
    {
      "cell_type": "code",
      "source": [
        "print(officeDbCon.queryDb('from myTable;'))# จงใจผิด\n",
        "print(officeDbCon.queryDb('SELECT * from myTable;'))\n",
        "print(officeDbCon.insertDb('SELECT * from myTable;'))# จงใจผิด\n",
        "print(officeDbCon.insertDb('INSERT into myTable blabla;'))\n",
        "#Polymorphism here\n",
        "officeDbCon.disconnection()"
      ],
      "metadata": {
        "colab": {
          "base_uri": "https://localhost:8080/"
        },
        "id": "LP6XIfHV6K65",
        "outputId": "3fadca09-dc6e-472f-a9f5-75e3e896ff80"
      },
      "execution_count": null,
      "outputs": [
        {
          "output_type": "stream",
          "name": "stdout",
          "text": [
            "SQL error: missing SELECT\n",
            "-1\n",
            "name addr job_desc position\n",
            "SQL error: missing INSERT\n",
            "-1\n",
            "0\n",
            "Disconnected\n"
          ]
        }
      ]
    },
    {
      "cell_type": "code",
      "source": [
        "print(officeDbCon2.queryDb('from myTable;'))# จงใจผิด\n",
        "print(officeDbCon2.queryDb('SELECT * from myTable;'))\n",
        "print(officeDbCon2.insertDb('SELECT * from myTable;'))# จงใจผิด\n",
        "print(officeDbCon2.insertDb('INSERT into myTable blabla;'))\n",
        "#Polymorphism here\n",
        "officeDbCon2.disconnection()"
      ],
      "metadata": {
        "colab": {
          "base_uri": "https://localhost:8080/"
        },
        "id": "ea8iNGFF6NML",
        "outputId": "8aa3148a-fb07-43ae-eb4d-fe267aa4c90e"
      },
      "execution_count": null,
      "outputs": [
        {
          "output_type": "stream",
          "name": "stdout",
          "text": [
            "SQL error: missing SELECT\n",
            "-1\n",
            "name addr job_desc position\n",
            "SQL error: missing INSERT\n",
            "-1\n",
            "0\n",
            "Disconnected\n"
          ]
        }
      ]
    },
    {
      "cell_type": "code",
      "source": [
        "import random\n",
        "import enum\n",
        "\n",
        "class ConnectionStatus(enum.Enum):\n",
        "    CONNECTED = 1\n",
        "    IDLE = 0\n",
        "\n",
        "class DbProtocol:\n",
        "    \n",
        "    def __init__(self, protocolVersion,myMacAddr, remoteIp, handshakeStr):\n",
        "        self.protocolVersion = protocolVersion   \n",
        "        self.buffer = protocolVersion + '|'+ myMacAddr + '|'+ remoteIp + '|'+ handshakeStr \n",
        "\n",
        "        \n",
        "\n",
        "class ClientTcpConnect:\n",
        "    protocolName = 'TCP/IP'\n",
        "    protocolVersion = 'Version 4'\n",
        "    def __init__(self, ipAddr):\n",
        "        self.macAddr = self.getMacAddr()\n",
        "        self.ipAddr = ipAddr\n",
        "        self.status = 'idle'\n",
        "    \n",
        "    @staticmethod\n",
        "    def getMacAddr():\n",
        "        return 'A1212-B3434'\n",
        "    \n",
        "    @staticmethod\n",
        "    def hostNameLookup(hostName):\n",
        "        if hostName == 'mySelf':\n",
        "            return '127.0.0.1'\n",
        "        elif hostName == 'hisHome':\n",
        "            return '314.10.100.12'\n",
        "        \n",
        "    @classmethod\n",
        "    def init_with_hostName(cls, hostName):\n",
        "        ip = self.hostNameLookup(hostName)\n",
        "        return cls(ip)\n",
        "        \n",
        "        \n",
        "    def initializeHandShake(self,remoteIpAddr)->str:\n",
        "        self.remoteIpAddr = remoteIpAddr\n",
        "        chance = random.randint(0,9)\n",
        "        if chance<8:\n",
        "            print('Connected')\n",
        "            self.status = ConnectionStatus.CONNECTED\n",
        "            return 'AABBAABBA'\n",
        "        else:\n",
        "            print('Error Connecting')\n",
        "            return 'ERRORCODE'\n",
        "            \n",
        "    def disconnection(self):\n",
        "        if not self.remoteIpAddr or not self.status==ConnectionStatus.CONNECTED:\n",
        "            print('Error: There is no connection yet')\n",
        "            return -1\n",
        "        else:\n",
        "            self.status = ConnectionStatus.IDLE\n",
        "            del self.remoteIpAddr\n",
        "            print('Disconnected')\n",
        "            \n",
        "    \n",
        "class ClientDbConnect(ClientTcpConnect):\n",
        "    protocolVersion = '3.2'\n",
        "    \n",
        "    \n",
        "    def __init__(self,user,passwd,ip,remoteIp):\n",
        "        self.user = user\n",
        "        self.passwd = passwd\n",
        "        super().__init__(ip)\n",
        "        self.handshakeStr = super().initializeHandShake(remoteIp)\n",
        "        self.dbProtocol = DbProtocol(ClientDbConnect.protocolVersion, self.macAddr,\\\n",
        "                                                            self.remoteIpAddr,self.handshakeStr)\n",
        "        \n",
        "    @classmethod\n",
        "    def init_with_hostName(cls, user,passwd, hostName,remoteIP):\n",
        "        ip = super().hostNameLookup(hostName)        \n",
        "        return cls(user,passwd,ip,remoteIP)\n",
        "           \n",
        "        \n",
        "    def queryDb(self,sql):\n",
        "        if self.status != ConnectionStatus.CONNECTED:\n",
        "            return -1        \n",
        "        if 'SELECT' in sql:\n",
        "            return 'name addr job_desc position'\n",
        "        else:\n",
        "            print('SQL error: missing SELECT')\n",
        "            return -1       \n",
        "    \n",
        "    \n",
        "    def insertDb(self, sql):\n",
        "        if self.status != ConnectionStatus.CONNECTED:\n",
        "            return -1\n",
        "        if 'INSERT' in sql:\n",
        "            return 0\n",
        "        else:\n",
        "            print('SQL error: missing INSERT')\n",
        "            return -1"
      ],
      "metadata": {
        "id": "IHOj2S1U6PLq"
      },
      "execution_count": null,
      "outputs": []
    },
    {
      "cell_type": "code",
      "source": [
        "officeDbCon =  ClientDbConnect.init_with_hostName('admin','1234',hostName='hisHome',remoteIP='182.182.182.182')"
      ],
      "metadata": {
        "colab": {
          "base_uri": "https://localhost:8080/"
        },
        "id": "3GUeBBUx6T6A",
        "outputId": "92e768bb-7ad8-4f2f-d19e-81d54c0560b5"
      },
      "execution_count": null,
      "outputs": [
        {
          "output_type": "stream",
          "name": "stdout",
          "text": [
            "Connected\n"
          ]
        }
      ]
    },
    {
      "cell_type": "code",
      "source": [
        "print(officeDbCon.dbProtocol.buffer)"
      ],
      "metadata": {
        "colab": {
          "base_uri": "https://localhost:8080/"
        },
        "id": "MdEzubpt6Xzi",
        "outputId": "96fd46ff-c3bc-499d-b0ac-da29cf6c4ee8"
      },
      "execution_count": null,
      "outputs": [
        {
          "output_type": "stream",
          "name": "stdout",
          "text": [
            "3.2|A1212-B3434|182.182.182.182|AABBAABBA\n"
          ]
        }
      ]
    },
    {
      "cell_type": "code",
      "source": [
        "def randomIp():\n",
        "    ips = (str(random.randint(0,255)),str(random.randint(0,255))\\\n",
        "           ,str(random.randint(0,255)),str(random.randint(0,255)))  \n",
        "    return '.'.join(ips)\n",
        "\n",
        "print(randomIp())"
      ],
      "metadata": {
        "colab": {
          "base_uri": "https://localhost:8080/"
        },
        "id": "sKqmYTeW6Y91",
        "outputId": "ca64e851-2ff2-4411-f415-fb8ca0347072"
      },
      "execution_count": null,
      "outputs": [
        {
          "output_type": "stream",
          "name": "stdout",
          "text": [
            "54.53.174.141\n"
          ]
        }
      ]
    },
    {
      "cell_type": "code",
      "source": [
        "for i in range(5):\n",
        "    remoteIP = randomIp()\n",
        "    con = ClientDbConnect.init_with_hostName('admin','1234','hisHome',remoteIP)\n",
        "    print(con.status)\n",
        "    print(con.dbProtocol.buffer)"
      ],
      "metadata": {
        "colab": {
          "base_uri": "https://localhost:8080/"
        },
        "id": "ML2hE39B6aVf",
        "outputId": "97218551-0ffe-451d-8237-64a460724efe"
      },
      "execution_count": null,
      "outputs": [
        {
          "output_type": "stream",
          "name": "stdout",
          "text": [
            "Connected\n",
            "ConnectionStatus.CONNECTED\n",
            "3.2|A1212-B3434|169.75.251.229|AABBAABBA\n",
            "Connected\n",
            "ConnectionStatus.CONNECTED\n",
            "3.2|A1212-B3434|97.110.219.73|AABBAABBA\n",
            "Connected\n",
            "ConnectionStatus.CONNECTED\n",
            "3.2|A1212-B3434|82.104.63.1|AABBAABBA\n",
            "Connected\n",
            "ConnectionStatus.CONNECTED\n",
            "3.2|A1212-B3434|15.249.114.19|AABBAABBA\n",
            "Connected\n",
            "ConnectionStatus.CONNECTED\n",
            "3.2|A1212-B3434|23.62.118.221|AABBAABBA\n"
          ]
        }
      ]
    },
    {
      "cell_type": "code",
      "source": [
        "print(officeDbCon.queryDb('from myTable;'))# จงใจผิด\n",
        "print(officeDbCon.queryDb('SELECT * from myTable;'))\n",
        "print(officeDbCon.insertDb('SELECT * from myTable;'))# จงใจผิด\n",
        "print(officeDbCon.insertDb('INSERT into myTable blabla;'))\n",
        "\n",
        "officeDbCon.disconnection()  "
      ],
      "metadata": {
        "colab": {
          "base_uri": "https://localhost:8080/"
        },
        "id": "5mUAczQS6bvW",
        "outputId": "255fef88-1f8b-48a9-f4d3-639744583fbd"
      },
      "execution_count": null,
      "outputs": [
        {
          "output_type": "stream",
          "name": "stdout",
          "text": [
            "SQL error: missing SELECT\n",
            "-1\n",
            "name addr job_desc position\n",
            "SQL error: missing INSERT\n",
            "-1\n",
            "0\n",
            "Disconnected\n"
          ]
        }
      ]
    },
    {
      "cell_type": "code",
      "source": [
        "import random\n",
        "import enum\n",
        "\n",
        "class ConnectionStatus(enum.Enum):\n",
        "    CONNECTED = 1\n",
        "    IDLE = 0\n",
        "\n",
        "class DbProtocol:\n",
        "    \n",
        "    def __init__(self, protocolVersion,myMacAddr, remoteIp, handshakeStr):\n",
        "        self.protocolVersion = protocolVersion   \n",
        "        self.buffer = protocolVersion + '|'+ myMacAddr + '|'+ remoteIp + '|'+ handshakeStr \n",
        "\n",
        "        \n",
        "\n",
        "class ClientTcpConnect:\n",
        "    protocolName = 'TCP/IP'\n",
        "    protocolVersion = 'Version 4'\n",
        "    def __init__(self, ipAddr,remoteIpAddr):\n",
        "        self.macAddr = self.getMacAddr()\n",
        "        self.ipAddr = ipAddr\n",
        "        self.status = 'idle'\n",
        "        self.remoteIpAddr = remoteIpAddr\n",
        "    \n",
        "    @staticmethod\n",
        "    def getMacAddr():\n",
        "        return 'A1212-B3434'\n",
        "    \n",
        "    @staticmethod\n",
        "    def hostNameLookup(hostName):\n",
        "        if hostName == 'mySelf':\n",
        "            return '127.0.0.1'\n",
        "        elif hostName == 'hisHome':\n",
        "            return '314.10.100.12'\n",
        "        \n",
        "    @classmethod\n",
        "    def init_with_hostName(cls, hostName):\n",
        "        ip = self.hostNameLookup(hostName)\n",
        "        return cls(ip)\n",
        "        \n",
        "        \n",
        "    def connect(self)->str:\n",
        "        \n",
        "        chance = random.randint(0,9)\n",
        "        if chance<8:\n",
        "            print('Connected')\n",
        "            self.status = ConnectionStatus.CONNECTED\n",
        "            return 'AABBAABBA'\n",
        "        else:\n",
        "            print('Error Connecting')\n",
        "            return 'ERRORCODE'\n",
        "            \n",
        "    def disconnection(self):\n",
        "        if not self.remoteIpAddr or not self.status==ConnectionStatus.CONNECTED:\n",
        "            print('Error: There is no connection yet')\n",
        "            return -1\n",
        "        else:\n",
        "            self.status = ConnectionStatus.IDLE\n",
        "            del self.remoteIpAddr\n",
        "            print('Disconnected')\n",
        "            \n",
        "    \n",
        "class ClientDbConnect(ClientTcpConnect):\n",
        "    protocolVersion = '3.2'\n",
        "    \n",
        "    \n",
        "    def __init__(self,user,passwd,ip,remoteIp):\n",
        "        self.user = user\n",
        "        self.passwd = passwd\n",
        "        super().__init__(ip,remoteIp)\n",
        "        \n",
        "        \n",
        "    def connect(self)->int:\n",
        "        self.handshakeStr = super().connect()\n",
        "        if self.handshakeStr == 'ERRORCODE': \n",
        "            return -1\n",
        "        self.dbProtocol = DbProtocol(ClientDbConnect.protocolVersion, self.macAddr,\\\n",
        "                                                            self.remoteIpAddr,self.handshakeStr)\n",
        "        return 0\n",
        "        \n",
        "    @classmethod\n",
        "    def init_with_hostName(cls, user,passwd, hostName,remoteIP):\n",
        "        ip = super().hostNameLookup(hostName)        \n",
        "        return cls(user,passwd,ip,remoteIP)\n",
        "           \n",
        "        \n",
        "    def queryDb(self,sql):\n",
        "        if self.status != ConnectionStatus.CONNECTED:\n",
        "            return -1        \n",
        "        if 'SELECT' in sql:\n",
        "            return 'name addr job_desc position'\n",
        "        else:\n",
        "            print('SQL error: missing SELECT')\n",
        "            return -1       \n",
        "    \n",
        "    \n",
        "    def insertDb(self, sql):\n",
        "        if self.status != ConnectionStatus.CONNECTED:\n",
        "            return -1\n",
        "        if 'INSERT' in sql:\n",
        "            return 0\n",
        "        else:\n",
        "            print('SQL error: missing INSERT')\n",
        "            return -1\n",
        "    \n",
        "\n",
        "        \n",
        "        \n",
        "        "
      ],
      "metadata": {
        "id": "7uUyBdhS6gMI"
      },
      "execution_count": null,
      "outputs": []
    },
    {
      "cell_type": "code",
      "source": [
        "officeDbCon =  ClientDbConnect.init_with_hostName('admin','1234',hostName='hisHome',remoteIP='182.182.182.182')\n",
        "officeDbCon.connect()\n"
      ],
      "metadata": {
        "colab": {
          "base_uri": "https://localhost:8080/"
        },
        "id": "tg_-TWo46iQO",
        "outputId": "e94dea74-5504-43e0-ee28-96eb016c7a4e"
      },
      "execution_count": null,
      "outputs": [
        {
          "output_type": "stream",
          "name": "stdout",
          "text": [
            "Error Connecting\n"
          ]
        },
        {
          "output_type": "execute_result",
          "data": {
            "text/plain": [
              "-1"
            ]
          },
          "metadata": {},
          "execution_count": 67
        }
      ]
    },
    {
      "cell_type": "code",
      "source": [
        "print(officeDbCon.dbProtocol.buffer)"
      ],
      "metadata": {
        "colab": {
          "base_uri": "https://localhost:8080/",
          "height": 169
        },
        "id": "SN5TessP6jyg",
        "outputId": "ac92b396-b5f4-4c49-e79a-68d39ae90967"
      },
      "execution_count": null,
      "outputs": [
        {
          "output_type": "error",
          "ename": "AttributeError",
          "evalue": "ignored",
          "traceback": [
            "\u001b[0;31m---------------------------------------------------------------------------\u001b[0m",
            "\u001b[0;31mAttributeError\u001b[0m                            Traceback (most recent call last)",
            "\u001b[0;32m<ipython-input-68-3bd4724a2f87>\u001b[0m in \u001b[0;36m<module>\u001b[0;34m\u001b[0m\n\u001b[0;32m----> 1\u001b[0;31m \u001b[0mprint\u001b[0m\u001b[0;34m(\u001b[0m\u001b[0mofficeDbCon\u001b[0m\u001b[0;34m.\u001b[0m\u001b[0mdbProtocol\u001b[0m\u001b[0;34m.\u001b[0m\u001b[0mbuffer\u001b[0m\u001b[0;34m)\u001b[0m\u001b[0;34m\u001b[0m\u001b[0;34m\u001b[0m\u001b[0m\n\u001b[0m",
            "\u001b[0;31mAttributeError\u001b[0m: 'ClientDbConnect' object has no attribute 'dbProtocol'"
          ]
        }
      ]
    },
    {
      "cell_type": "code",
      "source": [
        "import sys\n",
        "for i in range(20):\n",
        "    remoteIP = randomIp()\n",
        "    con = ClientDbConnect.init_with_hostName('admin','1234','hisHome',remoteIP)\n",
        "    con.connect()\n",
        "    try:\n",
        "        print(con.status)\n",
        "        print(con.dbProtocol.buffer)\n",
        "    except Exception as e:\n",
        "        print(\"error occured: \"+str(e))\n",
        "    \n",
        "    "
      ],
      "metadata": {
        "colab": {
          "base_uri": "https://localhost:8080/"
        },
        "id": "B8Ep1XHB6lVZ",
        "outputId": "9190a372-b1d6-44d9-ae8a-6b287bcd41aa"
      },
      "execution_count": null,
      "outputs": [
        {
          "output_type": "stream",
          "name": "stdout",
          "text": [
            "Error Connecting\n",
            "idle\n",
            "error occured: 'ClientDbConnect' object has no attribute 'dbProtocol'\n",
            "Connected\n",
            "ConnectionStatus.CONNECTED\n",
            "3.2|A1212-B3434|19.84.24.151|AABBAABBA\n",
            "Connected\n",
            "ConnectionStatus.CONNECTED\n",
            "3.2|A1212-B3434|64.122.188.73|AABBAABBA\n",
            "Connected\n",
            "ConnectionStatus.CONNECTED\n",
            "3.2|A1212-B3434|145.110.19.21|AABBAABBA\n",
            "Error Connecting\n",
            "idle\n",
            "error occured: 'ClientDbConnect' object has no attribute 'dbProtocol'\n",
            "Connected\n",
            "ConnectionStatus.CONNECTED\n",
            "3.2|A1212-B3434|196.238.228.19|AABBAABBA\n",
            "Error Connecting\n",
            "idle\n",
            "error occured: 'ClientDbConnect' object has no attribute 'dbProtocol'\n",
            "Connected\n",
            "ConnectionStatus.CONNECTED\n",
            "3.2|A1212-B3434|229.110.64.71|AABBAABBA\n",
            "Connected\n",
            "ConnectionStatus.CONNECTED\n",
            "3.2|A1212-B3434|189.190.83.208|AABBAABBA\n",
            "Connected\n",
            "ConnectionStatus.CONNECTED\n",
            "3.2|A1212-B3434|57.48.49.199|AABBAABBA\n",
            "Connected\n",
            "ConnectionStatus.CONNECTED\n",
            "3.2|A1212-B3434|195.210.89.7|AABBAABBA\n",
            "Connected\n",
            "ConnectionStatus.CONNECTED\n",
            "3.2|A1212-B3434|129.225.16.45|AABBAABBA\n",
            "Connected\n",
            "ConnectionStatus.CONNECTED\n",
            "3.2|A1212-B3434|60.202.211.125|AABBAABBA\n",
            "Connected\n",
            "ConnectionStatus.CONNECTED\n",
            "3.2|A1212-B3434|180.88.73.123|AABBAABBA\n",
            "Connected\n",
            "ConnectionStatus.CONNECTED\n",
            "3.2|A1212-B3434|113.102.24.55|AABBAABBA\n",
            "Connected\n",
            "ConnectionStatus.CONNECTED\n",
            "3.2|A1212-B3434|252.238.9.150|AABBAABBA\n",
            "Connected\n",
            "ConnectionStatus.CONNECTED\n",
            "3.2|A1212-B3434|221.213.62.37|AABBAABBA\n",
            "Connected\n",
            "ConnectionStatus.CONNECTED\n",
            "3.2|A1212-B3434|13.35.80.29|AABBAABBA\n",
            "Connected\n",
            "ConnectionStatus.CONNECTED\n",
            "3.2|A1212-B3434|189.54.138.196|AABBAABBA\n",
            "Connected\n",
            "ConnectionStatus.CONNECTED\n",
            "3.2|A1212-B3434|177.83.105.6|AABBAABBA\n"
          ]
        }
      ]
    },
    {
      "cell_type": "code",
      "source": [
        "import sys\n",
        "for i in range(20):\n",
        "    remoteIP = randomIp()\n",
        "    con = ClientDbConnect.init_with_hostName('admin','1234','hisHome',remoteIP)\n",
        "    con.connect()\n",
        "    try:\n",
        "        print(con.status)\n",
        "        print(con.dbProtocol.buffer)\n",
        "    except Exception as e:\n",
        "        print(\"error occured: \"+str(e))\n",
        "    \n",
        "    "
      ],
      "metadata": {
        "colab": {
          "base_uri": "https://localhost:8080/"
        },
        "id": "OmnbiBWX6mvV",
        "outputId": "238ae896-3925-4869-8555-84d7bf5e6a48"
      },
      "execution_count": null,
      "outputs": [
        {
          "output_type": "stream",
          "name": "stdout",
          "text": [
            "Connected\n",
            "ConnectionStatus.CONNECTED\n",
            "3.2|A1212-B3434|199.249.41.20|AABBAABBA\n",
            "Connected\n",
            "ConnectionStatus.CONNECTED\n",
            "3.2|A1212-B3434|27.4.83.244|AABBAABBA\n",
            "Connected\n",
            "ConnectionStatus.CONNECTED\n",
            "3.2|A1212-B3434|242.162.199.41|AABBAABBA\n",
            "Connected\n",
            "ConnectionStatus.CONNECTED\n",
            "3.2|A1212-B3434|130.203.33.64|AABBAABBA\n",
            "Connected\n",
            "ConnectionStatus.CONNECTED\n",
            "3.2|A1212-B3434|64.250.183.243|AABBAABBA\n",
            "Connected\n",
            "ConnectionStatus.CONNECTED\n",
            "3.2|A1212-B3434|37.125.39.253|AABBAABBA\n",
            "Connected\n",
            "ConnectionStatus.CONNECTED\n",
            "3.2|A1212-B3434|160.126.164.29|AABBAABBA\n",
            "Connected\n",
            "ConnectionStatus.CONNECTED\n",
            "3.2|A1212-B3434|246.92.199.57|AABBAABBA\n",
            "Connected\n",
            "ConnectionStatus.CONNECTED\n",
            "3.2|A1212-B3434|89.215.195.179|AABBAABBA\n",
            "Error Connecting\n",
            "idle\n",
            "error occured: 'ClientDbConnect' object has no attribute 'dbProtocol'\n",
            "Error Connecting\n",
            "idle\n",
            "error occured: 'ClientDbConnect' object has no attribute 'dbProtocol'\n",
            "Connected\n",
            "ConnectionStatus.CONNECTED\n",
            "3.2|A1212-B3434|233.175.250.182|AABBAABBA\n",
            "Connected\n",
            "ConnectionStatus.CONNECTED\n",
            "3.2|A1212-B3434|254.202.131.156|AABBAABBA\n",
            "Connected\n",
            "ConnectionStatus.CONNECTED\n",
            "3.2|A1212-B3434|56.251.206.104|AABBAABBA\n",
            "Connected\n",
            "ConnectionStatus.CONNECTED\n",
            "3.2|A1212-B3434|209.202.12.215|AABBAABBA\n",
            "Connected\n",
            "ConnectionStatus.CONNECTED\n",
            "3.2|A1212-B3434|15.19.133.44|AABBAABBA\n",
            "Error Connecting\n",
            "idle\n",
            "error occured: 'ClientDbConnect' object has no attribute 'dbProtocol'\n",
            "Connected\n",
            "ConnectionStatus.CONNECTED\n",
            "3.2|A1212-B3434|234.102.226.40|AABBAABBA\n",
            "Error Connecting\n",
            "idle\n",
            "error occured: 'ClientDbConnect' object has no attribute 'dbProtocol'\n",
            "Connected\n",
            "ConnectionStatus.CONNECTED\n",
            "3.2|A1212-B3434|57.149.184.24|AABBAABBA\n"
          ]
        }
      ]
    },
    {
      "cell_type": "code",
      "source": [
        "print(officeDbCon.queryDb('from myTable;'))# จงใจผิด\n",
        "print(officeDbCon.queryDb('SELECT * from myTable;'))\n",
        "print(officeDbCon.insertDb('SELECT * from myTable;'))# จงใจผิด\n",
        "print(officeDbCon.insertDb('INSERT into myTable blabla;'))\n",
        "\n",
        "    "
      ],
      "metadata": {
        "colab": {
          "base_uri": "https://localhost:8080/"
        },
        "id": "s6I91L546pyN",
        "outputId": "7a75060b-9d91-4e94-8102-1503bc38c4f7"
      },
      "execution_count": null,
      "outputs": [
        {
          "output_type": "stream",
          "name": "stdout",
          "text": [
            "-1\n",
            "-1\n",
            "-1\n",
            "-1\n"
          ]
        }
      ]
    },
    {
      "cell_type": "code",
      "source": [
        "import random\n",
        "import enum\n",
        "\n",
        "class ConnectionStatus(enum.Enum):\n",
        "    CONNECTED = 1\n",
        "    IDLE = 0\n",
        "\n",
        "class DbProtocol:\n",
        "    \n",
        "    def __init__(self, protocolVersion,myMacAddr, remoteIp, handshakeStr):\n",
        "        self.protocolVersion = protocolVersion   \n",
        "        self.buffer = protocolVersion + '|'+ myMacAddr + '|'+ remoteIp + '|'+ handshakeStr \n",
        "\n",
        "        \n",
        "\n",
        "class ClientTcpConnect:\n",
        "    protocolName = 'TCP/IP'\n",
        "    protocolVersion = 'Version 4'\n",
        "    def __init__(self, ipAddr,remoteIpAddr):\n",
        "        self.macAddr = self.getMacAddr()\n",
        "        self.ipAddr = ipAddr\n",
        "        self.status = 'idle'\n",
        "        self.remoteIpAddr = remoteIpAddr\n",
        "    \n",
        "    @staticmethod\n",
        "    def getMacAddr():\n",
        "        return 'A1212-B3434'\n",
        "    \n",
        "    @staticmethod\n",
        "    def hostNameLookup(hostName):\n",
        "        if hostName == 'mySelf':\n",
        "            return '127.0.0.1'\n",
        "        elif hostName == 'hisHome':\n",
        "            return '314.10.100.12'\n",
        "        \n",
        "    @classmethod\n",
        "    def init_with_hostName(cls, hostName):\n",
        "        ip = self.hostNameLookup(hostName)\n",
        "        return cls(ip)\n",
        "        \n",
        "        \n",
        "    def connect(self)->str:\n",
        "        \n",
        "        chance = random.randint(0,9)\n",
        "        if chance<8:\n",
        "            print('Connected')\n",
        "            self.status = ConnectionStatus.CONNECTED\n",
        "            return 'AABBAABBA'\n",
        "        else:\n",
        "            print('Error Connecting')\n",
        "            return 'ERRORCODE'\n",
        "            \n",
        "    def disconnection(self):\n",
        "        if not self.remoteIpAddr or not self.status==ConnectionStatus.CONNECTED:\n",
        "            print('Error: There is no connection yet')\n",
        "            return -1\n",
        "        else:\n",
        "            self.status = ConnectionStatus.IDLE\n",
        "            del self.remoteIpAddr\n",
        "            print('Disconnected')\n",
        "\n",
        "class SQLDatabase:\n",
        "    def queryDb(self,sql):\n",
        "        if self.status != ConnectionStatus.CONNECTED:\n",
        "            return -1        \n",
        "        if 'SELECT' in sql:\n",
        "            return 'name addr job_desc position'\n",
        "        else:\n",
        "            print('SQL error: missing SELECT')\n",
        "            return -1       \n",
        "    \n",
        "    \n",
        "    def insertDb(self, sql):\n",
        "        if self.status != ConnectionStatus.CONNECTED:\n",
        "            return -1\n",
        "        if 'INSERT' in sql:\n",
        "            return 0\n",
        "        else:\n",
        "            print('SQL error: missing INSERT')\n",
        "            return -1\n",
        "    \n",
        "    \n",
        "    \n",
        "class ClientDb(ClientTcpConnect,SQLDatabase):\n",
        "    protocolVersion = '3.2'\n",
        "    \n",
        "    \n",
        "    def __init__(self,user,passwd,ip,remoteIp):\n",
        "        self.user = user\n",
        "        self.passwd = passwd\n",
        "        super().__init__(ip,remoteIp)\n",
        "        \n",
        "        \n",
        "    def connect(self)->int:\n",
        "        self.handshakeStr = super().connect()\n",
        "        if self.handshakeStr == 'ERRORCODE': \n",
        "            return -1\n",
        "        self.dbProtocol = DbProtocol(ClientDb.protocolVersion, self.macAddr,\\\n",
        "                                                            self.remoteIpAddr,self.handshakeStr)\n",
        "        return 0\n",
        "        \n",
        "    @classmethod\n",
        "    def init_with_hostName(cls, user,passwd, hostName,remoteIP):\n",
        "        ip = super().hostNameLookup(hostName)        \n",
        "        return cls(user,passwd,ip,remoteIP)\n",
        "           \n",
        "        \n",
        "\n",
        "\n",
        "        \n",
        "        \n",
        "        "
      ],
      "metadata": {
        "id": "AaPBbo_e6r1t"
      },
      "execution_count": null,
      "outputs": []
    },
    {
      "cell_type": "code",
      "source": [
        "officeDbCon =  ClientDb.init_with_hostName('admin','1234',hostName='hisHome',remoteIP='182.182.182.182')\n",
        "officeDbCon.connect()"
      ],
      "metadata": {
        "colab": {
          "base_uri": "https://localhost:8080/"
        },
        "id": "kARD17dN6t6P",
        "outputId": "e7aa6e76-8f39-44eb-aa8b-fd2c9b3da4ac"
      },
      "execution_count": null,
      "outputs": [
        {
          "output_type": "stream",
          "name": "stdout",
          "text": [
            "Connected\n"
          ]
        },
        {
          "output_type": "execute_result",
          "data": {
            "text/plain": [
              "0"
            ]
          },
          "metadata": {},
          "execution_count": 73
        }
      ]
    },
    {
      "cell_type": "code",
      "source": [
        "print(officeDbCon.dbProtocol.buffer)"
      ],
      "metadata": {
        "colab": {
          "base_uri": "https://localhost:8080/"
        },
        "id": "EQZBNV4V6vgA",
        "outputId": "f08c3b9b-a4d0-4cdc-b187-d3b4043cf4df"
      },
      "execution_count": null,
      "outputs": [
        {
          "output_type": "stream",
          "name": "stdout",
          "text": [
            "3.2|A1212-B3434|182.182.182.182|AABBAABBA\n"
          ]
        }
      ]
    },
    {
      "cell_type": "code",
      "source": [
        "import sys\n",
        "\n",
        "cons = []\n",
        "for i in range(5):\n",
        "    remoteIP = randomIp()\n",
        "    con = ClientDb.init_with_hostName('admin','1234','hisHome',remoteIP)\n",
        "    con.connect()\n",
        "    try:\n",
        "        print(con.status)\n",
        "        print(con.dbProtocol.buffer)         \n",
        "    except Exception as e:\n",
        "        print(\"error occured: \"+str(e))\n",
        "    else:\n",
        "        cons.append(con)\n",
        "        \n",
        "        \n",
        "print(cons)\n",
        "print(len(cons))\n",
        "for i in cons:\n",
        "    print(i.remoteIpAddr, i.status)"
      ],
      "metadata": {
        "colab": {
          "base_uri": "https://localhost:8080/"
        },
        "id": "tdCjlDWN6wt2",
        "outputId": "9331ff6a-b3b9-4578-f25a-7bd9c17c214e"
      },
      "execution_count": null,
      "outputs": [
        {
          "output_type": "stream",
          "name": "stdout",
          "text": [
            "Connected\n",
            "ConnectionStatus.CONNECTED\n",
            "3.2|A1212-B3434|170.27.125.186|AABBAABBA\n",
            "Connected\n",
            "ConnectionStatus.CONNECTED\n",
            "3.2|A1212-B3434|219.105.125.140|AABBAABBA\n",
            "Connected\n",
            "ConnectionStatus.CONNECTED\n",
            "3.2|A1212-B3434|37.26.233.212|AABBAABBA\n",
            "Error Connecting\n",
            "idle\n",
            "error occured: 'ClientDb' object has no attribute 'dbProtocol'\n",
            "Connected\n",
            "ConnectionStatus.CONNECTED\n",
            "3.2|A1212-B3434|105.43.132.113|AABBAABBA\n",
            "[<__main__.ClientDb object at 0x7fef73d38050>, <__main__.ClientDb object at 0x7fef73d38c50>, <__main__.ClientDb object at 0x7fef73d38590>, <__main__.ClientDb object at 0x7fef73d00410>]\n",
            "4\n",
            "170.27.125.186 ConnectionStatus.CONNECTED\n",
            "219.105.125.140 ConnectionStatus.CONNECTED\n",
            "37.26.233.212 ConnectionStatus.CONNECTED\n",
            "105.43.132.113 ConnectionStatus.CONNECTED\n"
          ]
        }
      ]
    },
    {
      "cell_type": "code",
      "source": [
        "print(officeDbCon.queryDb('from myTable;'))# จงใจผิด\n",
        "print(officeDbCon.queryDb('SELECT * from myTable;'))\n",
        "print(officeDbCon.insertDb('SELECT * from myTable;'))# จงใจผิด\n",
        "print(officeDbCon.insertDb('INSERT into myTable blabla;'))\n",
        "\n",
        "officeDbCon.disconnection()     "
      ],
      "metadata": {
        "colab": {
          "base_uri": "https://localhost:8080/"
        },
        "id": "98WbYVLB6yV5",
        "outputId": "05edaa9f-81af-4a2b-e6d3-a2b1da8fa544"
      },
      "execution_count": null,
      "outputs": [
        {
          "output_type": "stream",
          "name": "stdout",
          "text": [
            "SQL error: missing SELECT\n",
            "-1\n",
            "name addr job_desc position\n",
            "SQL error: missing INSERT\n",
            "-1\n",
            "0\n",
            "Disconnected\n"
          ]
        }
      ]
    },
    {
      "cell_type": "code",
      "source": [
        "def first(msg):\n",
        "    print(msg)\n",
        "\n",
        "\n",
        "first(\"Hello\")\n",
        "\n",
        "second = first\n",
        "second(\"Hello2\")\n",
        "print(type(first),type(second))\n",
        "print(id(first),id(second))"
      ],
      "metadata": {
        "colab": {
          "base_uri": "https://localhost:8080/"
        },
        "id": "FcrrgyFc6zz_",
        "outputId": "1257021a-5442-428f-c83d-b82f63b9f566"
      },
      "execution_count": null,
      "outputs": [
        {
          "output_type": "stream",
          "name": "stdout",
          "text": [
            "Hello\n",
            "Hello2\n",
            "<class 'function'> <class 'function'>\n",
            "140666416659920 140666416659920\n"
          ]
        }
      ]
    },
    {
      "cell_type": "code",
      "source": [
        "def inc(x):\n",
        "    return x + 1\n",
        "\n",
        "\n",
        "def dec(x):\n",
        "    return x - 1\n",
        "\n",
        "\n",
        "def operate(func, x):\n",
        "    result = func(x)\n",
        "    return result"
      ],
      "metadata": {
        "id": "q8wxavKI61Tt"
      },
      "execution_count": null,
      "outputs": []
    },
    {
      "cell_type": "code",
      "source": [
        "operate(inc,3)"
      ],
      "metadata": {
        "colab": {
          "base_uri": "https://localhost:8080/"
        },
        "id": "0kr4oGtL62jW",
        "outputId": "ca0d09b7-4d15-438e-9712-656f7c58e03b"
      },
      "execution_count": null,
      "outputs": [
        {
          "output_type": "execute_result",
          "data": {
            "text/plain": [
              "4"
            ]
          },
          "metadata": {},
          "execution_count": 79
        }
      ]
    },
    {
      "cell_type": "code",
      "source": [
        "operate(dec,3)"
      ],
      "metadata": {
        "colab": {
          "base_uri": "https://localhost:8080/"
        },
        "id": "7k4I1gDi6388",
        "outputId": "86c193d1-c5d9-41f4-985a-36be39145330"
      },
      "execution_count": null,
      "outputs": [
        {
          "output_type": "execute_result",
          "data": {
            "text/plain": [
              "2"
            ]
          },
          "metadata": {},
          "execution_count": 80
        }
      ]
    },
    {
      "cell_type": "code",
      "source": [
        "def is_called():\n",
        "    def is_returned():\n",
        "        print(\"Hello\")\n",
        "    return is_returned\n",
        "\n",
        "\n",
        "new = is_called()\n",
        "\n",
        "# Outputs \"Hello\"\n",
        "new()\n",
        "type(new)\n",
        "print(new.__class__.__name__)\n"
      ],
      "metadata": {
        "colab": {
          "base_uri": "https://localhost:8080/"
        },
        "id": "NYuzh2eY65Nt",
        "outputId": "18c8e1f9-92fa-4368-9a17-6e8b068cba9e"
      },
      "execution_count": null,
      "outputs": [
        {
          "output_type": "stream",
          "name": "stdout",
          "text": [
            "Hello\n",
            "function\n"
          ]
        }
      ]
    },
    {
      "cell_type": "code",
      "source": [
        "def make_pretty(func):\n",
        "    def inner():\n",
        "        print(\"I got decorated\")\n",
        "        func()\n",
        "    return inner\n",
        "\n",
        "\n",
        "def ordinary():\n",
        "    print(\"I am ordinary\")"
      ],
      "metadata": {
        "id": "3aD177v-6656"
      },
      "execution_count": null,
      "outputs": []
    },
    {
      "cell_type": "code",
      "source": [
        "ordinary()"
      ],
      "metadata": {
        "colab": {
          "base_uri": "https://localhost:8080/"
        },
        "id": "ShPXYMRe68Eu",
        "outputId": "90c9865b-f1ed-44d8-9600-36078d892196"
      },
      "execution_count": null,
      "outputs": [
        {
          "output_type": "stream",
          "name": "stdout",
          "text": [
            "I am ordinary\n"
          ]
        }
      ]
    },
    {
      "cell_type": "code",
      "source": [
        "pretty = make_pretty(ordinary)\n",
        "pretty()"
      ],
      "metadata": {
        "colab": {
          "base_uri": "https://localhost:8080/"
        },
        "id": "_otgoFuW69FO",
        "outputId": "b1006804-06c9-4ad8-ff11-09a1eeee64ae"
      },
      "execution_count": null,
      "outputs": [
        {
          "output_type": "stream",
          "name": "stdout",
          "text": [
            "I got decorated\n",
            "I am ordinary\n"
          ]
        }
      ]
    },
    {
      "cell_type": "code",
      "source": [
        "ordinary = make_pretty(ordinary)\n",
        "ordinary()"
      ],
      "metadata": {
        "colab": {
          "base_uri": "https://localhost:8080/"
        },
        "id": "sfPCKWd06-Fw",
        "outputId": "cadbfcaa-caf6-4aff-cd43-c224de44bed8"
      },
      "execution_count": null,
      "outputs": [
        {
          "output_type": "stream",
          "name": "stdout",
          "text": [
            "I got decorated\n",
            "I am ordinary\n"
          ]
        }
      ]
    },
    {
      "cell_type": "code",
      "source": [
        "ordinary()"
      ],
      "metadata": {
        "colab": {
          "base_uri": "https://localhost:8080/"
        },
        "id": "jiC3h2CG6_aA",
        "outputId": "635dbce7-c66f-4e58-9b81-66f82fc8eb39"
      },
      "execution_count": null,
      "outputs": [
        {
          "output_type": "stream",
          "name": "stdout",
          "text": [
            "I got decorated\n",
            "I am ordinary\n"
          ]
        }
      ]
    },
    {
      "cell_type": "code",
      "source": [
        "@make_pretty\n",
        "def ordinary():\n",
        "    print(\"I am ordinary\")"
      ],
      "metadata": {
        "id": "usfdL1kT7ATq"
      },
      "execution_count": null,
      "outputs": []
    },
    {
      "cell_type": "code",
      "source": [
        "ordinary()"
      ],
      "metadata": {
        "colab": {
          "base_uri": "https://localhost:8080/"
        },
        "id": "wJyL8mVe7CNm",
        "outputId": "16d027b5-90cd-4e0d-d21c-72998008409c"
      },
      "execution_count": null,
      "outputs": [
        {
          "output_type": "stream",
          "name": "stdout",
          "text": [
            "I got decorated\n",
            "I am ordinary\n"
          ]
        }
      ]
    },
    {
      "cell_type": "code",
      "source": [
        "def ordinary():\n",
        "    print(\"I am ordinary\")\n",
        "ordinary = make_pretty(ordinary)"
      ],
      "metadata": {
        "id": "0kr1oUyF7DlI"
      },
      "execution_count": null,
      "outputs": []
    },
    {
      "cell_type": "code",
      "source": [
        "ordinary()"
      ],
      "metadata": {
        "colab": {
          "base_uri": "https://localhost:8080/"
        },
        "id": "JfeqRGbS7Ey7",
        "outputId": "12e3bce3-d078-442d-84e5-01c8badeb1c0"
      },
      "execution_count": null,
      "outputs": [
        {
          "output_type": "stream",
          "name": "stdout",
          "text": [
            "I got decorated\n",
            "I am ordinary\n"
          ]
        }
      ]
    },
    {
      "cell_type": "code",
      "source": [
        "def divide(a, b):\n",
        "    return a/b"
      ],
      "metadata": {
        "id": "ydVoZuhA7GFi"
      },
      "execution_count": null,
      "outputs": []
    },
    {
      "cell_type": "code",
      "source": [
        "divide(2,5)"
      ],
      "metadata": {
        "colab": {
          "base_uri": "https://localhost:8080/"
        },
        "id": "c9d3p6G57HeP",
        "outputId": "a3cf0546-4953-4256-ea3f-d22ab7e7f989"
      },
      "execution_count": null,
      "outputs": [
        {
          "output_type": "execute_result",
          "data": {
            "text/plain": [
              "0.4"
            ]
          },
          "metadata": {},
          "execution_count": 92
        }
      ]
    },
    {
      "cell_type": "code",
      "source": [
        "divide(2,0) #จงใจผิด division by zero"
      ],
      "metadata": {
        "colab": {
          "base_uri": "https://localhost:8080/",
          "height": 240
        },
        "id": "ENrz0Z7m7Iqx",
        "outputId": "1012b15e-7180-4bba-b7fb-3316aea50192"
      },
      "execution_count": null,
      "outputs": [
        {
          "output_type": "error",
          "ename": "ZeroDivisionError",
          "evalue": "ignored",
          "traceback": [
            "\u001b[0;31m---------------------------------------------------------------------------\u001b[0m",
            "\u001b[0;31mZeroDivisionError\u001b[0m                         Traceback (most recent call last)",
            "\u001b[0;32m<ipython-input-93-e2173439740b>\u001b[0m in \u001b[0;36m<module>\u001b[0;34m\u001b[0m\n\u001b[0;32m----> 1\u001b[0;31m \u001b[0mdivide\u001b[0m\u001b[0;34m(\u001b[0m\u001b[0;36m2\u001b[0m\u001b[0;34m,\u001b[0m\u001b[0;36m0\u001b[0m\u001b[0;34m)\u001b[0m \u001b[0;31m#จงใจผิด division by zero\u001b[0m\u001b[0;34m\u001b[0m\u001b[0;34m\u001b[0m\u001b[0m\n\u001b[0m",
            "\u001b[0;32m<ipython-input-91-7507bdc665d5>\u001b[0m in \u001b[0;36mdivide\u001b[0;34m(a, b)\u001b[0m\n\u001b[1;32m      1\u001b[0m \u001b[0;32mdef\u001b[0m \u001b[0mdivide\u001b[0m\u001b[0;34m(\u001b[0m\u001b[0ma\u001b[0m\u001b[0;34m,\u001b[0m \u001b[0mb\u001b[0m\u001b[0;34m)\u001b[0m\u001b[0;34m:\u001b[0m\u001b[0;34m\u001b[0m\u001b[0;34m\u001b[0m\u001b[0m\n\u001b[0;32m----> 2\u001b[0;31m     \u001b[0;32mreturn\u001b[0m \u001b[0ma\u001b[0m\u001b[0;34m/\u001b[0m\u001b[0mb\u001b[0m\u001b[0;34m\u001b[0m\u001b[0;34m\u001b[0m\u001b[0m\n\u001b[0m",
            "\u001b[0;31mZeroDivisionError\u001b[0m: division by zero"
          ]
        }
      ]
    },
    {
      "cell_type": "code",
      "source": [
        "def smart_divide(func):\n",
        "    def inner(a, b):\n",
        "        print(\"I am going to divide\", a, \"and\", b)\n",
        "        if b == 0:\n",
        "            print(\"Whoops! cannot divide\")\n",
        "            return\n",
        "\n",
        "        return func(a, b)# Try to comment out this line\n",
        "    return inner\n",
        "\n",
        "\n",
        "@smart_divide\n",
        "def divide(a, b):\n",
        "    print(a/b)"
      ],
      "metadata": {
        "id": "MtBO_-tX7J0Y"
      },
      "execution_count": null,
      "outputs": []
    },
    {
      "cell_type": "code",
      "source": [
        "divide(2,5)"
      ],
      "metadata": {
        "colab": {
          "base_uri": "https://localhost:8080/"
        },
        "id": "09YGlca57Le9",
        "outputId": "93f21c26-00e9-4905-ae15-767894be5882"
      },
      "execution_count": null,
      "outputs": [
        {
          "output_type": "stream",
          "name": "stdout",
          "text": [
            "I am going to divide 2 and 5\n",
            "0.4\n"
          ]
        }
      ]
    },
    {
      "cell_type": "code",
      "source": [
        "divide(2,0)"
      ],
      "metadata": {
        "colab": {
          "base_uri": "https://localhost:8080/"
        },
        "id": "nYBsxDKD7Mfs",
        "outputId": "a05e02fe-57a1-4522-c684-66cad3941690"
      },
      "execution_count": null,
      "outputs": [
        {
          "output_type": "stream",
          "name": "stdout",
          "text": [
            "I am going to divide 2 and 0\n",
            "Whoops! cannot divide\n"
          ]
        }
      ]
    },
    {
      "cell_type": "code",
      "source": [
        "def divide2(a,b):\n",
        "    return a/b\n",
        "\n",
        "print(divide2.__name__)\n",
        "divide2 = smart_divide(divide2)\n",
        "print(type(divide2))\n",
        "print(divide2.__name__)"
      ],
      "metadata": {
        "colab": {
          "base_uri": "https://localhost:8080/"
        },
        "id": "GAa4hLpz7Nqt",
        "outputId": "8f6c0061-24c9-4241-d66f-f8cd10752ac1"
      },
      "execution_count": null,
      "outputs": [
        {
          "output_type": "stream",
          "name": "stdout",
          "text": [
            "divide2\n",
            "<class 'function'>\n",
            "inner\n"
          ]
        }
      ]
    },
    {
      "cell_type": "code",
      "source": [
        "print(divide2(2,5))\n",
        "print(divide2(2,0))"
      ],
      "metadata": {
        "colab": {
          "base_uri": "https://localhost:8080/"
        },
        "id": "k21bPM_17PD5",
        "outputId": "913879ea-097f-4c22-b6bd-a7f8bc0bccb7"
      },
      "execution_count": null,
      "outputs": [
        {
          "output_type": "stream",
          "name": "stdout",
          "text": [
            "I am going to divide 2 and 5\n",
            "0.4\n",
            "I am going to divide 2 and 0\n",
            "Whoops! cannot divide\n",
            "None\n"
          ]
        }
      ]
    },
    {
      "cell_type": "code",
      "source": [
        "def works_for_all(func):\n",
        "    def inner(*args, **kwargs):\n",
        "        print(\"I can decorate any function\")\n",
        "        return func(*args, **kwargs)\n",
        "    return inner"
      ],
      "metadata": {
        "id": "xhkNfoBC7QKD"
      },
      "execution_count": null,
      "outputs": []
    },
    {
      "cell_type": "code",
      "source": [
        "def star(func):\n",
        "    def inner(*args, **kwargs):\n",
        "        print(\"*\" * 10)\n",
        "        func(*args, **kwargs)\n",
        "        print(\"*\" * 10)\n",
        "    return inner\n",
        "\n",
        "\n",
        "def percent(func):\n",
        "    def inner(*args, **kwargs):\n",
        "        print(\"%\" * 30)\n",
        "        func(*args, **kwargs)\n",
        "        print(\"%\" * 30)\n",
        "    return inner\n",
        "\n",
        "\n",
        "@star\n",
        "@percent\n",
        "def printer(msg):\n",
        "    print(msg)\n",
        "\n",
        "\n",
        "printer(\"AAAAA\")"
      ],
      "metadata": {
        "colab": {
          "base_uri": "https://localhost:8080/"
        },
        "id": "UfXfjzlp7RPO",
        "outputId": "1588ae41-1138-4e8d-ec7d-e38de30c049e"
      },
      "execution_count": null,
      "outputs": [
        {
          "output_type": "stream",
          "name": "stdout",
          "text": [
            "**********\n",
            "%%%%%%%%%%%%%%%%%%%%%%%%%%%%%%\n",
            "AAAAA\n",
            "%%%%%%%%%%%%%%%%%%%%%%%%%%%%%%\n",
            "**********\n"
          ]
        }
      ]
    },
    {
      "cell_type": "code",
      "source": [
        "@star\n",
        "@percent\n",
        "def printer(msg):\n",
        "    print(msg)"
      ],
      "metadata": {
        "id": "VHPuFNwD7SAt"
      },
      "execution_count": null,
      "outputs": []
    },
    {
      "cell_type": "code",
      "source": [
        "def printer(msg):\n",
        "    print(msg)\n",
        "printer = star(percent(printer))"
      ],
      "metadata": {
        "id": "Wpps3g387TVT"
      },
      "execution_count": null,
      "outputs": []
    },
    {
      "cell_type": "code",
      "source": [
        "printer(\"CAAAA\")"
      ],
      "metadata": {
        "colab": {
          "base_uri": "https://localhost:8080/"
        },
        "id": "AN7ck6-M7UPH",
        "outputId": "337c41d2-10e6-4971-a468-b107499e0503"
      },
      "execution_count": null,
      "outputs": [
        {
          "output_type": "stream",
          "name": "stdout",
          "text": [
            "**********\n",
            "%%%%%%%%%%%%%%%%%%%%%%%%%%%%%%\n",
            "CAAAA\n",
            "%%%%%%%%%%%%%%%%%%%%%%%%%%%%%%\n",
            "**********\n"
          ]
        }
      ]
    },
    {
      "cell_type": "code",
      "source": [
        "@percent\n",
        "@star\n",
        "def printer(msg):\n",
        "    print(msg)\n",
        "    \n",
        "printer(\"Hello\")"
      ],
      "metadata": {
        "colab": {
          "base_uri": "https://localhost:8080/"
        },
        "id": "MjM5P9bf7VOV",
        "outputId": "176de3f7-e714-42e5-aa8d-1f3f383576c5"
      },
      "execution_count": null,
      "outputs": [
        {
          "output_type": "stream",
          "name": "stdout",
          "text": [
            "%%%%%%%%%%%%%%%%%%%%%%%%%%%%%%\n",
            "**********\n",
            "Hello\n",
            "**********\n",
            "%%%%%%%%%%%%%%%%%%%%%%%%%%%%%%\n"
          ]
        }
      ]
    },
    {
      "cell_type": "code",
      "source": [
        "# decorators/time.measure.deco1.py\n",
        "from time import sleep, time\n",
        "def f(sleep_time=0.1):\n",
        "    sleep(sleep_time)\n",
        "def measure(func):\n",
        "    def wrapper(*args, **kwargs):\n",
        "        t = time()\n",
        "        func(*args, **kwargs)\n",
        "        took = time() - t\n",
        "        print(func.__name__, 'took:', took)\n",
        "        return took\n",
        "    return wrapper\n",
        "\n",
        "\n",
        "f = measure(f)  # decoration point\n",
        "\n",
        "\n",
        "f(0.2)  # f took: 0.20372915267944336\n",
        "f(sleep_time=0.3)  # f took: 0.30455899238586426\n",
        "print(f.__name__)  # wrapper <- ouch!\n"
      ],
      "metadata": {
        "colab": {
          "base_uri": "https://localhost:8080/"
        },
        "id": "nek0PZRH7WqA",
        "outputId": "e785a897-04db-4f1f-d98f-d850edf6d439"
      },
      "execution_count": null,
      "outputs": [
        {
          "output_type": "stream",
          "name": "stdout",
          "text": [
            "f took: 0.20026469230651855\n",
            "f took: 0.30013442039489746\n",
            "wrapper\n"
          ]
        }
      ]
    },
    {
      "cell_type": "code",
      "source": [
        "# decorators/time.measure.deco1.py\n",
        "from time import sleep, time\n",
        "\n",
        "def measure(func):\n",
        "    def wrapper(*args, **kwargs):\n",
        "        t = time()\n",
        "        func(*args, **kwargs)\n",
        "        took = time() - t\n",
        "        print(func.__name__, 'took:', took)\n",
        "        return took\n",
        "    return wrapper\n",
        "\n",
        "@measure\n",
        "def f(a,b,c,sleep_time=0.1): #Add number of params\n",
        "    sleep(sleep_time)\n",
        "\n",
        "\n",
        "k=f(9,99,999,0.2)  # f took: 0.20372915267944336\n",
        "print('k',k)\n",
        "f(9,99,999,sleep_time=0.3)  # f took: 0.30455899238586426\n",
        "print(f.__name__)  # wrapper <- ouch!"
      ],
      "metadata": {
        "colab": {
          "base_uri": "https://localhost:8080/"
        },
        "id": "t4Nkj6it7YPP",
        "outputId": "1a4def6d-a341-4887-af45-b8b6463bb6ce"
      },
      "execution_count": null,
      "outputs": [
        {
          "output_type": "stream",
          "name": "stdout",
          "text": [
            "f took: 0.20033812522888184\n",
            "k 0.20033812522888184\n",
            "f took: 0.30039429664611816\n",
            "wrapper\n"
          ]
        }
      ]
    },
    {
      "cell_type": "code",
      "source": [
        "# decorators/time.measure.deco2.py\n",
        "from time import sleep, time\n",
        "from functools import wraps\n",
        "def measure(func):\n",
        "    @wraps(func)\n",
        "    def srapper(*args, **kwargs):\n",
        "        t = time()\n",
        "        func(*args, **kwargs)\n",
        "        took = time() - t\n",
        "        print(func.__name__, 'took:', took)\n",
        "        return took\n",
        "        \n",
        "    return srapper\n",
        "@measure\n",
        "def f(sleep_time=0.1):\n",
        "    \"\"\"I'm a cat. I love to sleep! \"\"\"\n",
        "    sleep(sleep_time)\n",
        "kk=f(sleep_time=0.3)  # f took: 0.3010902404785156\n",
        "print(f.__name__, ':', f.__doc__)  # f : I'm a cat. I love to sleep!\n",
        "print(kk)\n"
      ],
      "metadata": {
        "colab": {
          "base_uri": "https://localhost:8080/"
        },
        "id": "kxdoy0OT7Zpo",
        "outputId": "7fe4ef31-7fa5-4f2a-b0b8-d81dcbabca4b"
      },
      "execution_count": null,
      "outputs": [
        {
          "output_type": "stream",
          "name": "stdout",
          "text": [
            "f took: 0.30039167404174805\n",
            "f : I'm a cat. I love to sleep! \n",
            "0.30039167404174805\n"
          ]
        }
      ]
    },
    {
      "cell_type": "code",
      "source": [
        "class Celsius:\n",
        "    def __init__(self, temperature = 0):\n",
        "        self.temperature = temperature\n",
        "\n",
        "    def to_fahrenheit(self):\n",
        "        return (self.temperature * 1.8) + 32\n"
      ],
      "metadata": {
        "id": "_WTkKYwr7bSZ"
      },
      "execution_count": null,
      "outputs": []
    },
    {
      "cell_type": "code",
      "source": [
        "# Basic method of setting and getting attributes in Python\n",
        "class Celsius:\n",
        "    def __init__(self, temperature=0):\n",
        "        self.temperature = temperature\n",
        "\n",
        "    def to_fahrenheit(self):\n",
        "        return (self.temperature * 1.8) + 32\n",
        "\n",
        "\n",
        "# Create a new object\n",
        "human = Celsius()\n",
        "\n",
        "# Set the temperature\n",
        "human.temperature = 37\n",
        "\n",
        "# Get the temperature attribute\n",
        "print(human.temperature)\n",
        "\n",
        "# Get the to_fahrenheit method\n",
        "print(human.to_fahrenheit())"
      ],
      "metadata": {
        "colab": {
          "base_uri": "https://localhost:8080/"
        },
        "id": "NDoT4ZW47chy",
        "outputId": "839213b1-adeb-4b00-f0a3-20be5bf188e1"
      },
      "execution_count": null,
      "outputs": [
        {
          "output_type": "stream",
          "name": "stdout",
          "text": [
            "37\n",
            "98.60000000000001\n"
          ]
        }
      ]
    },
    {
      "cell_type": "code",
      "source": [
        "human.__dict__"
      ],
      "metadata": {
        "colab": {
          "base_uri": "https://localhost:8080/"
        },
        "id": "duSbpzVG7deP",
        "outputId": "b9385257-c24c-44c4-9a6b-b75b587f2876"
      },
      "execution_count": null,
      "outputs": [
        {
          "output_type": "execute_result",
          "data": {
            "text/plain": [
              "{'temperature': 37}"
            ]
          },
          "metadata": {},
          "execution_count": 110
        }
      ]
    },
    {
      "cell_type": "code",
      "source": [
        "# Making Getters and Setter methods\n",
        "class Celsius:\n",
        "    def __init__(self, temperature=0):\n",
        "        self.set_temperature(temperature)\n",
        "\n",
        "    def to_fahrenheit(self):\n",
        "        return (self.get_temperature() * 1.8) + 32\n",
        "\n",
        "    # getter method\n",
        "    def get_temperature(self):\n",
        "        return self._temperature\n",
        "\n",
        "    # setter method\n",
        "    def set_temperature(self, value):\n",
        "        if value < -273.15:\n",
        "            raise ValueError(\"Temperature below -273.15 is not possible.\")\n",
        "        self._temperature = value"
      ],
      "metadata": {
        "id": "smpdGSoS7e0u"
      },
      "execution_count": null,
      "outputs": []
    },
    {
      "cell_type": "code",
      "source": [
        "# Making Getters and Setter methods\n",
        "class Celsius:\n",
        "    def __init__(self, temperature=0):\n",
        "        self.set_temperature(temperature)\n",
        "\n",
        "    def to_fahrenheit(self):\n",
        "        return (self.get_temperature() * 1.8) + 32\n",
        "\n",
        "    # getter method\n",
        "    def get_temperature(self):\n",
        "        return self._temperature\n",
        "\n",
        "    # setter method\n",
        "    def set_temperature(self, value):\n",
        "        if value < -273.15:\n",
        "            raise ValueError(\"Temperature below -273.15 is not possible.\")\n",
        "        self._temperature = value\n",
        "\n",
        "\n",
        "# Create a new object, set_temperature() internally called by __init__\n",
        "human = Celsius(37)\n",
        "\n",
        "# Get the temperature attribute via a getter\n",
        "print(human.get_temperature())#37\n",
        "\n",
        "# Get the to_fahrenheit method, get_temperature() called by the method itself\n",
        "print(human.to_fahrenheit())#98.6\n",
        "\n",
        "# new constraint implementation\n",
        "human.set_temperature(-300)#จงใจError\n",
        "\n",
        "# Get the to_fahreheit method\n",
        "print(human.to_fahrenheit())"
      ],
      "metadata": {
        "colab": {
          "base_uri": "https://localhost:8080/",
          "height": 401
        },
        "id": "IpvCv2nV7f-W",
        "outputId": "7f6ce245-3628-49f1-9474-eaf9fe0396c5"
      },
      "execution_count": null,
      "outputs": [
        {
          "output_type": "stream",
          "name": "stdout",
          "text": [
            "37\n",
            "98.60000000000001\n"
          ]
        },
        {
          "output_type": "error",
          "ename": "ValueError",
          "evalue": "ignored",
          "traceback": [
            "\u001b[0;31m---------------------------------------------------------------------------\u001b[0m",
            "\u001b[0;31mValueError\u001b[0m                                Traceback (most recent call last)",
            "\u001b[0;32m<ipython-input-112-ac8fe5f4cead>\u001b[0m in \u001b[0;36m<module>\u001b[0;34m\u001b[0m\n\u001b[1;32m     28\u001b[0m \u001b[0;34m\u001b[0m\u001b[0m\n\u001b[1;32m     29\u001b[0m \u001b[0;31m# new constraint implementation\u001b[0m\u001b[0;34m\u001b[0m\u001b[0;34m\u001b[0m\u001b[0;34m\u001b[0m\u001b[0m\n\u001b[0;32m---> 30\u001b[0;31m \u001b[0mhuman\u001b[0m\u001b[0;34m.\u001b[0m\u001b[0mset_temperature\u001b[0m\u001b[0;34m(\u001b[0m\u001b[0;34m-\u001b[0m\u001b[0;36m300\u001b[0m\u001b[0;34m)\u001b[0m\u001b[0;31m#จงใจError\u001b[0m\u001b[0;34m\u001b[0m\u001b[0;34m\u001b[0m\u001b[0m\n\u001b[0m\u001b[1;32m     31\u001b[0m \u001b[0;34m\u001b[0m\u001b[0m\n\u001b[1;32m     32\u001b[0m \u001b[0;31m# Get the to_fahreheit method\u001b[0m\u001b[0;34m\u001b[0m\u001b[0;34m\u001b[0m\u001b[0;34m\u001b[0m\u001b[0m\n",
            "\u001b[0;32m<ipython-input-112-ac8fe5f4cead>\u001b[0m in \u001b[0;36mset_temperature\u001b[0;34m(self, value)\u001b[0m\n\u001b[1;32m     14\u001b[0m     \u001b[0;32mdef\u001b[0m \u001b[0mset_temperature\u001b[0m\u001b[0;34m(\u001b[0m\u001b[0mself\u001b[0m\u001b[0;34m,\u001b[0m \u001b[0mvalue\u001b[0m\u001b[0;34m)\u001b[0m\u001b[0;34m:\u001b[0m\u001b[0;34m\u001b[0m\u001b[0;34m\u001b[0m\u001b[0m\n\u001b[1;32m     15\u001b[0m         \u001b[0;32mif\u001b[0m \u001b[0mvalue\u001b[0m \u001b[0;34m<\u001b[0m \u001b[0;34m-\u001b[0m\u001b[0;36m273.15\u001b[0m\u001b[0;34m:\u001b[0m\u001b[0;34m\u001b[0m\u001b[0;34m\u001b[0m\u001b[0m\n\u001b[0;32m---> 16\u001b[0;31m             \u001b[0;32mraise\u001b[0m \u001b[0mValueError\u001b[0m\u001b[0;34m(\u001b[0m\u001b[0;34m\"Temperature below -273.15 is not possible.\"\u001b[0m\u001b[0;34m)\u001b[0m\u001b[0;34m\u001b[0m\u001b[0;34m\u001b[0m\u001b[0m\n\u001b[0m\u001b[1;32m     17\u001b[0m         \u001b[0mself\u001b[0m\u001b[0;34m.\u001b[0m\u001b[0m_temperature\u001b[0m \u001b[0;34m=\u001b[0m \u001b[0mvalue\u001b[0m\u001b[0;34m\u001b[0m\u001b[0;34m\u001b[0m\u001b[0m\n\u001b[1;32m     18\u001b[0m \u001b[0;34m\u001b[0m\u001b[0m\n",
            "\u001b[0;31mValueError\u001b[0m: Temperature below -273.15 is not possible."
          ]
        }
      ]
    },
    {
      "cell_type": "code",
      "source": [
        "# using property class\n",
        "class Celsius:\n",
        "    def __init__(self, temperature=0):\n",
        "        self.temperature = temperature\n",
        "\n",
        "    def to_fahrenheit(self):\n",
        "        return (self.temperature * 1.8) + 32\n",
        "\n",
        "    # getter\n",
        "    def get_temperature(self):\n",
        "        print(\"Getting value...\")\n",
        "        return self._temperature\n",
        "\n",
        "    # setter\n",
        "    def set_temperature(self, value):\n",
        "        print(\"Setting value...\")\n",
        "        if value < -273.15:\n",
        "            raise ValueError(\"Temperature below -273.15 is not possible\")\n",
        "        self._temperature = value\n",
        "\n",
        "    # creating a property object ในคลาส\n",
        "    temperature = property(get_temperature, set_temperature)"
      ],
      "metadata": {
        "id": "7uSzz_7g7hYh"
      },
      "execution_count": null,
      "outputs": []
    },
    {
      "cell_type": "code",
      "source": [
        "# using property class\n",
        "class Celsius:\n",
        "    def __init__(self, temperature=0):\n",
        "        self.temperature = temperature\n",
        "\n",
        "    def to_fahrenheit(self):\n",
        "        return (self.temperature * 1.8) + 32\n",
        "\n",
        "    # getter\n",
        "    def get_temperature(self):\n",
        "        print(\"Getting value...\")\n",
        "        return self._temperature\n",
        "\n",
        "    # setter\n",
        "    def set_temperature(self, value):\n",
        "        print(\"Setting value...\")\n",
        "        if value < -273.15:\n",
        "            raise ValueError(\"Temperature below -273.15 is not possible\")\n",
        "        self._temperature = value\n",
        "\n",
        "    # creating a property object\n",
        "    temperature = property(get_temperature, set_temperature)\n",
        "\n",
        "\n",
        "human = Celsius(37)\n",
        "\n",
        "print(human.temperature)\n",
        "\n",
        "print(human.to_fahrenheit())\n",
        "\n",
        "human.temperature = -300"
      ],
      "metadata": {
        "colab": {
          "base_uri": "https://localhost:8080/",
          "height": 437
        },
        "id": "fiflDTrx7lY5",
        "outputId": "a108b417-6e31-42d4-bc00-86b6d6a1e2da"
      },
      "execution_count": null,
      "outputs": [
        {
          "output_type": "stream",
          "name": "stdout",
          "text": [
            "Setting value...\n",
            "Getting value...\n",
            "37\n",
            "Getting value...\n",
            "98.60000000000001\n",
            "Setting value...\n"
          ]
        },
        {
          "output_type": "error",
          "ename": "ValueError",
          "evalue": "ignored",
          "traceback": [
            "\u001b[0;31m---------------------------------------------------------------------------\u001b[0m",
            "\u001b[0;31mValueError\u001b[0m                                Traceback (most recent call last)",
            "\u001b[0;32m<ipython-input-114-dd6f749658a4>\u001b[0m in \u001b[0;36m<module>\u001b[0;34m\u001b[0m\n\u001b[1;32m     29\u001b[0m \u001b[0mprint\u001b[0m\u001b[0;34m(\u001b[0m\u001b[0mhuman\u001b[0m\u001b[0;34m.\u001b[0m\u001b[0mto_fahrenheit\u001b[0m\u001b[0;34m(\u001b[0m\u001b[0;34m)\u001b[0m\u001b[0;34m)\u001b[0m\u001b[0;34m\u001b[0m\u001b[0;34m\u001b[0m\u001b[0m\n\u001b[1;32m     30\u001b[0m \u001b[0;34m\u001b[0m\u001b[0m\n\u001b[0;32m---> 31\u001b[0;31m \u001b[0mhuman\u001b[0m\u001b[0;34m.\u001b[0m\u001b[0mtemperature\u001b[0m \u001b[0;34m=\u001b[0m \u001b[0;34m-\u001b[0m\u001b[0;36m300\u001b[0m\u001b[0;34m\u001b[0m\u001b[0;34m\u001b[0m\u001b[0m\n\u001b[0m",
            "\u001b[0;32m<ipython-input-114-dd6f749658a4>\u001b[0m in \u001b[0;36mset_temperature\u001b[0;34m(self, value)\u001b[0m\n\u001b[1;32m     16\u001b[0m         \u001b[0mprint\u001b[0m\u001b[0;34m(\u001b[0m\u001b[0;34m\"Setting value...\"\u001b[0m\u001b[0;34m)\u001b[0m\u001b[0;34m\u001b[0m\u001b[0;34m\u001b[0m\u001b[0m\n\u001b[1;32m     17\u001b[0m         \u001b[0;32mif\u001b[0m \u001b[0mvalue\u001b[0m \u001b[0;34m<\u001b[0m \u001b[0;34m-\u001b[0m\u001b[0;36m273.15\u001b[0m\u001b[0;34m:\u001b[0m\u001b[0;34m\u001b[0m\u001b[0;34m\u001b[0m\u001b[0m\n\u001b[0;32m---> 18\u001b[0;31m             \u001b[0;32mraise\u001b[0m \u001b[0mValueError\u001b[0m\u001b[0;34m(\u001b[0m\u001b[0;34m\"Temperature below -273.15 is not possible\"\u001b[0m\u001b[0;34m)\u001b[0m\u001b[0;34m\u001b[0m\u001b[0;34m\u001b[0m\u001b[0m\n\u001b[0m\u001b[1;32m     19\u001b[0m         \u001b[0mself\u001b[0m\u001b[0;34m.\u001b[0m\u001b[0m_temperature\u001b[0m \u001b[0;34m=\u001b[0m \u001b[0mvalue\u001b[0m\u001b[0;34m\u001b[0m\u001b[0;34m\u001b[0m\u001b[0m\n\u001b[1;32m     20\u001b[0m \u001b[0;34m\u001b[0m\u001b[0m\n",
            "\u001b[0;31mValueError\u001b[0m: Temperature below -273.15 is not possible"
          ]
        }
      ]
    },
    {
      "cell_type": "code",
      "source": [
        "human = Celsius(37)"
      ],
      "metadata": {
        "colab": {
          "base_uri": "https://localhost:8080/"
        },
        "id": "27PVEAUc7m8X",
        "outputId": "611592ca-e6f8-4006-e27b-353f3977eb02"
      },
      "execution_count": null,
      "outputs": [
        {
          "output_type": "stream",
          "name": "stdout",
          "text": [
            "Setting value...\n"
          ]
        }
      ]
    },
    {
      "cell_type": "code",
      "source": [
        "# using property class\n",
        "class Celsius:\n",
        "    def __init__(self, temperature=0):\n",
        "        self.temperature = temperature\n",
        "\n",
        "    def to_fahrenheit(self):\n",
        "        return (self.temperature * 1.8) + 32\n",
        "\n",
        "    # getter\n",
        "    def get_temperature(self):\n",
        "        print(\"Getting value...\")\n",
        "        return self._tttemperature\n",
        "\n",
        "    # setter\n",
        "    def set_temperature(self, value):\n",
        "        print(\"Setting value...\")\n",
        "        if value < -273.15:\n",
        "            raise ValueError(\"Temperature below -273.15 is not possible\")\n",
        "        self._tttemperature = value\n",
        "\n",
        "    # creating a property object\n",
        "    temperature = property(get_temperature, set_temperature)\n",
        "\n",
        "\n",
        "human = Celsius(37)\n",
        "\n",
        "print(human.temperature)\n",
        "\n",
        "print(human.to_fahrenheit())\n",
        "\n",
        "human.temperature = -300"
      ],
      "metadata": {
        "colab": {
          "base_uri": "https://localhost:8080/",
          "height": 437
        },
        "id": "yB0y8Zl47rTt",
        "outputId": "2b04e5ef-1c04-4738-f53e-13d2191a34ff"
      },
      "execution_count": null,
      "outputs": [
        {
          "output_type": "stream",
          "name": "stdout",
          "text": [
            "Setting value...\n",
            "Getting value...\n",
            "37\n",
            "Getting value...\n",
            "98.60000000000001\n",
            "Setting value...\n"
          ]
        },
        {
          "output_type": "error",
          "ename": "ValueError",
          "evalue": "ignored",
          "traceback": [
            "\u001b[0;31m---------------------------------------------------------------------------\u001b[0m",
            "\u001b[0;31mValueError\u001b[0m                                Traceback (most recent call last)",
            "\u001b[0;32m<ipython-input-116-435ba636bdbf>\u001b[0m in \u001b[0;36m<module>\u001b[0;34m\u001b[0m\n\u001b[1;32m     29\u001b[0m \u001b[0mprint\u001b[0m\u001b[0;34m(\u001b[0m\u001b[0mhuman\u001b[0m\u001b[0;34m.\u001b[0m\u001b[0mto_fahrenheit\u001b[0m\u001b[0;34m(\u001b[0m\u001b[0;34m)\u001b[0m\u001b[0;34m)\u001b[0m\u001b[0;34m\u001b[0m\u001b[0;34m\u001b[0m\u001b[0m\n\u001b[1;32m     30\u001b[0m \u001b[0;34m\u001b[0m\u001b[0m\n\u001b[0;32m---> 31\u001b[0;31m \u001b[0mhuman\u001b[0m\u001b[0;34m.\u001b[0m\u001b[0mtemperature\u001b[0m \u001b[0;34m=\u001b[0m \u001b[0;34m-\u001b[0m\u001b[0;36m300\u001b[0m\u001b[0;34m\u001b[0m\u001b[0;34m\u001b[0m\u001b[0m\n\u001b[0m",
            "\u001b[0;32m<ipython-input-116-435ba636bdbf>\u001b[0m in \u001b[0;36mset_temperature\u001b[0;34m(self, value)\u001b[0m\n\u001b[1;32m     16\u001b[0m         \u001b[0mprint\u001b[0m\u001b[0;34m(\u001b[0m\u001b[0;34m\"Setting value...\"\u001b[0m\u001b[0;34m)\u001b[0m\u001b[0;34m\u001b[0m\u001b[0;34m\u001b[0m\u001b[0m\n\u001b[1;32m     17\u001b[0m         \u001b[0;32mif\u001b[0m \u001b[0mvalue\u001b[0m \u001b[0;34m<\u001b[0m \u001b[0;34m-\u001b[0m\u001b[0;36m273.15\u001b[0m\u001b[0;34m:\u001b[0m\u001b[0;34m\u001b[0m\u001b[0;34m\u001b[0m\u001b[0m\n\u001b[0;32m---> 18\u001b[0;31m             \u001b[0;32mraise\u001b[0m \u001b[0mValueError\u001b[0m\u001b[0;34m(\u001b[0m\u001b[0;34m\"Temperature below -273.15 is not possible\"\u001b[0m\u001b[0;34m)\u001b[0m\u001b[0;34m\u001b[0m\u001b[0;34m\u001b[0m\u001b[0m\n\u001b[0m\u001b[1;32m     19\u001b[0m         \u001b[0mself\u001b[0m\u001b[0;34m.\u001b[0m\u001b[0m_tttemperature\u001b[0m \u001b[0;34m=\u001b[0m \u001b[0mvalue\u001b[0m\u001b[0;34m\u001b[0m\u001b[0;34m\u001b[0m\u001b[0m\n\u001b[1;32m     20\u001b[0m \u001b[0;34m\u001b[0m\u001b[0m\n",
            "\u001b[0;31mValueError\u001b[0m: Temperature below -273.15 is not possible"
          ]
        }
      ]
    },
    {
      "cell_type": "code",
      "source": [
        "human.temperature"
      ],
      "metadata": {
        "colab": {
          "base_uri": "https://localhost:8080/"
        },
        "id": "OdhnASPS7sZ-",
        "outputId": "c769397d-eb07-4be3-f909-a8cc37eb5a9f"
      },
      "execution_count": null,
      "outputs": [
        {
          "output_type": "stream",
          "name": "stdout",
          "text": [
            "Getting value...\n"
          ]
        },
        {
          "output_type": "execute_result",
          "data": {
            "text/plain": [
              "37"
            ]
          },
          "metadata": {},
          "execution_count": 117
        }
      ]
    },
    {
      "cell_type": "code",
      "source": [
        "human.temperature = 37"
      ],
      "metadata": {
        "colab": {
          "base_uri": "https://localhost:8080/"
        },
        "id": "4apOzwBw7uD1",
        "outputId": "301c534d-9e84-4ccc-daa6-ecaac3791644"
      },
      "execution_count": null,
      "outputs": [
        {
          "output_type": "stream",
          "name": "stdout",
          "text": [
            "Setting value...\n"
          ]
        }
      ]
    },
    {
      "cell_type": "code",
      "source": [
        "human.to_fahrenheit()"
      ],
      "metadata": {
        "colab": {
          "base_uri": "https://localhost:8080/"
        },
        "id": "JrUD_yjo7vJl",
        "outputId": "9a818ccf-31ae-4201-f2b8-41d9f03ff43f"
      },
      "execution_count": null,
      "outputs": [
        {
          "output_type": "stream",
          "name": "stdout",
          "text": [
            "Getting value...\n"
          ]
        },
        {
          "output_type": "execute_result",
          "data": {
            "text/plain": [
              "98.60000000000001"
            ]
          },
          "metadata": {},
          "execution_count": 119
        }
      ]
    },
    {
      "cell_type": "code",
      "source": [
        "\n",
        "property(fget=None, fset=None, fdel=None, doc=None)"
      ],
      "metadata": {
        "colab": {
          "base_uri": "https://localhost:8080/"
        },
        "id": "M4Sh7-dl7wKI",
        "outputId": "1fd15574-b084-4bf0-8068-5590bb0dd1a6"
      },
      "execution_count": null,
      "outputs": [
        {
          "output_type": "execute_result",
          "data": {
            "text/plain": [
              "<property at 0x7fef73cc54d0>"
            ]
          },
          "metadata": {},
          "execution_count": 120
        }
      ]
    },
    {
      "cell_type": "code",
      "source": [
        "# make empty property\n",
        "temperature = property()"
      ],
      "metadata": {
        "id": "9hmP-rQ07zVL"
      },
      "execution_count": null,
      "outputs": []
    },
    {
      "cell_type": "code",
      "source": [
        "# Using @property decorator\n",
        "class Celsius:\n",
        "    def __init__(self, temperature=0):\n",
        "        self.temperature = temperature\n",
        "\n",
        "    def to_fahrenheit(self):\n",
        "        return (self.temperature * 1.8) + 32\n",
        "\n",
        "    @property\n",
        "    def temperature(self):\n",
        "        print(\"Getting value...\")\n",
        "        return self._tttemperature\n",
        "\n",
        "    @temperature.setter\n",
        "    def temperature(self, value):\n",
        "        print(\"Setting value...\")\n",
        "        if value < -273.15:\n",
        "            raise ValueError(\"Temperature below -273 is not possible\")\n",
        "        self._tttemperature = value\n",
        "\n",
        "\n",
        "# create an object\n",
        "human = Celsius(37)\n",
        "\n",
        "print(human.temperature)\n",
        "\n",
        "print(human.to_fahrenheit())\n",
        "\n",
        "coldest_thing = Celsius(-300)"
      ],
      "metadata": {
        "id": "cLsnFl0P703F",
        "outputId": "722c5d26-ce11-4cb2-938e-b33c5e5ab802",
        "colab": {
          "base_uri": "https://localhost:8080/",
          "height": 461
        }
      },
      "execution_count": null,
      "outputs": [
        {
          "output_type": "stream",
          "name": "stdout",
          "text": [
            "Setting value...\n",
            "Getting value...\n",
            "37\n",
            "Getting value...\n",
            "98.60000000000001\n",
            "Setting value...\n"
          ]
        },
        {
          "output_type": "error",
          "ename": "ValueError",
          "evalue": "ignored",
          "traceback": [
            "\u001b[0;31m---------------------------------------------------------------------------\u001b[0m",
            "\u001b[0;31mValueError\u001b[0m                                Traceback (most recent call last)",
            "\u001b[0;32m<ipython-input-122-5744bb0d6f12>\u001b[0m in \u001b[0;36m<module>\u001b[0;34m\u001b[0m\n\u001b[1;32m     27\u001b[0m \u001b[0mprint\u001b[0m\u001b[0;34m(\u001b[0m\u001b[0mhuman\u001b[0m\u001b[0;34m.\u001b[0m\u001b[0mto_fahrenheit\u001b[0m\u001b[0;34m(\u001b[0m\u001b[0;34m)\u001b[0m\u001b[0;34m)\u001b[0m\u001b[0;34m\u001b[0m\u001b[0;34m\u001b[0m\u001b[0m\n\u001b[1;32m     28\u001b[0m \u001b[0;34m\u001b[0m\u001b[0m\n\u001b[0;32m---> 29\u001b[0;31m \u001b[0mcoldest_thing\u001b[0m \u001b[0;34m=\u001b[0m \u001b[0mCelsius\u001b[0m\u001b[0;34m(\u001b[0m\u001b[0;34m-\u001b[0m\u001b[0;36m300\u001b[0m\u001b[0;34m)\u001b[0m\u001b[0;34m\u001b[0m\u001b[0;34m\u001b[0m\u001b[0m\n\u001b[0m",
            "\u001b[0;32m<ipython-input-122-5744bb0d6f12>\u001b[0m in \u001b[0;36m__init__\u001b[0;34m(self, temperature)\u001b[0m\n\u001b[1;32m      2\u001b[0m \u001b[0;32mclass\u001b[0m \u001b[0mCelsius\u001b[0m\u001b[0;34m:\u001b[0m\u001b[0;34m\u001b[0m\u001b[0;34m\u001b[0m\u001b[0m\n\u001b[1;32m      3\u001b[0m     \u001b[0;32mdef\u001b[0m \u001b[0m__init__\u001b[0m\u001b[0;34m(\u001b[0m\u001b[0mself\u001b[0m\u001b[0;34m,\u001b[0m \u001b[0mtemperature\u001b[0m\u001b[0;34m=\u001b[0m\u001b[0;36m0\u001b[0m\u001b[0;34m)\u001b[0m\u001b[0;34m:\u001b[0m\u001b[0;34m\u001b[0m\u001b[0;34m\u001b[0m\u001b[0m\n\u001b[0;32m----> 4\u001b[0;31m         \u001b[0mself\u001b[0m\u001b[0;34m.\u001b[0m\u001b[0mtemperature\u001b[0m \u001b[0;34m=\u001b[0m \u001b[0mtemperature\u001b[0m\u001b[0;34m\u001b[0m\u001b[0;34m\u001b[0m\u001b[0m\n\u001b[0m\u001b[1;32m      5\u001b[0m \u001b[0;34m\u001b[0m\u001b[0m\n\u001b[1;32m      6\u001b[0m     \u001b[0;32mdef\u001b[0m \u001b[0mto_fahrenheit\u001b[0m\u001b[0;34m(\u001b[0m\u001b[0mself\u001b[0m\u001b[0;34m)\u001b[0m\u001b[0;34m:\u001b[0m\u001b[0;34m\u001b[0m\u001b[0;34m\u001b[0m\u001b[0m\n",
            "\u001b[0;32m<ipython-input-122-5744bb0d6f12>\u001b[0m in \u001b[0;36mtemperature\u001b[0;34m(self, value)\u001b[0m\n\u001b[1;32m     16\u001b[0m         \u001b[0mprint\u001b[0m\u001b[0;34m(\u001b[0m\u001b[0;34m\"Setting value...\"\u001b[0m\u001b[0;34m)\u001b[0m\u001b[0;34m\u001b[0m\u001b[0;34m\u001b[0m\u001b[0m\n\u001b[1;32m     17\u001b[0m         \u001b[0;32mif\u001b[0m \u001b[0mvalue\u001b[0m \u001b[0;34m<\u001b[0m \u001b[0;34m-\u001b[0m\u001b[0;36m273.15\u001b[0m\u001b[0;34m:\u001b[0m\u001b[0;34m\u001b[0m\u001b[0;34m\u001b[0m\u001b[0m\n\u001b[0;32m---> 18\u001b[0;31m             \u001b[0;32mraise\u001b[0m \u001b[0mValueError\u001b[0m\u001b[0;34m(\u001b[0m\u001b[0;34m\"Temperature below -273 is not possible\"\u001b[0m\u001b[0;34m)\u001b[0m\u001b[0;34m\u001b[0m\u001b[0;34m\u001b[0m\u001b[0m\n\u001b[0m\u001b[1;32m     19\u001b[0m         \u001b[0mself\u001b[0m\u001b[0;34m.\u001b[0m\u001b[0m_tttemperature\u001b[0m \u001b[0;34m=\u001b[0m \u001b[0mvalue\u001b[0m\u001b[0;34m\u001b[0m\u001b[0;34m\u001b[0m\u001b[0m\n\u001b[1;32m     20\u001b[0m \u001b[0;34m\u001b[0m\u001b[0m\n",
            "\u001b[0;31mValueError\u001b[0m: Temperature below -273 is not possible"
          ]
        }
      ]
    },
    {
      "cell_type": "code",
      "source": [
        "\n",
        "        \n",
        "class Item:\n",
        "    def __init__(self,hitPower):\n",
        "        self.hitPower =hitPower\n",
        "    \n",
        "class GamePeice:\n",
        "   \n",
        "    def fight(self):\n",
        "        print(\"fight with {} Hit Power is {} \".format(self.item.__class__.__name__,self.item.hitPower))\n",
        "\n",
        "class Sword(Item):\n",
        "    def __init__(self,hitPower,length):\n",
        "        super().__init__(hitPower)\n",
        "        self.length = length\n",
        "        \n",
        "class Fist(Item):\n",
        "    pass\n",
        "   \n",
        "    \n",
        "class Human(GamePeice):\n",
        "    \n",
        "    def __init__(self,height):\n",
        "        self.height = height\n",
        "        self.item = Fist(3.0)\n",
        "\n",
        "\n",
        "\n",
        "class Swordman(Human):\n",
        "    \n",
        "    def __init__(self,height,swardHitPower,length):        \n",
        "        super().__init__(height)\n",
        "        self.item = Sword(swardHitPower,length)\n",
        "        \n",
        "        \n",
        "aMan = Human(180)\n",
        "aMan.fight()\n",
        "\n",
        "aSwordMan = Swordman(170,213,1.0)\n",
        "aSwordMan.fight()"
      ],
      "metadata": {
        "id": "PTR3djeE72q6",
        "outputId": "f739e371-f62b-4d68-afc8-d5ae7d4d92a4",
        "colab": {
          "base_uri": "https://localhost:8080/"
        }
      },
      "execution_count": null,
      "outputs": [
        {
          "output_type": "stream",
          "name": "stdout",
          "text": [
            "fight with Fist Hit Power is 3.0 \n",
            "fight with Sword Hit Power is 213 \n"
          ]
        }
      ]
    },
    {
      "cell_type": "code",
      "source": [],
      "metadata": {
        "id": "HHYrVfcx7353"
      },
      "execution_count": null,
      "outputs": []
    }
  ]
}