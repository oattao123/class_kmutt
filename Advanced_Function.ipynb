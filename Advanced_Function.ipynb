{
  "nbformat": 4,
  "nbformat_minor": 0,
  "metadata": {
    "colab": {
      "provenance": [],
      "collapsed_sections": [],
      "authorship_tag": "ABX9TyOG2RBSsUPKRzCPod9RWDLH",
      "include_colab_link": true
    },
    "kernelspec": {
      "name": "python3",
      "display_name": "Python 3"
    },
    "language_info": {
      "name": "python"
    }
  },
  "cells": [
    {
      "cell_type": "markdown",
      "metadata": {
        "id": "view-in-github",
        "colab_type": "text"
      },
      "source": [
        "<a href=\"https://colab.research.google.com/github/12oattao21/class_python/blob/main/Advanced_Function.ipynb\" target=\"_parent\"><img src=\"https://colab.research.google.com/assets/colab-badge.svg\" alt=\"Open In Colab\"/></a>"
      ]
    },
    {
      "cell_type": "markdown",
      "source": [
        "recursive functions"
      ],
      "metadata": {
        "id": "AInnxfiawqwx"
      }
    },
    {
      "cell_type": "code",
      "execution_count": 1,
      "metadata": {
        "colab": {
          "base_uri": "https://localhost:8080/"
        },
        "id": "wK4LH2I3vuYg",
        "outputId": "612555a7-7671-489b-9cb9-463a2d1677f9"
      },
      "outputs": [
        {
          "output_type": "stream",
          "name": "stdout",
          "text": [
            "Enter a number:5\n",
            "120\n"
          ]
        }
      ],
      "source": [
        "# 2 * 3 * 4 * 5\n",
        "def fac(x):\n",
        "  f = 1\n",
        "  for i in range(2,x+1): # (เริ่ม,สุดท้าย+1เพราะไม่มีค่า)\n",
        "    f = f*i\n",
        "  return f\n",
        "num = int(input(\"Enter a number:\"))\n",
        "print(fac(num))"
      ]
    },
    {
      "cell_type": "code",
      "source": [
        "def fac(x):\n",
        "  if(x>1):\n",
        "    return fac(x-1)*x\n",
        "  else:\n",
        "    return 1\n",
        "num = int(input(\"Enter a number:\"))\n",
        "print(fac(num))"
      ],
      "metadata": {
        "colab": {
          "base_uri": "https://localhost:8080/"
        },
        "id": "iZH1bBXRxA0l",
        "outputId": "62b9831f-a53a-4a78-e87f-0fbd029cc193"
      },
      "execution_count": 2,
      "outputs": [
        {
          "output_type": "stream",
          "name": "stdout",
          "text": [
            "Enter a number:5\n",
            "120\n"
          ]
        }
      ]
    },
    {
      "cell_type": "code",
      "source": [
        "def f(k):\n",
        "  if(k > 0):\n",
        "    result = k + f(k - 1)\n",
        "    print(result)\n",
        "  else:\n",
        "    result = 0\n",
        "  return result\n",
        "num = int(input(\"Enter a number:\"))\n",
        "f(num)"
      ],
      "metadata": {
        "colab": {
          "base_uri": "https://localhost:8080/"
        },
        "id": "7UDAxFpmyL_c",
        "outputId": "b7b1b609-95ec-4ecf-bd16-1fd0f5cddca5"
      },
      "execution_count": 3,
      "outputs": [
        {
          "output_type": "stream",
          "name": "stdout",
          "text": [
            "Enter a number:5\n",
            "1\n",
            "3\n",
            "6\n",
            "10\n",
            "15\n"
          ]
        },
        {
          "output_type": "execute_result",
          "data": {
            "text/plain": [
              "15"
            ]
          },
          "metadata": {},
          "execution_count": 3
        }
      ]
    },
    {
      "cell_type": "code",
      "source": [
        "def countdown(n):\n",
        "  print(n)\n",
        "  if n == 0:\n",
        "    return\n",
        "  else:\n",
        "    countdown(n - 1)\n",
        "num = int(input(\"Enter a number:\"))\n",
        "countdown(num)"
      ],
      "metadata": {
        "id": "ShzNCjVby-0S"
      },
      "execution_count": null,
      "outputs": []
    },
    {
      "cell_type": "markdown",
      "source": [
        "nested functions"
      ],
      "metadata": {
        "id": "1jB2cJeSznHl"
      }
    },
    {
      "cell_type": "code",
      "source": [
        "def function1():\n",
        "  print(\"Hello from outer function\")\n",
        "\n",
        "  def function2():\n",
        "    print(\"Hello from inner function\")\n",
        "  function2()\n",
        "function1()"
      ],
      "metadata": {
        "colab": {
          "base_uri": "https://localhost:8080/"
        },
        "id": "bwWm68YJzsYF",
        "outputId": "ddf2baf1-ddb7-4f8c-c003-87b6a5b29011"
      },
      "execution_count": 4,
      "outputs": [
        {
          "output_type": "stream",
          "name": "stdout",
          "text": [
            "Hello from outer function\n",
            "Hello from inner function\n"
          ]
        }
      ]
    },
    {
      "cell_type": "code",
      "source": [
        "def num1(x):\n",
        "  def num2(y):\n",
        "    return x  * y\n",
        "  return num2\n",
        "  \n",
        "res = num1(10)\n",
        "print(res(5))"
      ],
      "metadata": {
        "colab": {
          "base_uri": "https://localhost:8080/"
        },
        "id": "qPiY-FIY0BVB",
        "outputId": "ba75bdd0-2ecc-46a3-dd6a-78c75e799f75"
      },
      "execution_count": 5,
      "outputs": [
        {
          "output_type": "stream",
          "name": "stdout",
          "text": [
            "50\n"
          ]
        }
      ]
    },
    {
      "cell_type": "code",
      "source": [
        "def f1():\n",
        "  s = 'I Love KMUTT.'\n",
        "  def f2():\n",
        "    print(s)\n",
        "  f2()\n",
        "f1()"
      ],
      "metadata": {
        "colab": {
          "base_uri": "https://localhost:8080/"
        },
        "id": "Ikv1B5C00jct",
        "outputId": "0329328f-b37d-4ebb-ddcd-3b1943fca2ef"
      },
      "execution_count": 8,
      "outputs": [
        {
          "output_type": "stream",
          "name": "stdout",
          "text": [
            "I Love KMUTT.\n"
          ]
        }
      ]
    },
    {
      "cell_type": "code",
      "source": [
        "def greeting(first,last):\n",
        "\n",
        "  def getFullName():\n",
        "    return first + \"\" + last\n",
        "  print(\"Hi, \" + getFullName() + \"!\")\n",
        "\n",
        "Name = input(\"What is your name?:\")\n",
        "Last = input(\"What is your last name?:\")\n",
        "\n",
        "print(greeting(Name,Last))"
      ],
      "metadata": {
        "colab": {
          "base_uri": "https://localhost:8080/"
        },
        "id": "nOd_PNH01A_a",
        "outputId": "e067dd29-f59b-4fd3-9156-2ed754ea0200"
      },
      "execution_count": 9,
      "outputs": [
        {
          "output_type": "stream",
          "name": "stdout",
          "text": [
            "What is your name?:Jack\n",
            "What is your last name?:Welch\n",
            "Hi, JackWelch!\n",
            "None\n"
          ]
        }
      ]
    },
    {
      "cell_type": "markdown",
      "source": [
        "Function with Multiple Return"
      ],
      "metadata": {
        "id": "Kg4cnTAi2Sn_"
      }
    },
    {
      "cell_type": "code",
      "source": [
        "def pow(x,n):\n",
        "  return [x**i for i in range(1,n+1)]\n",
        "print(pow(2,12))\n",
        "print(pow(3,7))"
      ],
      "metadata": {
        "colab": {
          "base_uri": "https://localhost:8080/"
        },
        "id": "0qw5PAfE2ams",
        "outputId": "00a6a27f-7fb0-4ed7-ccb5-e97570dfcbae"
      },
      "execution_count": 10,
      "outputs": [
        {
          "output_type": "stream",
          "name": "stdout",
          "text": [
            "[2, 4, 8, 16, 32, 64, 128, 256, 512, 1024, 2048, 4096]\n",
            "[3, 9, 27, 81, 243, 729, 2187]\n"
          ]
        }
      ]
    },
    {
      "cell_type": "code",
      "source": [
        "def test_function(value1,value2):\n",
        "  value1 += 1\n",
        "  value2 += 1\n",
        "  return value1,value2\n",
        "\n",
        "result1,result2 = test_function(1,2)\n",
        "print(result1)\n",
        "print(result2)"
      ],
      "metadata": {
        "colab": {
          "base_uri": "https://localhost:8080/"
        },
        "id": "9tDRSfNw3Opp",
        "outputId": "ee081896-2f86-4e9b-c60b-290872982da2"
      },
      "execution_count": 11,
      "outputs": [
        {
          "output_type": "stream",
          "name": "stdout",
          "text": [
            "2\n",
            "3\n"
          ]
        }
      ]
    },
    {
      "cell_type": "code",
      "source": [
        "def fun():\n",
        "  str = \"CSS 112 Computer Programming\"\n",
        "  x = 20\n",
        "  return str,x;\n",
        "\n",
        "str,x = fun()\n",
        "print(str)\n",
        "print(x)"
      ],
      "metadata": {
        "colab": {
          "base_uri": "https://localhost:8080/"
        },
        "id": "W_FwaDyZ4FT3",
        "outputId": "5833711f-be97-4b9d-d70a-fee1e43d9f88"
      },
      "execution_count": 15,
      "outputs": [
        {
          "output_type": "stream",
          "name": "stdout",
          "text": [
            "CSS 112 Computer Programming\n",
            "20\n"
          ]
        }
      ]
    },
    {
      "cell_type": "code",
      "source": [
        "def name():\n",
        "  return \"Johh\",\"Armin\"\n",
        "print(name())\n",
        "name_1 , name_2 = name()\n",
        "print(name_1,name_2)"
      ],
      "metadata": {
        "colab": {
          "base_uri": "https://localhost:8080/"
        },
        "id": "nrLDACMf4lxt",
        "outputId": "151f51e8-8689-4262-c247-8c3c610444e8"
      },
      "execution_count": 17,
      "outputs": [
        {
          "output_type": "stream",
          "name": "stdout",
          "text": [
            "('Johh', 'Armin')\n",
            "Johh Armin\n"
          ]
        }
      ]
    },
    {
      "cell_type": "code",
      "source": [
        "def getValues():\n",
        "  value1 = 10\n",
        "  value2 = 11\n",
        "  value3 = 12\n",
        "  return value1,value2,value3\n",
        "\n",
        "value1,value2,value3 = getValues()\n",
        "print(value1,value2,value3)"
      ],
      "metadata": {
        "colab": {
          "base_uri": "https://localhost:8080/"
        },
        "id": "-4G-U3Dz570q",
        "outputId": "9756880a-b962-49e1-8b9c-40101dfe8d1b"
      },
      "execution_count": 18,
      "outputs": [
        {
          "output_type": "stream",
          "name": "stdout",
          "text": [
            "10 11 12\n"
          ]
        }
      ]
    },
    {
      "cell_type": "code",
      "source": [
        "def my_string():\n",
        "  return \"Welcome\",\"to\",\"CSS 112\"\n",
        "value1,value2,value3 = my_string()\n",
        "print(value1)\n",
        "print(value2)\n",
        "print(value3)"
      ],
      "metadata": {
        "colab": {
          "base_uri": "https://localhost:8080/"
        },
        "id": "c_RBNEWx6WVA",
        "outputId": "74475241-2c3a-4cc5-ea93-3e4352a8d81f"
      },
      "execution_count": 19,
      "outputs": [
        {
          "output_type": "stream",
          "name": "stdout",
          "text": [
            "Welcome\n",
            "to\n",
            "CSS 112\n"
          ]
        }
      ]
    },
    {
      "cell_type": "code",
      "source": [
        "def my_string():\n",
        "  return [\"Welcom\",\"to\",\"CSS112\"]\n",
        "values = my_string()\n",
        "print(values)\n",
        "print(values[0])\n",
        "print(values[1])\n",
        "print(values[2])"
      ],
      "metadata": {
        "colab": {
          "base_uri": "https://localhost:8080/"
        },
        "id": "GvnZeyvv6uwj",
        "outputId": "cfdda5f3-c370-4b66-9c6b-b46369f29ac2"
      },
      "execution_count": 20,
      "outputs": [
        {
          "output_type": "stream",
          "name": "stdout",
          "text": [
            "['Welcom', 'to', 'CSS112']\n",
            "Welcom\n",
            "to\n",
            "CSS112\n"
          ]
        }
      ]
    },
    {
      "cell_type": "code",
      "source": [
        "def my_string():\n",
        "  return {1:'welcom',\n",
        "          2:'to',\n",
        "          3:'CSS 112'\n",
        "  }\n",
        "\n",
        "print(my_string())"
      ],
      "metadata": {
        "colab": {
          "base_uri": "https://localhost:8080/"
        },
        "id": "0Y1cIwfv7H9A",
        "outputId": "d9814c13-5fff-4f9a-b60a-fd966a7641c0"
      },
      "execution_count": 21,
      "outputs": [
        {
          "output_type": "stream",
          "name": "stdout",
          "text": [
            "{1: 'welcom', 2: 'to', 3: 'CSS 112'}\n"
          ]
        }
      ]
    },
    {
      "cell_type": "code",
      "source": [
        "def my_string():\n",
        "  return \"welcome\",\"to\",\"CSS 112\",\"welcome\",\"to\",\"CSS 112\"\n",
        "\n",
        "print(set(my_string()))"
      ],
      "metadata": {
        "colab": {
          "base_uri": "https://localhost:8080/"
        },
        "id": "FobkkenV7i1d",
        "outputId": "63fb4dc0-b0ec-433e-82c9-c1850517d28b"
      },
      "execution_count": 24,
      "outputs": [
        {
          "output_type": "stream",
          "name": "stdout",
          "text": [
            "{'CSS 112', 'to', 'welcome'}\n"
          ]
        }
      ]
    }
  ]
}