{
  "nbformat": 4,
  "nbformat_minor": 0,
  "metadata": {
    "colab": {
      "provenance": [],
      "authorship_tag": "ABX9TyNyJ1kn3PmuZx4At6h3RsiF",
      "include_colab_link": true
    },
    "kernelspec": {
      "name": "python3",
      "display_name": "Python 3"
    },
    "language_info": {
      "name": "python"
    }
  },
  "cells": [
    {
      "cell_type": "markdown",
      "metadata": {
        "id": "view-in-github",
        "colab_type": "text"
      },
      "source": [
        "<a href=\"https://colab.research.google.com/github/12oattao21/class_python/blob/main/function6.ipynb\" target=\"_parent\"><img src=\"https://colab.research.google.com/assets/colab-badge.svg\" alt=\"Open In Colab\"/></a>"
      ]
    },
    {
      "cell_type": "markdown",
      "source": [
        "User-defined Function - Parameters & Arguments"
      ],
      "metadata": {
        "id": "QMa4hj3Wyeds"
      }
    },
    {
      "cell_type": "code",
      "execution_count": null,
      "metadata": {
        "colab": {
          "base_uri": "https://localhost:8080/"
        },
        "id": "CUXzqjBuvSzO",
        "outputId": "29d4d43b-341f-4755-ec95-2e78533cf1da"
      },
      "outputs": [
        {
          "output_type": "stream",
          "name": "stdout",
          "text": [
            "My favourrite dog is Spiky\n"
          ]
        }
      ],
      "source": [
        "def my_func(dog4, dog3, dog2, dog1):\n",
        "  print(\"My favourrite dog is \" + dog3)\n",
        "\n",
        "my_func(dog1 = \"Richard\", dog2 = \"Ellis\", dog3 = \"Spiky\", dog4 = \"Timothy\")"
      ]
    },
    {
      "cell_type": "code",
      "source": [
        "def my_func(**students):\n",
        "  print(\"The student last name is \" + students[\"lastName\"])\n",
        "my_func(firstName = \"Emily\", lastName = \"Ross\")"
      ],
      "metadata": {
        "colab": {
          "base_uri": "https://localhost:8080/"
        },
        "id": "bRaena8lwNys",
        "outputId": "b3d0e2ec-0859-44a1-92ea-f17109577d52"
      },
      "execution_count": null,
      "outputs": [
        {
          "output_type": "stream",
          "name": "stdout",
          "text": [
            "The student last name is Ross\n"
          ]
        }
      ]
    },
    {
      "cell_type": "code",
      "source": [
        "def my_func(country = \"Thailand\"):\n",
        "  print(\"I am from \" + country)\n",
        "\n",
        "my_func(\"Englang\")\n",
        "my_func()\n",
        "my_func(\"Spain\")"
      ],
      "metadata": {
        "colab": {
          "base_uri": "https://localhost:8080/"
        },
        "id": "ICXfi3f_yDZw",
        "outputId": "0ff0dc65-ca91-4b9e-a889-c317f42f20ac"
      },
      "execution_count": null,
      "outputs": [
        {
          "output_type": "stream",
          "name": "stdout",
          "text": [
            "I am from Englang\n",
            "I am from Thailand\n",
            "I am from Spain\n"
          ]
        }
      ]
    },
    {
      "cell_type": "code",
      "source": [
        "def my_func(food):\n",
        "  for x in food:\n",
        "    print(x)\n",
        "fruits = [\"mango\", \"pineapple\", \"apple\"]\n",
        "\n",
        "my_func(fruits)"
      ],
      "metadata": {
        "colab": {
          "base_uri": "https://localhost:8080/"
        },
        "id": "on4pZXZLyoNN",
        "outputId": "772bd311-f35e-4d21-b152-7668471c475c"
      },
      "execution_count": null,
      "outputs": [
        {
          "output_type": "stream",
          "name": "stdout",
          "text": [
            "mango\n",
            "pineapple\n",
            "apple\n"
          ]
        }
      ]
    },
    {
      "cell_type": "code",
      "source": [
        "def my_func(x):\n",
        "  return 2 + x\n",
        "\n",
        "print(my_func(2))\n",
        "print(my_func(3))\n",
        "print(my_func(4))"
      ],
      "metadata": {
        "colab": {
          "base_uri": "https://localhost:8080/"
        },
        "id": "ZiT0yOMgy6Lt",
        "outputId": "c734dcd1-9d54-4e06-e825-82a96b8379ab"
      },
      "execution_count": null,
      "outputs": [
        {
          "output_type": "stream",
          "name": "stdout",
          "text": [
            "4\n",
            "5\n",
            "6\n"
          ]
        }
      ]
    },
    {
      "cell_type": "code",
      "source": [
        "f  = lambda x: x + 1\n",
        "print(f(2))\n",
        "print(f(8))\n",
        "\n",
        "g = lambda a,b: (a + b) / 2\n",
        "print(g(3, 5))\n",
        "print(g(10, 33))\n",
        "\n",
        "def make_incrementor(n):\n",
        "  return lambda x: x + n\n",
        "\n",
        "f = make_incrementor(13)\n",
        "print(f(0))\n",
        "print(f(1))\n",
        "print(f(5))"
      ],
      "metadata": {
        "colab": {
          "base_uri": "https://localhost:8080/"
        },
        "id": "B-CJcqaRzbNo",
        "outputId": "7c860e6f-dd0a-4f85-92a6-88023508b397"
      },
      "execution_count": null,
      "outputs": [
        {
          "output_type": "stream",
          "name": "stdout",
          "text": [
            "3\n",
            "9\n",
            "4.0\n",
            "21.5\n",
            "13\n",
            "14\n",
            "18\n"
          ]
        }
      ]
    },
    {
      "cell_type": "markdown",
      "source": [
        "User-defined Function"
      ],
      "metadata": {
        "id": "b-Q3bZjE2BAc"
      }
    },
    {
      "cell_type": "code",
      "source": [
        "def add(num1: int,num2: int) -> int:\n",
        "  \"\"\"Add two number\"\"\"\n",
        "  num3 = num1 + num2\n",
        "  return num3\n",
        "\n",
        "num1, num2 = 5,15\n",
        "ans = add(num1,num2)\n",
        "print(f\"The addition of {num1} and {num2} results {ans}\")\n",
        "add(5,15)"
      ],
      "metadata": {
        "colab": {
          "base_uri": "https://localhost:8080/"
        },
        "id": "gBAi_D9x09K-",
        "outputId": "fffd623e-efb6-435e-81eb-df731f4d55ea"
      },
      "execution_count": null,
      "outputs": [
        {
          "output_type": "stream",
          "name": "stdout",
          "text": [
            "The addition of 5 and 15 results 20\n"
          ]
        },
        {
          "output_type": "execute_result",
          "data": {
            "text/plain": [
              "20"
            ]
          },
          "metadata": {},
          "execution_count": 14
        }
      ]
    },
    {
      "cell_type": "code",
      "source": [
        "def number():\n",
        "  num = 30\n",
        "  print(\"Value of num inside the function: \", num)\n",
        "\n",
        "num = 20\n",
        "number()\n",
        "print(\"Value of num outside the function:\", num)"
      ],
      "metadata": {
        "colab": {
          "base_uri": "https://localhost:8080/"
        },
        "id": "p4rHrvZT282n",
        "outputId": "188581a0-582b-4a53-c57c-cc4b54c5922b"
      },
      "execution_count": null,
      "outputs": [
        {
          "output_type": "stream",
          "name": "stdout",
          "text": [
            "Value of num inside the function:  30\n",
            "Value of num outside the function: 20\n"
          ]
        }
      ]
    },
    {
      "cell_type": "code",
      "source": [
        "def square(num):\n",
        "  return num**2\n",
        "\n",
        "print(\"With return statement\")\n",
        "print(square(39))\n",
        "\n",
        "def square(num):\n",
        "  num**2\n",
        "\n",
        "print(\"Without return statement\")\n",
        "print(square(39))"
      ],
      "metadata": {
        "colab": {
          "base_uri": "https://localhost:8080/"
        },
        "id": "IX5cWH1G3j95",
        "outputId": "827a0600-8eff-4b8b-e763-b08c80998502"
      },
      "execution_count": null,
      "outputs": [
        {
          "output_type": "stream",
          "name": "stdout",
          "text": [
            "With return statement\n",
            "1521\n",
            "Without return statement\n",
            "None\n"
          ]
        }
      ]
    }
  ]
}