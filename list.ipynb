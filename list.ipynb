{
  "nbformat": 4,
  "nbformat_minor": 0,
  "metadata": {
    "colab": {
      "provenance": [],
      "authorship_tag": "ABX9TyOTg3BKAjCVm1ID0rL/wWa0",
      "include_colab_link": true
    },
    "kernelspec": {
      "name": "python3",
      "display_name": "Python 3"
    },
    "language_info": {
      "name": "python"
    }
  },
  "cells": [
    {
      "cell_type": "markdown",
      "metadata": {
        "id": "view-in-github",
        "colab_type": "text"
      },
      "source": [
        "<a href=\"https://colab.research.google.com/github/oattao123/class_kmutt/blob/main/list.ipynb\" target=\"_parent\"><img src=\"https://colab.research.google.com/assets/colab-badge.svg\" alt=\"Open In Colab\"/></a>"
      ]
    },
    {
      "cell_type": "markdown",
      "source": [
        "#List of List"
      ],
      "metadata": {
        "id": "lOa3OKH_46tT"
      }
    },
    {
      "cell_type": "code",
      "execution_count": 1,
      "metadata": {
        "colab": {
          "base_uri": "https://localhost:8080/"
        },
        "id": "I_7Sb7AJ4yHT",
        "outputId": "93bca24f-c64a-4470-a5c8-177822465ba1"
      },
      "outputs": [
        {
          "output_type": "stream",
          "name": "stdout",
          "text": [
            "['cc', 'dd', ['eee', 'fff']]\n"
          ]
        }
      ],
      "source": [
        "L = ['a', 'b', ['cc','dd',['eee','fff']], 'g','h']\n",
        "\n",
        "print(L[2])"
      ]
    },
    {
      "cell_type": "code",
      "source": [
        "print(L[2][2])"
      ],
      "metadata": {
        "colab": {
          "base_uri": "https://localhost:8080/"
        },
        "id": "Vbg4piSr5M9u",
        "outputId": "e6135bf2-fe26-41e2-9ec0-67c9eadba1fd"
      },
      "execution_count": 2,
      "outputs": [
        {
          "output_type": "stream",
          "name": "stdout",
          "text": [
            "['eee', 'fff']\n"
          ]
        }
      ]
    },
    {
      "cell_type": "code",
      "source": [
        "print(L[2][2][0])"
      ],
      "metadata": {
        "colab": {
          "base_uri": "https://localhost:8080/"
        },
        "id": "BBSZM9-45Vh0",
        "outputId": "ac7b312c-b17f-4e79-947c-657ace19bf91"
      },
      "execution_count": 3,
      "outputs": [
        {
          "output_type": "stream",
          "name": "stdout",
          "text": [
            "eee\n"
          ]
        }
      ]
    },
    {
      "cell_type": "code",
      "source": [
        "print(L[-3])"
      ],
      "metadata": {
        "colab": {
          "base_uri": "https://localhost:8080/"
        },
        "id": "JCCcP-vO5bbC",
        "outputId": "1abf04f4-e808-42f1-f166-441ba114faf8"
      },
      "execution_count": 4,
      "outputs": [
        {
          "output_type": "stream",
          "name": "stdout",
          "text": [
            "['cc', 'dd', ['eee', 'fff']]\n"
          ]
        }
      ]
    },
    {
      "cell_type": "code",
      "source": [
        "print(L[-3][-1])"
      ],
      "metadata": {
        "colab": {
          "base_uri": "https://localhost:8080/"
        },
        "id": "y3f-pIOX5kom",
        "outputId": "d2e38764-2531-49e2-8b2b-9e398a6c35b8"
      },
      "execution_count": 5,
      "outputs": [
        {
          "output_type": "stream",
          "name": "stdout",
          "text": [
            "['eee', 'fff']\n"
          ]
        }
      ]
    },
    {
      "cell_type": "code",
      "source": [
        "print(L[-3][-1][-2])"
      ],
      "metadata": {
        "colab": {
          "base_uri": "https://localhost:8080/"
        },
        "id": "CkWgsCqy5q8u",
        "outputId": "68ee19e6-fba1-4e7f-9788-ece28af00d14"
      },
      "execution_count": 6,
      "outputs": [
        {
          "output_type": "stream",
          "name": "stdout",
          "text": [
            "eee\n"
          ]
        }
      ]
    },
    {
      "cell_type": "code",
      "source": [
        "L = ['a', ['bb',['ccc','ddd'],'ee','ff'],'g','h']\n",
        "print(L[1][1][0]) #Positive index"
      ],
      "metadata": {
        "colab": {
          "base_uri": "https://localhost:8080/"
        },
        "id": "4CvqAlpq5u-O",
        "outputId": "ad214847-beca-4c55-dced-4cea35329b9e"
      },
      "execution_count": 7,
      "outputs": [
        {
          "output_type": "stream",
          "name": "stdout",
          "text": [
            "ccc\n"
          ]
        }
      ]
    },
    {
      "cell_type": "code",
      "source": [
        "print(L[-3][-3][-2]) #Negative index"
      ],
      "metadata": {
        "colab": {
          "base_uri": "https://localhost:8080/"
        },
        "id": "v0bVPg-56HaV",
        "outputId": "1319ddac-c067-4e87-d784-95cccde6a8c1"
      },
      "execution_count": 8,
      "outputs": [
        {
          "output_type": "stream",
          "name": "stdout",
          "text": [
            "ccc\n"
          ]
        }
      ]
    },
    {
      "cell_type": "code",
      "source": [
        "L[1][1] = 0\n",
        "print(L)"
      ],
      "metadata": {
        "colab": {
          "base_uri": "https://localhost:8080/"
        },
        "id": "CfsQ1dBJ6PjK",
        "outputId": "8e3c2c4d-994c-400c-a3a5-dd35e4833408"
      },
      "execution_count": 9,
      "outputs": [
        {
          "output_type": "stream",
          "name": "stdout",
          "text": [
            "['a', ['bb', 0, 'ee', 'ff'], 'g', 'h']\n"
          ]
        }
      ]
    },
    {
      "cell_type": "code",
      "source": [
        "L[1].append('xx')\n",
        "print(L)"
      ],
      "metadata": {
        "colab": {
          "base_uri": "https://localhost:8080/"
        },
        "id": "sLGSlnyF7BUe",
        "outputId": "b9bf1689-4eb1-45bc-f533-77b94cf6c89d"
      },
      "execution_count": 10,
      "outputs": [
        {
          "output_type": "stream",
          "name": "stdout",
          "text": [
            "['a', ['bb', 0, 'ee', 'ff', 'xx'], 'g', 'h']\n"
          ]
        }
      ]
    },
    {
      "cell_type": "code",
      "source": [
        "L[1].insert(0,'yyyy')\n",
        "print(L)"
      ],
      "metadata": {
        "colab": {
          "base_uri": "https://localhost:8080/"
        },
        "id": "icCvZyz_7IPF",
        "outputId": "6775e0a6-f9e4-4afc-8010-5e77caf91e71"
      },
      "execution_count": 11,
      "outputs": [
        {
          "output_type": "stream",
          "name": "stdout",
          "text": [
            "['a', ['yyyy', 'bb', 0, 'ee', 'ff', 'xx'], 'g', 'h']\n"
          ]
        }
      ]
    },
    {
      "cell_type": "code",
      "source": [
        "del L[1][1]\n",
        "print(L)"
      ],
      "metadata": {
        "colab": {
          "base_uri": "https://localhost:8080/"
        },
        "id": "gsHxFMZh7UUX",
        "outputId": "29a30dfb-a167-418d-b780-efd5e7dd673c"
      },
      "execution_count": 12,
      "outputs": [
        {
          "output_type": "stream",
          "name": "stdout",
          "text": [
            "['a', ['yyyy', 0, 'ee', 'ff', 'xx'], 'g', 'h']\n"
          ]
        }
      ]
    },
    {
      "cell_type": "code",
      "source": [
        "Lladd = ['yyyy', 0 , 'ee' , 'ff', 'xx']\n",
        "L[1].extend(Lladd)\n",
        "print(L)"
      ],
      "metadata": {
        "colab": {
          "base_uri": "https://localhost:8080/"
        },
        "id": "2sDncVK57Y6x",
        "outputId": "b0c3bf01-4a72-496b-da04-3f3d94590143"
      },
      "execution_count": 13,
      "outputs": [
        {
          "output_type": "stream",
          "name": "stdout",
          "text": [
            "['a', ['yyyy', 0, 'ee', 'ff', 'xx', 'yyyy', 0, 'ee', 'ff', 'xx'], 'g', 'h']\n"
          ]
        }
      ]
    },
    {
      "cell_type": "code",
      "source": [
        "L[1].remove('ee')\n",
        "print(L)"
      ],
      "metadata": {
        "colab": {
          "base_uri": "https://localhost:8080/"
        },
        "id": "gQaVOoBU7qnf",
        "outputId": "b902fd57-ce79-4db8-96c8-cd7ef5117dfa"
      },
      "execution_count": 15,
      "outputs": [
        {
          "output_type": "stream",
          "name": "stdout",
          "text": [
            "['a', ['yyyy', 0, 'ff', 'xx', 'yyyy', 0, 'ee', 'ff', 'xx'], 'g', 'h']\n"
          ]
        }
      ]
    },
    {
      "cell_type": "code",
      "source": [
        "L = ['a', ['bb', 'cc'], 'd']\n",
        "print(len(L))"
      ],
      "metadata": {
        "colab": {
          "base_uri": "https://localhost:8080/"
        },
        "id": "ce9SMZ2r70V7",
        "outputId": "dafe9cb3-e67c-41f8-d501-839eb6ef1c96"
      },
      "execution_count": 16,
      "outputs": [
        {
          "output_type": "stream",
          "name": "stdout",
          "text": [
            "3\n"
          ]
        }
      ]
    },
    {
      "cell_type": "code",
      "source": [
        "print(len(L[1]))"
      ],
      "metadata": {
        "colab": {
          "base_uri": "https://localhost:8080/"
        },
        "id": "AICfsOa-7_fm",
        "outputId": "82647100-0cd8-468d-fc5f-ad3445176a98"
      },
      "execution_count": 17,
      "outputs": [
        {
          "output_type": "stream",
          "name": "stdout",
          "text": [
            "2\n"
          ]
        }
      ]
    },
    {
      "cell_type": "code",
      "source": [
        "L = [[1,2,3],[4,5,6],[7,8,9]]\n",
        "for list in L:\n",
        "  for number in list:\n",
        "    print(number, end=' ')"
      ],
      "metadata": {
        "colab": {
          "base_uri": "https://localhost:8080/"
        },
        "id": "89mfBhYE8Cpb",
        "outputId": "986f2b4c-23ea-48f2-93f6-400e8049bda0"
      },
      "execution_count": 19,
      "outputs": [
        {
          "output_type": "stream",
          "name": "stdout",
          "text": [
            "1 2 3 4 5 6 7 8 9 "
          ]
        }
      ]
    },
    {
      "cell_type": "code",
      "source": [
        "L = ['a', ['yyyy', 0, 'ff', 'xx', 'yyyy', 0, 'ee', 'ff', 'xx'], 'g', 'h']\n",
        "print(L)"
      ],
      "metadata": {
        "colab": {
          "base_uri": "https://localhost:8080/"
        },
        "id": "V7wvDzv18PDE",
        "outputId": "5e021bb1-e27c-4d9c-fd46-443dd0a41079"
      },
      "execution_count": 21,
      "outputs": [
        {
          "output_type": "stream",
          "name": "stdout",
          "text": [
            "['a', ['yyyy', 0, 'ff', 'xx', 'yyyy', 0, 'ee', 'ff', 'xx'], 'g', 'h']\n"
          ]
        }
      ]
    },
    {
      "cell_type": "code",
      "source": [
        "for kL in L:\n",
        "  for i in kL:\n",
        "    if i == 'yyyy':\n",
        "      i = 'kkkk'"
      ],
      "metadata": {
        "id": "xQ2EYTaJ8aDv"
      },
      "execution_count": 22,
      "outputs": []
    },
    {
      "cell_type": "code",
      "source": [
        "print(L)"
      ],
      "metadata": {
        "colab": {
          "base_uri": "https://localhost:8080/"
        },
        "id": "0ghmFonm82EN",
        "outputId": "ca0685a4-b4e9-4f5a-a928-5e6597952ad5"
      },
      "execution_count": 23,
      "outputs": [
        {
          "output_type": "stream",
          "name": "stdout",
          "text": [
            "['a', ['yyyy', 0, 'ff', 'xx', 'yyyy', 0, 'ee', 'ff', 'xx'], 'g', 'h']\n"
          ]
        }
      ]
    },
    {
      "cell_type": "code",
      "source": [
        "L = ['a', ['yyyy', 0, 'ff', 'xx', 'yyyy', 0, 'ee', 'ff', 'xx'], [['g']], 'h']\n",
        "for kL in L:\n",
        "  for i in kL:\n",
        "    if i == ['g']:\n",
        "      i += ['gy']"
      ],
      "metadata": {
        "id": "QIrykg5384lM"
      },
      "execution_count": 25,
      "outputs": []
    },
    {
      "cell_type": "code",
      "source": [
        "print(L)"
      ],
      "metadata": {
        "colab": {
          "base_uri": "https://localhost:8080/"
        },
        "id": "MwN8Jla39Eob",
        "outputId": "a11592a2-0df4-4498-ab36-b851c91f2dea"
      },
      "execution_count": 26,
      "outputs": [
        {
          "output_type": "stream",
          "name": "stdout",
          "text": [
            "['a', ['yyyy', 0, 'ff', 'xx', 'yyyy', 0, 'ee', 'ff', 'xx'], [['g', 'gy']], 'h']\n"
          ]
        }
      ]
    },
    {
      "cell_type": "code",
      "source": [
        "L = ['a', ['yyyy', 0, 'ff', 'xx', 'yyyy', 0, 'ee', 'ff', 'xx'], 'g', 'h']\n",
        "\n",
        "for kL in L:\n",
        "  for i in kL:\n",
        "    if i == 'yyyy':\n",
        "      i = 'kkkk'"
      ],
      "metadata": {
        "id": "KpHVMtqx9Tff"
      },
      "execution_count": 29,
      "outputs": []
    },
    {
      "cell_type": "code",
      "source": [
        "print(L)"
      ],
      "metadata": {
        "colab": {
          "base_uri": "https://localhost:8080/"
        },
        "id": "42oMKYpe9gol",
        "outputId": "e8b1a436-0792-4504-a341-73f038327972"
      },
      "execution_count": 30,
      "outputs": [
        {
          "output_type": "stream",
          "name": "stdout",
          "text": [
            "['a', ['yyyy', 0, 'ff', 'xx', 'yyyy', 0, 'ee', 'ff', 'xx'], 'g', 'h']\n"
          ]
        }
      ]
    },
    {
      "cell_type": "code",
      "source": [
        "for kL in L:\n",
        "  for i in range(len(kL)):\n",
        "    if kL[i] == 'yyyy':\n",
        "      kL[i] = 'kkkk'"
      ],
      "metadata": {
        "id": "FOkaMRjb9jtT"
      },
      "execution_count": 31,
      "outputs": []
    },
    {
      "cell_type": "code",
      "source": [
        "print(L)"
      ],
      "metadata": {
        "colab": {
          "base_uri": "https://localhost:8080/"
        },
        "id": "k2GqHKKT97S4",
        "outputId": "e44aead8-42bb-4923-95df-853732530d36"
      },
      "execution_count": 32,
      "outputs": [
        {
          "output_type": "stream",
          "name": "stdout",
          "text": [
            "['a', ['kkkk', 0, 'ff', 'xx', 'kkkk', 0, 'ee', 'ff', 'xx'], 'g', 'h']\n"
          ]
        }
      ]
    },
    {
      "cell_type": "code",
      "source": [
        "lists = [[1,2,3],[4,5,6,7],[8,9]]\n",
        "[elem for sublist in lists for elem in sublist]"
      ],
      "metadata": {
        "colab": {
          "base_uri": "https://localhost:8080/"
        },
        "id": "qsYfAoXb98Sh",
        "outputId": "8322089e-6bb7-4c96-b50e-ba29d511bd79"
      },
      "execution_count": 35,
      "outputs": [
        {
          "output_type": "execute_result",
          "data": {
            "text/plain": [
              "[1, 2, 3, 4, 5, 6, 7, 8, 9]"
            ]
          },
          "metadata": {},
          "execution_count": 35
        }
      ]
    },
    {
      "cell_type": "code",
      "source": [
        "l = []\n",
        "for i in range(3):\n",
        "  for j in range(2):\n",
        "    l.append((i,j))\n",
        "  \n",
        "print(l)"
      ],
      "metadata": {
        "colab": {
          "base_uri": "https://localhost:8080/"
        },
        "id": "5AVs2ipP-N5z",
        "outputId": "d67e37b7-e854-4fe3-99b8-ebbfff4105b1"
      },
      "execution_count": 36,
      "outputs": [
        {
          "output_type": "stream",
          "name": "stdout",
          "text": [
            "[(0, 0), (0, 1), (1, 0), (1, 1), (2, 0), (2, 1)]\n"
          ]
        }
      ]
    },
    {
      "cell_type": "code",
      "source": [
        "ll = [(i,j) for i in range(3) for j in range(2)]\n",
        "print(ll)"
      ],
      "metadata": {
        "colab": {
          "base_uri": "https://localhost:8080/"
        },
        "id": "mOkoTz_w-2UZ",
        "outputId": "3817b066-7032-415c-e4de-4ac858de81a4"
      },
      "execution_count": 37,
      "outputs": [
        {
          "output_type": "stream",
          "name": "stdout",
          "text": [
            "[(0, 0), (0, 1), (1, 0), (1, 1), (2, 0), (2, 1)]\n"
          ]
        }
      ]
    },
    {
      "cell_type": "code",
      "source": [
        "fruits = ['apple','banana','carrot']\n",
        "num = [0,1,2]"
      ],
      "metadata": {
        "id": "4L7LQnhf_AcJ"
      },
      "execution_count": 74,
      "outputs": []
    },
    {
      "cell_type": "code",
      "source": [
        "lls = [(fruit,i) for fruit in fruits for i in num]"
      ],
      "metadata": {
        "id": "9Q9UOEG3AVmB"
      },
      "execution_count": 75,
      "outputs": []
    },
    {
      "cell_type": "code",
      "source": [
        "print(lls)"
      ],
      "metadata": {
        "colab": {
          "base_uri": "https://localhost:8080/"
        },
        "id": "n1j4HDgrAjVI",
        "outputId": "bdffcf22-c15c-40d6-ab70-d202bb75670d"
      },
      "execution_count": 76,
      "outputs": [
        {
          "output_type": "stream",
          "name": "stdout",
          "text": [
            "[('apple', 0), ('apple', 1), ('apple', 2), ('banana', 0), ('banana', 1), ('banana', 2), ('carrot', 0), ('carrot', 1), ('carrot', 2)]\n"
          ]
        }
      ]
    },
    {
      "cell_type": "code",
      "source": [
        "L = ['yyyy' , ['yyyy',0,'ff','xx','yyyy',0,'ee','ff','xx'],'g','h']\n",
        "print(L)"
      ],
      "metadata": {
        "colab": {
          "base_uri": "https://localhost:8080/"
        },
        "id": "Q12XbB2AAmUY",
        "outputId": "1092ecc3-f438-4092-a09c-68a216558836"
      },
      "execution_count": 77,
      "outputs": [
        {
          "output_type": "stream",
          "name": "stdout",
          "text": [
            "['yyyy', ['yyyy', 0, 'ff', 'xx', 'yyyy', 0, 'ee', 'ff', 'xx'], 'g', 'h']\n"
          ]
        }
      ]
    },
    {
      "cell_type": "code",
      "source": [],
      "metadata": {
        "id": "2yfUhtfJDftG"
      },
      "execution_count": null,
      "outputs": []
    }
  ]
}