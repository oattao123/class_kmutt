{
  "nbformat": 4,
  "nbformat_minor": 0,
  "metadata": {
    "colab": {
      "provenance": [],
      "collapsed_sections": [],
      "authorship_tag": "ABX9TyP+uL4Et6EMbh+UZe3bX9Cx",
      "include_colab_link": true
    },
    "kernelspec": {
      "name": "python3",
      "display_name": "Python 3"
    },
    "language_info": {
      "name": "python"
    }
  },
  "cells": [
    {
      "cell_type": "markdown",
      "metadata": {
        "id": "view-in-github",
        "colab_type": "text"
      },
      "source": [
        "<a href=\"https://colab.research.google.com/github/oattao123/class_kmutt/blob/main/map_zip_reduce_filer_any_all_Enumerate_sum_min_max.ipynb\" target=\"_parent\"><img src=\"https://colab.research.google.com/assets/colab-badge.svg\" alt=\"Open In Colab\"/></a>"
      ]
    },
    {
      "cell_type": "markdown",
      "source": [
        "#map"
      ],
      "metadata": {
        "id": "eRXIY0_c6ROV"
      }
    },
    {
      "cell_type": "code",
      "execution_count": 1,
      "metadata": {
        "colab": {
          "base_uri": "https://localhost:8080/"
        },
        "id": "b4PUDYod50YD",
        "outputId": "9c240c76-4692-4a0d-b5cf-815599cea3c7"
      },
      "outputs": [
        {
          "output_type": "stream",
          "name": "stdout",
          "text": [
            "<map object at 0x7f6403d46150>\n",
            "<class 'map'>\n",
            "[2, 3, 4, 5, 6]\n"
          ]
        }
      ],
      "source": [
        "def add_one(n):\n",
        "  return n+1\n",
        "\n",
        "number = [1,2,3,4,5]\n",
        "result = map(add_one,number)\n",
        "print(result)\n",
        "print(type(result))\n",
        "print(list(result))"
      ]
    },
    {
      "cell_type": "code",
      "source": [
        "numbers = (1,2,3,4,5)\n",
        "result = map(lambda x:x + 1, numbers)\n",
        "print(list(result))"
      ],
      "metadata": {
        "colab": {
          "base_uri": "https://localhost:8080/"
        },
        "id": "vuCYHCnc6PxV",
        "outputId": "9498db86-4532-477f-b5da-ad2bb135039d"
      },
      "execution_count": 2,
      "outputs": [
        {
          "output_type": "stream",
          "name": "stdout",
          "text": [
            "[2, 3, 4, 5, 6]\n"
          ]
        }
      ]
    },
    {
      "cell_type": "code",
      "source": [
        "def decode(word):\n",
        "  decode_dict = {'happy':'sad','home':'school'}\n",
        "  return decode_dict.get(word,word)\n",
        "\n",
        "llist = ['I', 'am', 'a', 'happy', 'child', 'at', 'home']\n",
        "anslist = list(map(decode,llist))\n",
        "print(anslist)"
      ],
      "metadata": {
        "colab": {
          "base_uri": "https://localhost:8080/"
        },
        "id": "EIk91ftb6k4C",
        "outputId": "9b66226c-b28a-4995-99ea-e17ed4c423fe"
      },
      "execution_count": 4,
      "outputs": [
        {
          "output_type": "stream",
          "name": "stdout",
          "text": [
            "['I', 'am', 'a', 'sad', 'child', 'at', 'school']\n"
          ]
        }
      ]
    },
    {
      "cell_type": "code",
      "source": [
        "num1 = [4,5,6]\n",
        "num2 = [5,6,7]\n",
        "result = map(lambda n1,n2: n1+n2,num1,num2)\n",
        "print(list(result))"
      ],
      "metadata": {
        "colab": {
          "base_uri": "https://localhost:8080/"
        },
        "id": "L6fpFjPA7vvT",
        "outputId": "0a0b3573-b26c-4728-b676-e0133cce5a68"
      },
      "execution_count": 5,
      "outputs": [
        {
          "output_type": "stream",
          "name": "stdout",
          "text": [
            "[9, 11, 13]\n"
          ]
        }
      ]
    },
    {
      "cell_type": "code",
      "source": [
        "thai_str_list =  ['ก','ข','ดาใจ','เงื้อง่า']\n",
        "d_thai_str_list = list(map(lambda x,y : x*y, thai_str_list, range(1,5)))\n",
        "print(d_thai_str_list)\n",
        "d_thai_str_tuple = list(map(lambda x,y : x*y, thai_str_list, range(1,5)))\n",
        "print(d_thai_str_tuple)"
      ],
      "metadata": {
        "colab": {
          "base_uri": "https://localhost:8080/"
        },
        "id": "qEmMK3JR8IUh",
        "outputId": "39c376fc-502a-4f85-ebc5-5815bdc05df4"
      },
      "execution_count": 6,
      "outputs": [
        {
          "output_type": "stream",
          "name": "stdout",
          "text": [
            "['ก', 'ขข', 'ดาใจดาใจดาใจ', 'เงื้อง่าเงื้อง่าเงื้อง่าเงื้อง่า']\n",
            "['ก', 'ขข', 'ดาใจดาใจดาใจ', 'เงื้อง่าเงื้อง่าเงื้อง่าเงื้อง่า']\n"
          ]
        }
      ]
    },
    {
      "cell_type": "code",
      "source": [
        "number = [2,3,4]\n",
        "result = list(map(lambda x:(x**2)*0.5,number))\n",
        "print(result)"
      ],
      "metadata": {
        "colab": {
          "base_uri": "https://localhost:8080/"
        },
        "id": "x9Z5S_1z-r0J",
        "outputId": "248472d1-af22-4920-98e0-3c67635d1525"
      },
      "execution_count": 7,
      "outputs": [
        {
          "output_type": "stream",
          "name": "stdout",
          "text": [
            "[2.0, 4.5, 8.0]\n"
          ]
        }
      ]
    },
    {
      "cell_type": "markdown",
      "source": [
        "#zip"
      ],
      "metadata": {
        "id": "3kqdMygP_d4b"
      }
    },
    {
      "cell_type": "code",
      "source": [
        "thai_str_list = ['ก','ข','ดาใจ','เงื้อง่า']\n",
        "dict(zip(thai_str_list,range(1,5)))"
      ],
      "metadata": {
        "colab": {
          "base_uri": "https://localhost:8080/"
        },
        "id": "cvMNrhNs_gyD",
        "outputId": "afd5ec8a-7953-485e-dd6b-43f7fe4febbb"
      },
      "execution_count": 8,
      "outputs": [
        {
          "output_type": "execute_result",
          "data": {
            "text/plain": [
              "{'ก': 1, 'ข': 2, 'ดาใจ': 3, 'เงื้อง่า': 4}"
            ]
          },
          "metadata": {},
          "execution_count": 8
        }
      ]
    },
    {
      "cell_type": "code",
      "source": [
        "dict(zip(map(lambda x,y : x*y, thai_str_list, range(1,5)), map(lambda x: x**2, range(4)))) "
      ],
      "metadata": {
        "colab": {
          "base_uri": "https://localhost:8080/"
        },
        "id": "znKzVORK_6sA",
        "outputId": "a209511e-28a8-475b-eaa6-57e9674c2b1a"
      },
      "execution_count": 9,
      "outputs": [
        {
          "output_type": "execute_result",
          "data": {
            "text/plain": [
              "{'ก': 0, 'ขข': 1, 'ดาใจดาใจดาใจ': 4, 'เงื้อง่าเงื้อง่าเงื้อง่าเงื้อง่า': 9}"
            ]
          },
          "metadata": {},
          "execution_count": 9
        }
      ]
    },
    {
      "cell_type": "code",
      "source": [
        "zip(['a','b','c'],[2,3,4])\n"
      ],
      "metadata": {
        "colab": {
          "base_uri": "https://localhost:8080/"
        },
        "id": "w2vnsUo0AnUb",
        "outputId": "77368543-bce7-4f7e-c5cf-9e1aaf505682"
      },
      "execution_count": 10,
      "outputs": [
        {
          "output_type": "execute_result",
          "data": {
            "text/plain": [
              "<zip at 0x7f63f7de9230>"
            ]
          },
          "metadata": {},
          "execution_count": 10
        }
      ]
    },
    {
      "cell_type": "code",
      "source": [
        "tuple(zip(['a','b','c'],[2,3,4]))"
      ],
      "metadata": {
        "colab": {
          "base_uri": "https://localhost:8080/"
        },
        "id": "AYvjmmubAw4q",
        "outputId": "49a3c512-c603-4875-8385-56f657d66ee0"
      },
      "execution_count": 11,
      "outputs": [
        {
          "output_type": "execute_result",
          "data": {
            "text/plain": [
              "(('a', 2), ('b', 3), ('c', 4))"
            ]
          },
          "metadata": {},
          "execution_count": 11
        }
      ]
    },
    {
      "cell_type": "code",
      "source": [
        "names = ['Apple','Google','Microsoft']\n",
        "ages = ['44','21','44']\n",
        "values = ['100','80','60']\n",
        "mapped_values = list(zip(names,ages,values))\n",
        "print(mapped_values)"
      ],
      "metadata": {
        "colab": {
          "base_uri": "https://localhost:8080/"
        },
        "id": "R_sB7NFoA4S7",
        "outputId": "dd0ab6f4-8a66-4a17-d812-55024c911a85"
      },
      "execution_count": 12,
      "outputs": [
        {
          "output_type": "stream",
          "name": "stdout",
          "text": [
            "[('Apple', '44', '100'), ('Google', '21', '80'), ('Microsoft', '44', '60')]\n"
          ]
        }
      ]
    },
    {
      "cell_type": "code",
      "source": [
        "names,ages,values = zip(*mapped_values)\n",
        "print(f\"The namges is {names}\")\n",
        "print(f\"The ages is {ages}\")\n",
        "print(f\"The values is {values}\")"
      ],
      "metadata": {
        "colab": {
          "base_uri": "https://localhost:8080/"
        },
        "id": "1zUHw11gBWMG",
        "outputId": "ad35a135-d269-4716-fcd0-b76bd932d1e4"
      },
      "execution_count": 14,
      "outputs": [
        {
          "output_type": "stream",
          "name": "stdout",
          "text": [
            "The namges is ('Apple', 'Google', 'Microsoft')\n",
            "The ages is ('44', '21', '44')\n",
            "The values is ('100', '80', '60')\n"
          ]
        }
      ]
    },
    {
      "cell_type": "code",
      "source": [
        "dict(zip(range(10),map(lambda x: x**2, range(10))))"
      ],
      "metadata": {
        "colab": {
          "base_uri": "https://localhost:8080/"
        },
        "id": "AuR84WV-Ldr7",
        "outputId": "bcc8cd9e-4ed8-412e-c288-9774c4bf4659"
      },
      "execution_count": 17,
      "outputs": [
        {
          "output_type": "execute_result",
          "data": {
            "text/plain": [
              "{0: 0, 1: 1, 2: 4, 3: 9, 4: 16, 5: 25, 6: 36, 7: 49, 8: 64, 9: 81}"
            ]
          },
          "metadata": {},
          "execution_count": 17
        }
      ]
    },
    {
      "cell_type": "markdown",
      "source": [
        "#reduce"
      ],
      "metadata": {
        "id": "cI6jBkvDOYAp"
      }
    },
    {
      "cell_type": "code",
      "source": [
        "from functools import reduce\n",
        "reduce(lambda a,b: a+b,[23,21,45,98])"
      ],
      "metadata": {
        "colab": {
          "base_uri": "https://localhost:8080/"
        },
        "id": "RkXEUhnLMJSE",
        "outputId": "4a52c49e-575a-41e1-e665-d77f671e66b8"
      },
      "execution_count": 18,
      "outputs": [
        {
          "output_type": "execute_result",
          "data": {
            "text/plain": [
              "187"
            ]
          },
          "metadata": {},
          "execution_count": 18
        }
      ]
    },
    {
      "cell_type": "code",
      "source": [
        "from functools import reduce\n",
        "\n",
        "def mini(a,b):\n",
        "  return a if a < b else b\n",
        "def maxi(a, b):\n",
        "  return a if a > b else b\n",
        "\n",
        "nums = [3,5,2,4,7,1]\n",
        "print('The minimun in the given list is',reduce(mini, nums))\n",
        "print('The maximun in the given list is',reduce(maxi, nums))"
      ],
      "metadata": {
        "colab": {
          "base_uri": "https://localhost:8080/"
        },
        "id": "c5cwZJREMz8Q",
        "outputId": "1f57f7f8-d506-4555-8887-b499aed6d835"
      },
      "execution_count": 20,
      "outputs": [
        {
          "output_type": "stream",
          "name": "stdout",
          "text": [
            "The minimun in the given list is 1\n",
            "The maximun in the given list is 7\n"
          ]
        }
      ]
    },
    {
      "cell_type": "code",
      "source": [
        "from functools import reduce\n",
        "ans = reduce(lambda a,b: a+b,[])\n",
        "print(ans)"
      ],
      "metadata": {
        "colab": {
          "base_uri": "https://localhost:8080/",
          "height": 200
        },
        "id": "OSDlqLYBNsuV",
        "outputId": "79e59c70-28b9-45f1-a889-dce2db17ea9b"
      },
      "execution_count": 21,
      "outputs": [
        {
          "output_type": "error",
          "ename": "TypeError",
          "evalue": "ignored",
          "traceback": [
            "\u001b[0;31m---------------------------------------------------------------------------\u001b[0m",
            "\u001b[0;31mTypeError\u001b[0m                                 Traceback (most recent call last)",
            "\u001b[0;32m<ipython-input-21-7c86271462f0>\u001b[0m in \u001b[0;36m<module>\u001b[0;34m\u001b[0m\n\u001b[1;32m      1\u001b[0m \u001b[0;32mfrom\u001b[0m \u001b[0mfunctools\u001b[0m \u001b[0;32mimport\u001b[0m \u001b[0mreduce\u001b[0m\u001b[0;34m\u001b[0m\u001b[0;34m\u001b[0m\u001b[0m\n\u001b[0;32m----> 2\u001b[0;31m \u001b[0mans\u001b[0m \u001b[0;34m=\u001b[0m \u001b[0mreduce\u001b[0m\u001b[0;34m(\u001b[0m\u001b[0;32mlambda\u001b[0m \u001b[0ma\u001b[0m\u001b[0;34m,\u001b[0m\u001b[0mb\u001b[0m\u001b[0;34m:\u001b[0m \u001b[0ma\u001b[0m\u001b[0;34m+\u001b[0m\u001b[0mb\u001b[0m\u001b[0;34m,\u001b[0m\u001b[0;34m[\u001b[0m\u001b[0;34m]\u001b[0m\u001b[0;34m)\u001b[0m\u001b[0;34m\u001b[0m\u001b[0;34m\u001b[0m\u001b[0m\n\u001b[0m\u001b[1;32m      3\u001b[0m \u001b[0mprint\u001b[0m\u001b[0;34m(\u001b[0m\u001b[0mans\u001b[0m\u001b[0;34m)\u001b[0m\u001b[0;34m\u001b[0m\u001b[0;34m\u001b[0m\u001b[0m\n",
            "\u001b[0;31mTypeError\u001b[0m: reduce() of empty sequence with no initial value"
          ]
        }
      ]
    },
    {
      "cell_type": "code",
      "source": [
        "def my_add(a,b):\n",
        "  result = a + b\n",
        "  print(f\"{a} + {b} = {result}\")\n",
        "  return result"
      ],
      "metadata": {
        "id": "txUxsIZcN_c0"
      },
      "execution_count": 22,
      "outputs": []
    },
    {
      "cell_type": "code",
      "source": [
        "from functools import reduce\n",
        "\n",
        "numbers = [0,1,2,3,4]\n",
        "reduce(my_add, numbers, 100)"
      ],
      "metadata": {
        "colab": {
          "base_uri": "https://localhost:8080/"
        },
        "id": "Rv2tTyb8OmMj",
        "outputId": "9525e0ea-609d-49f0-ac89-f38ceede1913"
      },
      "execution_count": 23,
      "outputs": [
        {
          "output_type": "stream",
          "name": "stdout",
          "text": [
            "100 + 0 = 100\n",
            "100 + 1 = 101\n",
            "101 + 2 = 103\n",
            "103 + 3 = 106\n",
            "106 + 4 = 110\n"
          ]
        },
        {
          "output_type": "execute_result",
          "data": {
            "text/plain": [
              "110"
            ]
          },
          "metadata": {},
          "execution_count": 23
        }
      ]
    },
    {
      "cell_type": "code",
      "source": [
        "from functools import reduce\n",
        "def str1(a):\n",
        "  c = a\n",
        "  print(str(a))\n",
        "  return c\n",
        "lis1 = list(range(10))\n",
        "reduce(str1,lis1,lis1) "
      ],
      "metadata": {
        "colab": {
          "base_uri": "https://localhost:8080/",
          "height": 200
        },
        "id": "1BL3T4JWOy95",
        "outputId": "7c770b30-9278-4fc2-88eb-7a360a9a43d8"
      },
      "execution_count": 87,
      "outputs": [
        {
          "output_type": "error",
          "ename": "TypeError",
          "evalue": "ignored",
          "traceback": [
            "\u001b[0;31m---------------------------------------------------------------------------\u001b[0m",
            "\u001b[0;31mTypeError\u001b[0m                                 Traceback (most recent call last)",
            "\u001b[0;32m<ipython-input-87-cf15cf4916c9>\u001b[0m in \u001b[0;36m<module>\u001b[0;34m\u001b[0m\n\u001b[1;32m      5\u001b[0m   \u001b[0;32mreturn\u001b[0m \u001b[0mc\u001b[0m\u001b[0;34m\u001b[0m\u001b[0;34m\u001b[0m\u001b[0m\n\u001b[1;32m      6\u001b[0m \u001b[0mlis1\u001b[0m \u001b[0;34m=\u001b[0m \u001b[0mlist\u001b[0m\u001b[0;34m(\u001b[0m\u001b[0mrange\u001b[0m\u001b[0;34m(\u001b[0m\u001b[0;36m10\u001b[0m\u001b[0;34m)\u001b[0m\u001b[0;34m)\u001b[0m\u001b[0;34m\u001b[0m\u001b[0;34m\u001b[0m\u001b[0m\n\u001b[0;32m----> 7\u001b[0;31m \u001b[0mreduce\u001b[0m\u001b[0;34m(\u001b[0m\u001b[0mstr1\u001b[0m\u001b[0;34m,\u001b[0m\u001b[0mlis1\u001b[0m\u001b[0;34m,\u001b[0m\u001b[0mlis1\u001b[0m\u001b[0;34m)\u001b[0m\u001b[0;34m\u001b[0m\u001b[0;34m\u001b[0m\u001b[0m\n\u001b[0m",
            "\u001b[0;31mTypeError\u001b[0m: str1() takes 1 positional argument but 2 were given"
          ]
        }
      ]
    },
    {
      "cell_type": "markdown",
      "source": [
        "#Filter"
      ],
      "metadata": {
        "id": "7QBrg-oVSIrX"
      }
    },
    {
      "cell_type": "code",
      "source": [
        "def func(variable):\n",
        "  letters = ['a','e','i','o','u']\n",
        "  if(variable.lower() in letters):\n",
        "    return True\n",
        "  else:\n",
        "    return False\n",
        "\n",
        "sequance = ['I','I','o','v','e','p','y','t','h','o','n']\n",
        "\n",
        "filtered = list(filter(func,sequance))\n",
        "print(f\"The vowel in the sequance is {filtered}\")"
      ],
      "metadata": {
        "colab": {
          "base_uri": "https://localhost:8080/"
        },
        "id": "GgzENSgtSHog",
        "outputId": "becf4c6b-064d-45ec-bade-a8bef6b8ddc7"
      },
      "execution_count": 40,
      "outputs": [
        {
          "output_type": "stream",
          "name": "stdout",
          "text": [
            "The vowel in the sequance is ['I', 'I', 'o', 'e', 'o']\n"
          ]
        }
      ]
    },
    {
      "cell_type": "code",
      "source": [
        "def func1(var):\n",
        "  if(var % 2 == 0):\n",
        "    return True\n",
        "  else:\n",
        "    return False\n",
        "def func2(var):\n",
        " if(var > 0):\n",
        "   return True\n",
        " else:\n",
        "   return False\n",
        "knum = list(range(-5,5))\n",
        "fil = list(filter(func1,knum))\n",
        "fils = list(filter(func2,knum))\n",
        "\n",
        "print(fil)\n",
        "print(fils)"
      ],
      "metadata": {
        "colab": {
          "base_uri": "https://localhost:8080/"
        },
        "id": "LNC-Fp0pTZWs",
        "outputId": "ba69a144-d0e3-4d84-ba33-8687793bc74e"
      },
      "execution_count": 90,
      "outputs": [
        {
          "output_type": "stream",
          "name": "stdout",
          "text": [
            "[-4, -2, 0, 2, 4]\n",
            "[1, 2, 3, 4]\n"
          ]
        }
      ]
    },
    {
      "cell_type": "code",
      "source": [
        "def positive(num):\n",
        "  if num > 0:\n",
        "    return True\n",
        "  else:\n",
        "    return False\n",
        "  \n",
        "def even_number(num):\n",
        "  if num % 2 == 0:\n",
        "    return True\n",
        "  else:\n",
        "    return False\n",
        "  \n",
        "numbers = [1,-3.5,-20,0,9,12]\n",
        "positive_number = list(filter(positive,numbers))\n",
        "even_number = list(filter(even_number,numbers))\n",
        "\n",
        "print(f\"The positive number is:{positive_number}\")\n",
        "print(f\"The even number is {even_number}\")"
      ],
      "metadata": {
        "colab": {
          "base_uri": "https://localhost:8080/"
        },
        "id": "aaYRqpnNb4hA",
        "outputId": "adc05801-c327-477d-d29c-34183322de63"
      },
      "execution_count": 43,
      "outputs": [
        {
          "output_type": "stream",
          "name": "stdout",
          "text": [
            "The positive number is:[1, 9, 12]\n",
            "The even number is [-20, 0, 12]\n"
          ]
        }
      ]
    },
    {
      "cell_type": "markdown",
      "source": [
        "#All"
      ],
      "metadata": {
        "id": "QJJRXU6Ud3WB"
      }
    },
    {
      "cell_type": "code",
      "source": [
        "all([1,1,1,1,1])"
      ],
      "metadata": {
        "colab": {
          "base_uri": "https://localhost:8080/"
        },
        "id": "4Ty2bxnkdU_U",
        "outputId": "4a5d8f1a-320a-4864-d61d-fff49c3adf9c"
      },
      "execution_count": 44,
      "outputs": [
        {
          "output_type": "execute_result",
          "data": {
            "text/plain": [
              "True"
            ]
          },
          "metadata": {},
          "execution_count": 44
        }
      ]
    },
    {
      "cell_type": "code",
      "source": [
        "all([1,1,1,0,1])"
      ],
      "metadata": {
        "colab": {
          "base_uri": "https://localhost:8080/"
        },
        "id": "I2CZevlCd-Ql",
        "outputId": "7ac2e28a-e19e-40c5-85bc-aef753cf2ee1"
      },
      "execution_count": 45,
      "outputs": [
        {
          "output_type": "execute_result",
          "data": {
            "text/plain": [
              "False"
            ]
          },
          "metadata": {},
          "execution_count": 45
        }
      ]
    },
    {
      "cell_type": "code",
      "source": [
        "all([])"
      ],
      "metadata": {
        "colab": {
          "base_uri": "https://localhost:8080/"
        },
        "id": "63gl3m3teCJT",
        "outputId": "c73f9e4c-82b3-4224-8085-f778447a2c8b"
      },
      "execution_count": 46,
      "outputs": [
        {
          "output_type": "execute_result",
          "data": {
            "text/plain": [
              "True"
            ]
          },
          "metadata": {},
          "execution_count": 46
        }
      ]
    },
    {
      "cell_type": "code",
      "source": [
        "all(map(lambda x: x%2 == 0, map(lambda x:x*2,range(10))))"
      ],
      "metadata": {
        "colab": {
          "base_uri": "https://localhost:8080/"
        },
        "id": "AO3hUmlGeD0B",
        "outputId": "1f8b4e78-bd8c-4a39-d519-14ae4528f179"
      },
      "execution_count": 47,
      "outputs": [
        {
          "output_type": "execute_result",
          "data": {
            "text/plain": [
              "True"
            ]
          },
          "metadata": {},
          "execution_count": 47
        }
      ]
    },
    {
      "cell_type": "code",
      "source": [
        "print(list(map(lambda x: x%2 == 0, map(lambda x:x*2,range(10)))))"
      ],
      "metadata": {
        "colab": {
          "base_uri": "https://localhost:8080/"
        },
        "id": "KYpxgysOek2W",
        "outputId": "e40eb9ee-d103-4933-bd26-dbbe861582b0"
      },
      "execution_count": 51,
      "outputs": [
        {
          "output_type": "stream",
          "name": "stdout",
          "text": [
            "[True, True, True, True, True, True, True, True, True, True]\n"
          ]
        }
      ]
    },
    {
      "cell_type": "code",
      "source": [
        "all(map(lambda x: x%2==0,range(10)))"
      ],
      "metadata": {
        "colab": {
          "base_uri": "https://localhost:8080/"
        },
        "id": "nDUM1XVBeQap",
        "outputId": "4885bdda-45d2-4c16-9826-137493527d3e"
      },
      "execution_count": 48,
      "outputs": [
        {
          "output_type": "execute_result",
          "data": {
            "text/plain": [
              "False"
            ]
          },
          "metadata": {},
          "execution_count": 48
        }
      ]
    },
    {
      "cell_type": "code",
      "source": [
        "print(list(map(lambda x: x%2==0,range(10))))"
      ],
      "metadata": {
        "colab": {
          "base_uri": "https://localhost:8080/"
        },
        "id": "ewUGto4pedvX",
        "outputId": "4cddc94c-2082-4da4-ecbe-fd7f1e3fed71"
      },
      "execution_count": 53,
      "outputs": [
        {
          "output_type": "stream",
          "name": "stdout",
          "text": [
            "[True, False, True, False, True, False, True, False, True, False]\n"
          ]
        }
      ]
    },
    {
      "cell_type": "markdown",
      "source": [
        "#any"
      ],
      "metadata": {
        "id": "9ZhBq_kce6Ru"
      }
    },
    {
      "cell_type": "code",
      "source": [
        "a = list(map(lambda i: 0.00005*i+i , range(10)))\n",
        "print(a)"
      ],
      "metadata": {
        "colab": {
          "base_uri": "https://localhost:8080/"
        },
        "id": "1GwQWoh1ev3h",
        "outputId": "98b13249-8ffc-4ef8-deb8-b716b9c6f036"
      },
      "execution_count": 55,
      "outputs": [
        {
          "output_type": "stream",
          "name": "stdout",
          "text": [
            "[0.0, 1.00005, 2.0001, 3.00015, 4.0002, 5.00025, 6.0003, 7.00035, 8.0004, 9.00045]\n"
          ]
        }
      ]
    },
    {
      "cell_type": "code",
      "source": [
        "list(map(lambda a,b: a-b <1e-4,a,range(10)))"
      ],
      "metadata": {
        "colab": {
          "base_uri": "https://localhost:8080/"
        },
        "id": "2mpoo8rQfISN",
        "outputId": "5895f397-6885-4e20-96bd-4a6f8c60e4d7"
      },
      "execution_count": 57,
      "outputs": [
        {
          "output_type": "execute_result",
          "data": {
            "text/plain": [
              "[True, True, False, False, False, False, False, False, False, False]"
            ]
          },
          "metadata": {},
          "execution_count": 57
        }
      ]
    },
    {
      "cell_type": "code",
      "source": [
        "all(map(lambda a,b: a-b <1e-4,a,range(10)))"
      ],
      "metadata": {
        "colab": {
          "base_uri": "https://localhost:8080/"
        },
        "id": "kIkc_t-nfnBy",
        "outputId": "36a0eb5b-6060-46ad-ced4-0a96bfad191d"
      },
      "execution_count": 59,
      "outputs": [
        {
          "output_type": "execute_result",
          "data": {
            "text/plain": [
              "False"
            ]
          },
          "metadata": {},
          "execution_count": 59
        }
      ]
    },
    {
      "cell_type": "code",
      "source": [
        "any(map(lambda a,b: a-b <1e-4,a,range(10)))"
      ],
      "metadata": {
        "colab": {
          "base_uri": "https://localhost:8080/"
        },
        "id": "H7wEGQbvgCed",
        "outputId": "57d5d80e-763e-490f-b54f-bc7a7228ca51"
      },
      "execution_count": 60,
      "outputs": [
        {
          "output_type": "execute_result",
          "data": {
            "text/plain": [
              "True"
            ]
          },
          "metadata": {},
          "execution_count": 60
        }
      ]
    },
    {
      "cell_type": "code",
      "source": [],
      "metadata": {
        "colab": {
          "base_uri": "https://localhost:8080/",
          "height": 165
        },
        "id": "XO8F6JQZgR75",
        "outputId": "f04aac5f-ce42-40fc-cbb2-c6ef76a05c41"
      },
      "execution_count": 61,
      "outputs": [
        {
          "output_type": "error",
          "ename": "TypeError",
          "evalue": "ignored",
          "traceback": [
            "\u001b[0;31m---------------------------------------------------------------------------\u001b[0m",
            "\u001b[0;31mTypeError\u001b[0m                                 Traceback (most recent call last)",
            "\u001b[0;32m<ipython-input-61-81400e3adc12>\u001b[0m in \u001b[0;36m<module>\u001b[0;34m\u001b[0m\n\u001b[0;32m----> 1\u001b[0;31m \u001b[0mall\u001b[0m\u001b[0;34m(\u001b[0m\u001b[0mmap\u001b[0m\u001b[0;34m(\u001b[0m\u001b[0;32mlambda\u001b[0m \u001b[0ma\u001b[0m\u001b[0;34m,\u001b[0m\u001b[0mb\u001b[0m\u001b[0;34m:\u001b[0m \u001b[0ma\u001b[0m\u001b[0;34m-\u001b[0m\u001b[0mb\u001b[0m\u001b[0;34m,\u001b[0m\u001b[0ma\u001b[0m \u001b[0;34m=\u001b[0m \u001b[0;34m[\u001b[0m\u001b[0;36m1\u001b[0m\u001b[0;34m,\u001b[0m\u001b[0;36m2\u001b[0m\u001b[0;34m,\u001b[0m\u001b[0;36m3\u001b[0m\u001b[0;34m,\u001b[0m\u001b[0;36m4\u001b[0m\u001b[0;34m]\u001b[0m\u001b[0;34m,\u001b[0m\u001b[0mb\u001b[0m \u001b[0;34m=\u001b[0m \u001b[0;34m[\u001b[0m\u001b[0;36m2\u001b[0m\u001b[0;34m,\u001b[0m\u001b[0;36m3\u001b[0m\u001b[0;34m,\u001b[0m\u001b[0;36m4\u001b[0m\u001b[0;34m,\u001b[0m\u001b[0;36m5\u001b[0m\u001b[0;34m]\u001b[0m\u001b[0;34m)\u001b[0m\u001b[0;34m)\u001b[0m\u001b[0;34m\u001b[0m\u001b[0;34m\u001b[0m\u001b[0m\n\u001b[0m",
            "\u001b[0;31mTypeError\u001b[0m: map() takes no keyword arguments"
          ]
        }
      ]
    },
    {
      "cell_type": "code",
      "source": [
        "sum([2,1,3,4,7])"
      ],
      "metadata": {
        "colab": {
          "base_uri": "https://localhost:8080/"
        },
        "id": "ANT_zBVMh98k",
        "outputId": "8d1c505f-9317-4f44-d9db-571a127202e1"
      },
      "execution_count": 62,
      "outputs": [
        {
          "output_type": "execute_result",
          "data": {
            "text/plain": [
              "17"
            ]
          },
          "metadata": {},
          "execution_count": 62
        }
      ]
    },
    {
      "cell_type": "code",
      "source": [
        "numbers = [2,1,3,4,7,11,18]\n",
        "sum(n**2 for n in numbers)"
      ],
      "metadata": {
        "colab": {
          "base_uri": "https://localhost:8080/"
        },
        "id": "ZSSrmSfjiVRS",
        "outputId": "b2ac09ed-6a19-44f0-954f-5a8117c84988"
      },
      "execution_count": 65,
      "outputs": [
        {
          "output_type": "execute_result",
          "data": {
            "text/plain": [
              "524"
            ]
          },
          "metadata": {},
          "execution_count": 65
        }
      ]
    },
    {
      "cell_type": "code",
      "source": [
        "numbers = [2,1,3,4,7,11,18]"
      ],
      "metadata": {
        "id": "lOR7JIX-ihnb"
      },
      "execution_count": 69,
      "outputs": []
    },
    {
      "cell_type": "code",
      "source": [
        "min(numbers)"
      ],
      "metadata": {
        "colab": {
          "base_uri": "https://localhost:8080/"
        },
        "id": "Xje47wo0jOnl",
        "outputId": "2c834382-e109-4afb-eb52-a1496d4743f2"
      },
      "execution_count": 67,
      "outputs": [
        {
          "output_type": "execute_result",
          "data": {
            "text/plain": [
              "1"
            ]
          },
          "metadata": {},
          "execution_count": 67
        }
      ]
    },
    {
      "cell_type": "code",
      "source": [
        "max(numbers)"
      ],
      "metadata": {
        "colab": {
          "base_uri": "https://localhost:8080/"
        },
        "id": "mBQ6CHgPjVn2",
        "outputId": "2407d395-b21f-4837-b55b-0c11fa1267ee"
      },
      "execution_count": 68,
      "outputs": [
        {
          "output_type": "execute_result",
          "data": {
            "text/plain": [
              "18"
            ]
          },
          "metadata": {},
          "execution_count": 68
        }
      ]
    },
    {
      "cell_type": "code",
      "source": [
        "language = ['Python','Java','JavaScript']\n",
        "\n",
        "enumerate_prime = enumerate(language)\n",
        "print(list(enumerate_prime))"
      ],
      "metadata": {
        "colab": {
          "base_uri": "https://localhost:8080/"
        },
        "id": "l3lcBJu3jYKx",
        "outputId": "6c6389e4-b4f5-44f0-9342-d70aaf6868cf"
      },
      "execution_count": 70,
      "outputs": [
        {
          "output_type": "stream",
          "name": "stdout",
          "text": [
            "[(0, 'Python'), (1, 'Java'), (2, 'JavaScript')]\n"
          ]
        }
      ]
    },
    {
      "cell_type": "code",
      "source": [
        "grocery = ['bread','milk','butter']\n",
        "for item in enumerate(grocery):\n",
        "  print(item)\n",
        "print('\\n')\n",
        "\n",
        "for count, item in enumerate(grocery):\n",
        "  print(count, item)\n",
        "\n",
        "print('\\n')\n",
        "for count, item in enumerate(grocery,100):\n",
        "  print(count, item)"
      ],
      "metadata": {
        "colab": {
          "base_uri": "https://localhost:8080/"
        },
        "id": "vmpHwAHij8g3",
        "outputId": "d50d3ca6-6f1b-46bf-e6e2-6471ba8fa79b"
      },
      "execution_count": 71,
      "outputs": [
        {
          "output_type": "stream",
          "name": "stdout",
          "text": [
            "(0, 'bread')\n",
            "(1, 'milk')\n",
            "(2, 'butter')\n",
            "\n",
            "\n",
            "0 bread\n",
            "1 milk\n",
            "2 butter\n",
            "\n",
            "\n",
            "100 bread\n",
            "101 milk\n",
            "102 butter\n"
          ]
        }
      ]
    },
    {
      "cell_type": "code",
      "source": [
        "a = list(range(10,0,-1))"
      ],
      "metadata": {
        "id": "VosHUpcpkoLd"
      },
      "execution_count": 81,
      "outputs": []
    },
    {
      "cell_type": "code",
      "source": [
        "print(a)"
      ],
      "metadata": {
        "colab": {
          "base_uri": "https://localhost:8080/"
        },
        "id": "yUUNe_uT0aZk",
        "outputId": "ba432309-0c4a-4fb5-92a5-6e8e3f827fe3"
      },
      "execution_count": 82,
      "outputs": [
        {
          "output_type": "stream",
          "name": "stdout",
          "text": [
            "[10, 9, 8, 7, 6, 5, 4, 3, 2, 1]\n"
          ]
        }
      ]
    },
    {
      "cell_type": "code",
      "source": [
        "dict(zip(range(10),a))"
      ],
      "metadata": {
        "colab": {
          "base_uri": "https://localhost:8080/"
        },
        "id": "mqKduEJ-wXOX",
        "outputId": "0e917a5f-8d9d-4fd6-830a-fa1f94cf5826"
      },
      "execution_count": 83,
      "outputs": [
        {
          "output_type": "execute_result",
          "data": {
            "text/plain": [
              "{0: 10, 1: 9, 2: 8, 3: 7, 4: 6, 5: 5, 6: 4, 7: 3, 8: 2, 9: 1}"
            ]
          },
          "metadata": {},
          "execution_count": 83
        }
      ]
    },
    {
      "cell_type": "code",
      "source": [],
      "metadata": {
        "id": "dhLkY0o_wdle"
      },
      "execution_count": null,
      "outputs": []
    }
  ]
}