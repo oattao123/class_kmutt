{
  "nbformat": 4,
  "nbformat_minor": 0,
  "metadata": {
    "colab": {
      "provenance": [],
      "authorship_tag": "ABX9TyMX68YS2ATFmYmc9n/i4xFT",
      "include_colab_link": true
    },
    "kernelspec": {
      "name": "python3",
      "display_name": "Python 3"
    },
    "language_info": {
      "name": "python"
    }
  },
  "cells": [
    {
      "cell_type": "markdown",
      "metadata": {
        "id": "view-in-github",
        "colab_type": "text"
      },
      "source": [
        "<a href=\"https://colab.research.google.com/github/oattao123/class_kmutt/blob/main/Contents.ipynb\" target=\"_parent\"><img src=\"https://colab.research.google.com/assets/colab-badge.svg\" alt=\"Open In Colab\"/></a>"
      ]
    },
    {
      "cell_type": "markdown",
      "source": [
        "## list comprehension"
      ],
      "metadata": {
        "id": "TrRQ-u3H4i5l"
      }
    },
    {
      "cell_type": "code",
      "execution_count": 1,
      "metadata": {
        "colab": {
          "base_uri": "https://localhost:8080/"
        },
        "id": "C7Y3576ywVZN",
        "outputId": "bb2fcbb1-841e-41f6-c73f-58f52e2e47b0"
      },
      "outputs": [
        {
          "output_type": "stream",
          "name": "stdout",
          "text": [
            "['APPLE', 'BANANA', 'CHERRY', 'KIWI', 'MANGO']\n"
          ]
        }
      ],
      "source": [
        "fruits = [\"apple\",\"banana\",\"cherry\",\"kiwi\",\"mango\"]\n",
        "newlist = []\n",
        "\n",
        "for x in fruits:\n",
        "  newlist.append(x.upper())\n",
        "\n",
        "print(newlist)"
      ]
    },
    {
      "cell_type": "code",
      "source": [
        "fruits = [\"apple\",\"banana\",\"cherry\",\"kiwi\",\"mango\"]\n",
        "newlist = [i.upper() for i in fruits]\n",
        "print(newlist)"
      ],
      "metadata": {
        "colab": {
          "base_uri": "https://localhost:8080/"
        },
        "id": "V4Y9H52p3EiM",
        "outputId": "318593db-5cd9-4845-e6c3-3e8ad0eeb4cb"
      },
      "execution_count": 14,
      "outputs": [
        {
          "output_type": "stream",
          "name": "stdout",
          "text": [
            "['APPLE', 'BANANA', 'CHERRY', 'KIWI', 'MANGO']\n"
          ]
        }
      ]
    },
    {
      "cell_type": "code",
      "source": [
        "fruits = [\"apple\",\"banana\",\"chherry\",\"kiwi\",\"mango\"]\n",
        "\n",
        "newlist = [i.lower( ) for i in fruits]\n",
        "print(newlist)"
      ],
      "metadata": {
        "colab": {
          "base_uri": "https://localhost:8080/"
        },
        "id": "SVhI4w8I2lWG",
        "outputId": "9b3ec1f5-eeeb-43f9-af1d-e46444895cbb"
      },
      "execution_count": 21,
      "outputs": [
        {
          "output_type": "stream",
          "name": "stdout",
          "text": [
            "['apple', 'banana', 'chherry', 'kiwi', 'mango']\n"
          ]
        }
      ]
    },
    {
      "cell_type": "code",
      "source": [
        "fruits = [\"apple\",\"banana\",\"chherry\",\"kiwi\",\"mango\"]\n",
        "newlist = [i.capitalize() for i in fruits]\n",
        "print(newlist)"
      ],
      "metadata": {
        "colab": {
          "base_uri": "https://localhost:8080/"
        },
        "id": "wV3SBdLW484q",
        "outputId": "4bc98700-1832-4f5c-e09b-724ba4d6e28b"
      },
      "execution_count": 22,
      "outputs": [
        {
          "output_type": "stream",
          "name": "stdout",
          "text": [
            "['Apple', 'Banana', 'Chherry', 'Kiwi', 'Mango']\n"
          ]
        }
      ]
    },
    {
      "cell_type": "markdown",
      "source": [
        "#example"
      ],
      "metadata": {
        "id": "cy7L16RiMfON"
      }
    },
    {
      "cell_type": "code",
      "source": [
        "fruits = [\"apple\",\"banana\",\"chherry\",\"kiwi\",\"mango\"]\n",
        "newlist = [i[0].upper()+i[1:] for i in fruits]\n",
        "print(newlist)"
      ],
      "metadata": {
        "colab": {
          "base_uri": "https://localhost:8080/"
        },
        "id": "MVpMfxTC6orF",
        "outputId": "2dc67148-4116-4d78-d5c4-bf6d35395aa6"
      },
      "execution_count": 54,
      "outputs": [
        {
          "output_type": "stream",
          "name": "stdout",
          "text": [
            "['Apple', 'Banana', 'Chherry', 'Kiwi', 'Mango']\n"
          ]
        }
      ]
    },
    {
      "cell_type": "code",
      "source": [
        "fruits = [\"apple\",\"banana\",\"chherry\",\"kiwi\",\"mango\"]\n",
        "newlist = [i[0].lower() + i[1:].upper() for i in fruits]\n",
        "print(newlist)"
      ],
      "metadata": {
        "colab": {
          "base_uri": "https://localhost:8080/"
        },
        "id": "U0nygoZXMvu8",
        "outputId": "39287c08-5ecd-4edd-909c-9be3d915fb7a"
      },
      "execution_count": 56,
      "outputs": [
        {
          "output_type": "stream",
          "name": "stdout",
          "text": [
            "['aPPLE', 'bANANA', 'cHHERRY', 'kIWI', 'mANGO']\n"
          ]
        }
      ]
    },
    {
      "cell_type": "markdown",
      "source": [
        "#Call a function\n"
      ],
      "metadata": {
        "id": "TX31Z07C7mbl"
      }
    },
    {
      "cell_type": "code",
      "source": [
        "fruits = [\"apple\",\"banana\",\"chherry\",\"kiwi\",\"mango\"]\n",
        "fruits3 = fruits * 3\n",
        "\n",
        "def SequentialUpper(aStringInput,num):\n",
        "  n = num if num < len(aStringInput) else len(aStringInput) - 1\n",
        "  return aStringInput[0:n] + aStringInput[n].upper() + aStringInput[n+1:]\n",
        "\n",
        "newlist = [SequentialUpper(i,j) for j,i in enumerate(fruits3)]\n",
        "print(newlist)\n",
        "print(fruits3)\n",
        "print(fruits)"
      ],
      "metadata": {
        "colab": {
          "base_uri": "https://localhost:8080/"
        },
        "id": "tGCCFNsj7Da6",
        "outputId": "fe93ecd7-4885-49e7-ce7c-8b5abd742776"
      },
      "execution_count": 26,
      "outputs": [
        {
          "output_type": "stream",
          "name": "stdout",
          "text": [
            "['Apple', 'bAnana', 'chHerry', 'kiwI', 'mangO', 'applE', 'bananA', 'chherrY', 'kiwI', 'mangO', 'applE', 'bananA', 'chherrY', 'kiwI', 'mangO']\n",
            "['apple', 'banana', 'chherry', 'kiwi', 'mango', 'apple', 'banana', 'chherry', 'kiwi', 'mango', 'apple', 'banana', 'chherry', 'kiwi', 'mango']\n",
            "['apple', 'banana', 'chherry', 'kiwi', 'mango']\n"
          ]
        }
      ]
    },
    {
      "cell_type": "markdown",
      "source": [
        "#Example Ternary Operator"
      ],
      "metadata": {
        "id": "YKmSiP5QpATY"
      }
    },
    {
      "cell_type": "code",
      "source": [
        "fruits = [\"apple\",\"banana\",\"cherry\",\"kiwi\",\"mango\"]\n",
        "\n",
        "newfruits = [\"my \" + x if x == \"banana\" else x for x in fruits]\n",
        "print(fruits)\n",
        "print(newfruits)"
      ],
      "metadata": {
        "colab": {
          "base_uri": "https://localhost:8080/"
        },
        "id": "ibdfZ7h_-jjJ",
        "outputId": "054f527e-2512-438e-9cd2-15a8b4e13aa2"
      },
      "execution_count": 28,
      "outputs": [
        {
          "output_type": "stream",
          "name": "stdout",
          "text": [
            "['apple', 'banana', 'chherry', 'kiwi', 'mango']\n",
            "['apple', 'my banana', 'chherry', 'kiwi', 'mango']\n"
          ]
        }
      ]
    },
    {
      "cell_type": "markdown",
      "source": [
        "#Set Comprehension"
      ],
      "metadata": {
        "id": "pwUhCWNXpXp3"
      }
    },
    {
      "cell_type": "code",
      "source": [
        "fruits = {\"apple\" , \"banana\" , \"cherry\" , \"kiwi\" , \"mango\"}\n",
        "\n",
        "newfruits = [\"I like \" + x if x == \"apple\" else x for x in fruits]\n",
        "print(fruits)\n",
        "print(newfruits)"
      ],
      "metadata": {
        "colab": {
          "base_uri": "https://localhost:8080/"
        },
        "id": "Agiivsqg-_Xv",
        "outputId": "cdd496b8-007e-414f-d978-60d84b537fc5"
      },
      "execution_count": 59,
      "outputs": [
        {
          "output_type": "stream",
          "name": "stdout",
          "text": [
            "{'kiwi', 'cherry', 'banana', 'mango', 'apple'}\n",
            "['kiwi', 'cherry', 'banana', 'mango', 'I like apple']\n"
          ]
        }
      ]
    },
    {
      "cell_type": "markdown",
      "source": [
        "#List from Tuple"
      ],
      "metadata": {
        "id": "N4TqWIPJpfMR"
      }
    },
    {
      "cell_type": "code",
      "source": [
        "fruits = (\"apple\" , \"banana\" , \"cherry\" , \"kiwi\" , \"mango\")\n",
        "newlist = [x for x in fruits if \"a\" in x]\n",
        "print(newlist) "
      ],
      "metadata": {
        "colab": {
          "base_uri": "https://localhost:8080/"
        },
        "id": "_StD9xNU_Zlh",
        "outputId": "a8092239-0ba7-4ba1-b177-e9264bcd066e"
      },
      "execution_count": 31,
      "outputs": [
        {
          "output_type": "stream",
          "name": "stdout",
          "text": [
            "['apple', 'banana', 'mango']\n"
          ]
        }
      ]
    },
    {
      "cell_type": "code",
      "source": [
        "fruits = (\"apple\" , \"banana\" , \"cherry\" , \"kiwi\" , \"mango\")\n",
        "newtuple = (x for x in fruits if \"a\" in x)\n",
        "print(newtuple)"
      ],
      "metadata": {
        "colab": {
          "base_uri": "https://localhost:8080/"
        },
        "id": "PB3H2_p5_3s6",
        "outputId": "b18d1fc2-65c9-49e9-a44f-d5566531b8b5"
      },
      "execution_count": 33,
      "outputs": [
        {
          "output_type": "stream",
          "name": "stdout",
          "text": [
            "<generator object <genexpr> at 0x7f8254280ed0>\n"
          ]
        }
      ]
    },
    {
      "cell_type": "markdown",
      "source": [
        "#List Comprehension with List Constructor"
      ],
      "metadata": {
        "id": "t2og8Rd8pmXC"
      }
    },
    {
      "cell_type": "code",
      "source": [
        "numlist = list(range(20))\n",
        "print(numlist)\n",
        "\n",
        "numlist2 = list(2*i for i in range(20))\n",
        "print(numlist2)\n",
        "\n",
        "numlist3 = list( i**2 if i%2==0 else i/2 for i in range(20))\n",
        "print(numlist3)\n",
        "\n",
        "numlist4 = list( i**2 for i in range(20) if i%2==0)\n",
        "print(numlist4)"
      ],
      "metadata": {
        "colab": {
          "base_uri": "https://localhost:8080/"
        },
        "id": "NCxKvt_zALoJ",
        "outputId": "bee5ed69-12fa-49c4-d6b7-7570937e394c"
      },
      "execution_count": 34,
      "outputs": [
        {
          "output_type": "stream",
          "name": "stdout",
          "text": [
            "[0, 1, 2, 3, 4, 5, 6, 7, 8, 9, 10, 11, 12, 13, 14, 15, 16, 17, 18, 19]\n",
            "[0, 2, 4, 6, 8, 10, 12, 14, 16, 18, 20, 22, 24, 26, 28, 30, 32, 34, 36, 38]\n",
            "[0, 0.5, 4, 1.5, 16, 2.5, 36, 3.5, 64, 4.5, 100, 5.5, 144, 6.5, 196, 7.5, 256, 8.5, 324, 9.5]\n",
            "[0, 4, 16, 36, 64, 100, 144, 196, 256, 324]\n"
          ]
        }
      ]
    },
    {
      "cell_type": "markdown",
      "source": [
        "#Condition List Comprehension"
      ],
      "metadata": {
        "id": "Eco1jYORpu7g"
      }
    },
    {
      "cell_type": "code",
      "source": [
        "fruits = [\"apple\" , \"banana\" , \"cherry\" , \"kiwi\" , \"mango\"]\n",
        "newlist = [x for x in fruits if x != \"apple\"]\n",
        "print(newlist)"
      ],
      "metadata": {
        "colab": {
          "base_uri": "https://localhost:8080/"
        },
        "id": "Wc3sS2RQBOfd",
        "outputId": "b2feef0b-460b-4b00-c1dd-96753d90683f"
      },
      "execution_count": 35,
      "outputs": [
        {
          "output_type": "stream",
          "name": "stdout",
          "text": [
            "['banana', 'cherry', 'kiwi', 'mango']\n"
          ]
        }
      ]
    },
    {
      "cell_type": "markdown",
      "source": [
        "#Condition not in a list"
      ],
      "metadata": {
        "id": "n94YtY7Bp442"
      }
    },
    {
      "cell_type": "code",
      "source": [
        "fruits = [\"apple\" , \"banana\" , \"cherry\" , \"kiwi\" , \"mango\"]\n",
        "\n",
        "newlist = []\n",
        "for i in fruits:\n",
        "  if i != \"apple\":\n",
        "    newlist.append(i)\n",
        "print(newlist)"
      ],
      "metadata": {
        "colab": {
          "base_uri": "https://localhost:8080/"
        },
        "id": "hkLfKpT-BkaB",
        "outputId": "63a95473-180b-44c5-9081-650d68feea30"
      },
      "execution_count": 37,
      "outputs": [
        {
          "output_type": "stream",
          "name": "stdout",
          "text": [
            "['banana', 'cherry', 'kiwi', 'mango']\n"
          ]
        }
      ]
    },
    {
      "cell_type": "markdown",
      "source": [
        "#Nested Condition"
      ],
      "metadata": {
        "id": "eHhGqNmyqCR7"
      }
    },
    {
      "cell_type": "code",
      "source": [
        "alllist = list(range(20))\n",
        "print(alllist)\n",
        "\n",
        "evenlist = [i*2 for i in range(10)]\n",
        "print(evenlist)\n",
        "oddlist = [i for i in alllist if i not in evenlist]\n",
        "print(oddlist)"
      ],
      "metadata": {
        "colab": {
          "base_uri": "https://localhost:8080/"
        },
        "id": "e5h0nJxbBy3r",
        "outputId": "b4a8cbda-37f3-49db-b8c9-53ac71ddef4d"
      },
      "execution_count": 38,
      "outputs": [
        {
          "output_type": "stream",
          "name": "stdout",
          "text": [
            "[0, 1, 2, 3, 4, 5, 6, 7, 8, 9, 10, 11, 12, 13, 14, 15, 16, 17, 18, 19]\n",
            "[0, 2, 4, 6, 8, 10, 12, 14, 16, 18]\n",
            "[1, 3, 5, 7, 9, 11, 13, 15, 17, 19]\n"
          ]
        }
      ]
    },
    {
      "cell_type": "markdown",
      "source": [
        "#Excercise"
      ],
      "metadata": {
        "id": "fA6xtzpgqI1n"
      }
    },
    {
      "cell_type": "code",
      "source": [
        "numlist = list(range(20))\n",
        "print(numlist)\n",
        "\n",
        "numlist1 = list(i for i in range(20) if i%2==0 and i%3==0)\n",
        "print(numlist1)\n",
        "\n",
        "numlist3 = list(i for i in range(20) if i%2==0 if i%3==0)\n",
        "print(numlist2)"
      ],
      "metadata": {
        "colab": {
          "base_uri": "https://localhost:8080/"
        },
        "id": "ZekzOk02C4V5",
        "outputId": "6d1d8e70-9953-4ecb-cd62-3a7b41595f35"
      },
      "execution_count": 39,
      "outputs": [
        {
          "output_type": "stream",
          "name": "stdout",
          "text": [
            "[0, 1, 2, 3, 4, 5, 6, 7, 8, 9, 10, 11, 12, 13, 14, 15, 16, 17, 18, 19]\n",
            "[0, 6, 12, 18]\n",
            "[0, 2, 4, 6, 8, 10, 12, 14, 16, 18, 20, 22, 24, 26, 28, 30, 32, 34, 36, 38]\n"
          ]
        }
      ]
    },
    {
      "cell_type": "markdown",
      "source": [
        "#Dict Comprehension\n"
      ],
      "metadata": {
        "id": "7jCx37uOqNjn"
      }
    },
    {
      "cell_type": "code",
      "source": [
        "numlist = list(range(20))\n",
        "print(numlist)\n",
        "evenlist = list(i for i in numlist if i%2==0)\n",
        "print('your even number list',evenlist)"
      ],
      "metadata": {
        "colab": {
          "base_uri": "https://localhost:8080/"
        },
        "id": "F9ezUtFDDTI9",
        "outputId": "3bcbf876-e9c9-40c1-8802-6488c342c26f"
      },
      "execution_count": 41,
      "outputs": [
        {
          "output_type": "stream",
          "name": "stdout",
          "text": [
            "[0, 1, 2, 3, 4, 5, 6, 7, 8, 9, 10, 11, 12, 13, 14, 15, 16, 17, 18, 19]\n",
            "your even number list [0, 2, 4, 6, 8, 10, 12, 14, 16, 18]\n"
          ]
        }
      ]
    },
    {
      "cell_type": "markdown",
      "source": [
        "#Dict from two lists"
      ],
      "metadata": {
        "id": "8isCJ4v-qR16"
      }
    },
    {
      "cell_type": "code",
      "source": [
        "old_price = {'milk' : 1.02, 'coffee' : 2.5, 'bread' : 2.5}\n",
        "\n",
        "dollar_to_Baht = 38\n",
        "new_price = {item: value*dollar_to_Baht for (item, value) in old_price.items()}\n",
        "print(old_price.items())\n",
        "print(new_price)"
      ],
      "metadata": {
        "colab": {
          "base_uri": "https://localhost:8080/"
        },
        "id": "kSln3L2NEKrI",
        "outputId": "ff278416-d4c1-47fd-8ef6-3786d20706fc"
      },
      "execution_count": 44,
      "outputs": [
        {
          "output_type": "stream",
          "name": "stdout",
          "text": [
            "dict_items([('milk', 1.02), ('coffee', 2.5), ('bread', 2.5)])\n",
            "{'milk': 38.76, 'coffee': 95.0, 'bread': 95.0}\n"
          ]
        }
      ]
    },
    {
      "cell_type": "markdown",
      "source": [
        "#Two lists from a dict"
      ],
      "metadata": {
        "id": "0jXM6EPcqccI"
      }
    },
    {
      "cell_type": "code",
      "source": [
        "talads = ['milk', 'coffee', 'bread']\n",
        "prices = [1.02,2.5,2.6]\n",
        "old_price = {k:v for k,v in zip(talads,prices)}\n",
        "print(old_price)"
      ],
      "metadata": {
        "colab": {
          "base_uri": "https://localhost:8080/"
        },
        "id": "wrYglgBcFUTu",
        "outputId": "ba1beb63-afab-4f60-f6fc-e27132f0b72c"
      },
      "execution_count": 45,
      "outputs": [
        {
          "output_type": "stream",
          "name": "stdout",
          "text": [
            "{'milk': 1.02, 'coffee': 2.5, 'bread': 2.6}\n"
          ]
        }
      ]
    },
    {
      "cell_type": "markdown",
      "source": [
        "#Dict with condition"
      ],
      "metadata": {
        "id": "zPX9FxMYqf31"
      }
    },
    {
      "cell_type": "code",
      "source": [
        "taladdict = {'milk':1.2,'tea':2.4,'bread':3.6}\n",
        "taladitem = [k for k,v in taladdict.items()]\n",
        "taladval = [v for k,v in taladdict.items()]\n",
        "print(taladdict)\n",
        "print(taladitem)\n",
        "print(taladval)"
      ],
      "metadata": {
        "colab": {
          "base_uri": "https://localhost:8080/"
        },
        "id": "nzR186D1GJ51",
        "outputId": "127f2f09-b755-49cd-849e-6eb74f1a4878"
      },
      "execution_count": 46,
      "outputs": [
        {
          "output_type": "stream",
          "name": "stdout",
          "text": [
            "{'milk': 1.2, 'tea': 2.4, 'bread': 3.6}\n",
            "['milk', 'tea', 'bread']\n",
            "[1.2, 2.4, 3.6]\n"
          ]
        }
      ]
    },
    {
      "cell_type": "markdown",
      "source": [
        "#Dict with condition"
      ],
      "metadata": {
        "id": "rI4SPwZNqk6d"
      }
    },
    {
      "cell_type": "code",
      "source": [
        "talads = ['milk', 'coffee', 'bread']\n",
        "prices = [1.02,2.5,2.6]\n",
        "old_expensive_price = {k:v for k,v in zip(talads,prices) if v>1.5}\n",
        "old_no_e_price = {k:v for k,v in zip(talads,prices) if not \"e\" in k}\n",
        "print(old_expensive_price)\n",
        "print(old_no_e_price)"
      ],
      "metadata": {
        "colab": {
          "base_uri": "https://localhost:8080/"
        },
        "id": "YVTF4TWSG-A_",
        "outputId": "3737365c-0d85-40ad-f4a4-ea57757d810e"
      },
      "execution_count": 47,
      "outputs": [
        {
          "output_type": "stream",
          "name": "stdout",
          "text": [
            "{'coffee': 2.5, 'bread': 2.6}\n",
            "{'milk': 1.02}\n"
          ]
        }
      ]
    },
    {
      "cell_type": "markdown",
      "source": [
        "#Dict Comprehension"
      ],
      "metadata": {
        "id": "N8xf4UKzqq42"
      }
    },
    {
      "cell_type": "code",
      "source": [
        "square_dict = {num: num*num for num in range(1,11)}\n",
        "print(square_dict)"
      ],
      "metadata": {
        "colab": {
          "base_uri": "https://localhost:8080/"
        },
        "id": "TtLnlPiFHj_4",
        "outputId": "bea838d7-759f-4881-fef1-0164e14fb213"
      },
      "execution_count": 48,
      "outputs": [
        {
          "output_type": "stream",
          "name": "stdout",
          "text": [
            "{1: 1, 2: 4, 3: 9, 4: 16, 5: 25, 6: 36, 7: 49, 8: 64, 9: 81, 10: 100}\n"
          ]
        }
      ]
    },
    {
      "cell_type": "markdown",
      "source": [
        "#Dict from constructor"
      ],
      "metadata": {
        "id": "CD2d1IO3qusi"
      }
    },
    {
      "cell_type": "code",
      "source": [
        "taladdict = {'milk':1.2,'tea':2.5,'bread':3.6}\n",
        "taladitem = [k for k,v in taladdict.items()]\n",
        "taladval = [v for k,v in taladdict.items()]\n",
        "print(taladdict)\n",
        "print(taladitem)\n",
        "print(taladval)\n",
        "taladthaibaht = dict((k,v*3.8) for k,v in zip(taladitem,taladval))\n",
        "print(taladthaibaht)"
      ],
      "metadata": {
        "colab": {
          "base_uri": "https://localhost:8080/"
        },
        "id": "Wa1ElP_cH9o2",
        "outputId": "853db330-e52f-4a7b-8ff9-b40e2ec59cbb"
      },
      "execution_count": 49,
      "outputs": [
        {
          "output_type": "stream",
          "name": "stdout",
          "text": [
            "{'milk': 1.2, 'tea': 2.5, 'bread': 3.6}\n",
            "['milk', 'tea', 'bread']\n",
            "[1.2, 2.5, 3.6]\n",
            "{'milk': 4.56, 'tea': 9.5, 'bread': 13.68}\n"
          ]
        }
      ]
    },
    {
      "cell_type": "markdown",
      "source": [
        "return None"
      ],
      "metadata": {
        "id": "H6aeLJgJq-fi"
      }
    },
    {
      "cell_type": "code",
      "source": [
        "fruits = (\"apple\", \"banana\" , \"cherry\" , \"kiwi\" , \"mango\")\n",
        "newtuple = [print(x) for x in fruits if \"a\" in x]\n",
        "\n",
        "print(newtuple)"
      ],
      "metadata": {
        "colab": {
          "base_uri": "https://localhost:8080/"
        },
        "id": "pHfKYmncI3vf",
        "outputId": "0d28754d-24d9-45a6-ccf3-f6141ea2731e"
      },
      "execution_count": 50,
      "outputs": [
        {
          "output_type": "stream",
          "name": "stdout",
          "text": [
            "apple\n",
            "banana\n",
            "mango\n",
            "[None, None, None]\n"
          ]
        }
      ]
    },
    {
      "cell_type": "code",
      "source": [
        "fruits = ['oat','oats','oatss']\n",
        "num = list(range(1,3))\n",
        "dict_1 = {k:v for k,v in zip(fruits,num)}\n",
        "print(dict_1)"
      ],
      "metadata": {
        "colab": {
          "base_uri": "https://localhost:8080/"
        },
        "id": "X1HwPFYEJLm5",
        "outputId": "dbe7e4e0-b032-43d3-96db-abf297cc8b94"
      },
      "execution_count": 51,
      "outputs": [
        {
          "output_type": "stream",
          "name": "stdout",
          "text": [
            "{'oat': 1, 'oats': 2}\n"
          ]
        }
      ]
    },
    {
      "cell_type": "code",
      "source": [
        "dict_2 = {'oat': 1, 'oats': 2}\n",
        "list_1 = [k for k,v in dict_2.items()]\n",
        "list_2 = [v for k,v in dict_2.items()]\n",
        "print(list_1,list_2)"
      ],
      "metadata": {
        "colab": {
          "base_uri": "https://localhost:8080/"
        },
        "id": "Vw91EQ33KTP9",
        "outputId": "e54a001c-be77-4078-fcf8-ff2fc3bdd332"
      },
      "execution_count": 52,
      "outputs": [
        {
          "output_type": "stream",
          "name": "stdout",
          "text": [
            "['oat', 'oats'] [1, 2]\n"
          ]
        }
      ]
    }
  ]
}